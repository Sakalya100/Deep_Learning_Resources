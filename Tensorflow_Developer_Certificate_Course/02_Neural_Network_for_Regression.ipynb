{
  "nbformat": 4,
  "nbformat_minor": 0,
  "metadata": {
    "colab": {
      "provenance": []
    },
    "kernelspec": {
      "name": "python3",
      "display_name": "Python 3"
    },
    "language_info": {
      "name": "python"
    }
  },
  "cells": [
    {
      "cell_type": "markdown",
      "source": [
        "# Introduction to regression with Neural Networks in Tensorflow"
      ],
      "metadata": {
        "id": "O7ZhOA3HBuAb"
      }
    },
    {
      "cell_type": "code",
      "execution_count": null,
      "metadata": {
        "id": "rQz55DObbcHB",
        "colab": {
          "base_uri": "https://localhost:8080/"
        },
        "outputId": "95a18dcc-d1d5-4efd-c35b-8e71b8b54436"
      },
      "outputs": [
        {
          "output_type": "stream",
          "name": "stdout",
          "text": [
            "2.11.0\n"
          ]
        }
      ],
      "source": [
        "# Import Tensorflow\n",
        "import tensorflow as tf\n",
        "print(tf.__version__)"
      ]
    },
    {
      "cell_type": "markdown",
      "source": [
        "# Creating data to view and fit"
      ],
      "metadata": {
        "id": "slkX0TjYCB4i"
      }
    },
    {
      "cell_type": "code",
      "source": [
        "import numpy as np\n",
        "import matplotlib.pyplot as plt\n",
        "\n",
        "# Creating features\n",
        "X = np.array([-7.0, -4.0, -1.0, 2.0, 5.0, 8.0, 11.0, 14.0])\n",
        "\n",
        "# Creating labels\n",
        "y = np.array([3.0, 6.0, 9.0, 12.0, 15.0, 18.0, 21.0, 24.0])\n",
        "\n",
        "# Visiualise the data\n",
        "plt.scatter(X,y)"
      ],
      "metadata": {
        "colab": {
          "base_uri": "https://localhost:8080/",
          "height": 286
        },
        "id": "XSyqCQxIB24p",
        "outputId": "0de77aaf-da61-46f4-d5b0-7679e771461b"
      },
      "execution_count": null,
      "outputs": [
        {
          "output_type": "execute_result",
          "data": {
            "text/plain": [
              "<matplotlib.collections.PathCollection at 0x7f59b2f59b50>"
            ]
          },
          "metadata": {},
          "execution_count": 2
        },
        {
          "output_type": "display_data",
          "data": {
            "text/plain": [
              "<Figure size 432x288 with 1 Axes>"
            ],
            "image/png": "[encoded data removed]"
          },
          "metadata": {
            "needs_background": "light"
          }
        }
      ]
    },
    {
      "cell_type": "code",
      "source": [
        "y == X + 10"
      ],
      "metadata": {
        "colab": {
          "base_uri": "https://localhost:8080/"
        },
        "id": "AScboqdTC8OM",
        "outputId": "9231bd49-8937-4f5e-c480-a1e4e67fcf42"
      },
      "execution_count": null,
      "outputs": [
        {
          "output_type": "execute_result",
          "data": {
            "text/plain": [
              "array([ True,  True,  True,  True,  True,  True,  True,  True])"
            ]
          },
          "metadata": {},
          "execution_count": 3
        }
      ]
    },
    {
      "cell_type": "markdown",
      "source": [
        "# Input and Output Shapes"
      ],
      "metadata": {
        "id": "CzlW3EQhDNvz"
      }
    },
    {
      "cell_type": "code",
      "source": [
        "X.shape"
      ],
      "metadata": {
        "colab": {
          "base_uri": "https://localhost:8080/"
        },
        "id": "epH9qOZMDLkx",
        "outputId": "d1331a72-1c10-4c13-b421-81988c9b2a4e"
      },
      "execution_count": null,
      "outputs": [
        {
          "output_type": "execute_result",
          "data": {
            "text/plain": [
              "(8,)"
            ]
          },
          "metadata": {},
          "execution_count": 4
        }
      ]
    },
    {
      "cell_type": "code",
      "source": [
        "y.shape"
      ],
      "metadata": {
        "colab": {
          "base_uri": "https://localhost:8080/"
        },
        "id": "UE0Wr_PzDU1w",
        "outputId": "e1a4ae45-14af-4f3f-f9f9-e49eff002c95"
      },
      "execution_count": null,
      "outputs": [
        {
          "output_type": "execute_result",
          "data": {
            "text/plain": [
              "(8,)"
            ]
          },
          "metadata": {},
          "execution_count": 5
        }
      ]
    },
    {
      "cell_type": "code",
      "source": [
        "# Create a demo tensor for housing price prediction problem\n",
        "house_info = tf.constant(['bedroom','bathroom','garage'])\n",
        "house_price = tf.constant([939700])\n",
        "house_info, house_price"
      ],
      "metadata": {
        "colab": {
          "base_uri": "https://localhost:8080/"
        },
        "id": "u7oZVEHeDW5g",
        "outputId": "1788b7ba-c344-49fb-e28a-3381ca70ddd6"
      },
      "execution_count": null,
      "outputs": [
        {
          "output_type": "execute_result",
          "data": {
            "text/plain": [
              "(<tf.Tensor: shape=(3,), dtype=string, numpy=array([b'bedroom', b'bathroom', b'garage'], dtype=object)>,\n",
              " <tf.Tensor: shape=(1,), dtype=int32, numpy=array([939700], dtype=int32)>)"
            ]
          },
          "metadata": {},
          "execution_count": 6
        }
      ]
    },
    {
      "cell_type": "code",
      "source": [
        "# Turn our numpy arrays into tensors\n",
        "X = tf.cast(tf.constant(X), dtype= tf.float32)\n",
        "y = tf.cast(tf.constant(y), dtype= tf.float32)\n",
        "X,y"
      ],
      "metadata": {
        "colab": {
          "base_uri": "https://localhost:8080/"
        },
        "id": "UTWdEpn-D6tC",
        "outputId": "8ab47470-0e95-4231-8709-3811d3495b35"
      },
      "execution_count": null,
      "outputs": [
        {
          "output_type": "execute_result",
          "data": {
            "text/plain": [
              "(<tf.Tensor: shape=(8,), dtype=float32, numpy=array([-7., -4., -1.,  2.,  5.,  8., 11., 14.], dtype=float32)>,\n",
              " <tf.Tensor: shape=(8,), dtype=float32, numpy=array([ 3.,  6.,  9., 12., 15., 18., 21., 24.], dtype=float32)>)"
            ]
          },
          "metadata": {},
          "execution_count": 7
        }
      ]
    },
    {
      "cell_type": "markdown",
      "source": [
        "#  Steps in modelling with Tensorflow\n",
        "\n",
        "1. Creating a model - define the input and output layers, as well as the hidden layers of a deep learning model.\n",
        "2. Compile a model - define the loss function (in other words, the function which tells our model how wrong it is) and the optimizer(tells our model how to improve the patterns its learning) and evaluatio metrics(what we can use to interpret the performance of our model).\n",
        "3. Fitting a model - letting the model try to find patterns between X & y (features and labels)"
      ],
      "metadata": {
        "id": "SXkCLIyLGJ-P"
      }
    },
    {
      "cell_type": "code",
      "source": [
        "# set random see\n",
        "tf.random.set_seed(42)\n",
        "\n",
        "# 1. Create a  model using the Sequential API\n",
        "model = tf.keras.Sequential([\n",
        "    tf.keras.layers.Dense(1)\n",
        "])\n",
        "\n",
        "# 2. Compile the model\n",
        "\n",
        "model.compile(loss = tf.keras.losses.mae,\n",
        "              optimizer = tf.keras.optimizers.SGD(),\n",
        "              metrics=[\"mae\"])\n",
        "\n",
        "# 3. Fit the model\n",
        "model.fit(tf.expand_dims(X,axis=-1), y, epochs=5)"
      ],
      "metadata": {
        "colab": {
          "base_uri": "https://localhost:8080/"
        },
        "id": "1lSu6DzZEsAo",
        "outputId": "d60fe0bf-6a35-4788-cdaf-822345bf9345"
      },
      "execution_count": null,
      "outputs": [
        {
          "output_type": "stream",
          "name": "stdout",
          "text": [
            "Epoch 1/5\n",
            "1/1 [==============================] - 1s 877ms/step - loss: 15.8124 - mae: 15.8124\n",
            "Epoch 2/5\n",
            "1/1 [==============================] - 0s 13ms/step - loss: 15.5311 - mae: 15.5311\n",
            "Epoch 3/5\n",
            "1/1 [==============================] - 0s 14ms/step - loss: 15.2499 - mae: 15.2499\n",
            "Epoch 4/5\n",
            "1/1 [==============================] - 0s 15ms/step - loss: 14.9686 - mae: 14.9686\n",
            "Epoch 5/5\n",
            "1/1 [==============================] - 0s 12ms/step - loss: 14.7766 - mae: 14.7766\n"
          ]
        },
        {
          "output_type": "execute_result",
          "data": {
            "text/plain": [
              "<keras.callbacks.History at 0x7f59ac00c700>"
            ]
          },
          "metadata": {},
          "execution_count": 8
        }
      ]
    },
    {
      "cell_type": "code",
      "source": [
        "# Check out X and y\n",
        "X,y"
      ],
      "metadata": {
        "colab": {
          "base_uri": "https://localhost:8080/"
        },
        "id": "SdDK2STgGMbY",
        "outputId": "2cbbfb7c-c6aa-4764-e932-53905dea7682"
      },
      "execution_count": null,
      "outputs": [
        {
          "output_type": "execute_result",
          "data": {
            "text/plain": [
              "(<tf.Tensor: shape=(8,), dtype=float32, numpy=array([-7., -4., -1.,  2.,  5.,  8., 11., 14.], dtype=float32)>,\n",
              " <tf.Tensor: shape=(8,), dtype=float32, numpy=array([ 3.,  6.,  9., 12., 15., 18., 21., 24.], dtype=float32)>)"
            ]
          },
          "metadata": {},
          "execution_count": 9
        }
      ]
    },
    {
      "cell_type": "code",
      "source": [
        "# Try and make a prediction using our model\n",
        "y_pred = model.predict([17.0])\n",
        "y_pred"
      ],
      "metadata": {
        "colab": {
          "base_uri": "https://localhost:8080/"
        },
        "id": "nHonFy-3P-8M",
        "outputId": "21433157-2b91-4ded-b516-fe0f0f42fcdb"
      },
      "execution_count": null,
      "outputs": [
        {
          "output_type": "stream",
          "name": "stdout",
          "text": [
            "1/1 [==============================] - 0s 312ms/step\n"
          ]
        },
        {
          "output_type": "execute_result",
          "data": {
            "text/plain": [
              "array([[-5.711253]], dtype=float32)"
            ]
          },
          "metadata": {},
          "execution_count": 10
        }
      ]
    },
    {
      "cell_type": "markdown",
      "source": [
        "# Improving model\n",
        "\n",
        "We can improve our model, by altering the steps we took to create a model.\n",
        "\n",
        "1. **Creating a model** - here we might add more layers, increase the number of hidden units (all called neurons) within each of the hidden layers, change the activation function each layer.\n",
        "2. **Compiling a model** - herw we might change the optimization function or perhaps the learning rate of the optimization function\n",
        "3. **Fitting a model** - here we might fit a model for more epochs(leave it training for longer) or on more data(give the model more examples to learn from)\n"
      ],
      "metadata": {
        "id": "ZBN30y4CRomK"
      }
    },
    {
      "cell_type": "code",
      "source": [
        "# Rebuilding the model\n",
        "\n",
        "# 1. Create the model\n",
        "\n",
        "model = tf.keras.Sequential([\n",
        "    tf.keras.layers.Dense(1)\n",
        "])\n",
        "\n",
        "# 2. Compile the model\n",
        "model.compile(loss = tf.keras.losses.mae,\n",
        "              optimizer = tf.keras.optimizers.SGD(),\n",
        "              metrics = ['mae'])\n",
        "\n",
        "# 3. Fit the model\n",
        "model.fit(tf.expand_dims(X,axis=-1), y, epochs=100)"
      ],
      "metadata": {
        "colab": {
          "base_uri": "https://localhost:8080/"
        },
        "id": "hLRyGUQkQFda",
        "outputId": "b8258643-9763-499e-ab6c-3ca4fe47488c"
      },
      "execution_count": null,
      "outputs": [
        {
          "output_type": "stream",
          "name": "stdout",
          "text": [
            "Epoch 1/100\n",
            "1/1 [==============================] - 2s 2s/step - loss: 9.4421 - mae: 9.4421\n",
            "Epoch 2/100\n",
            "1/1 [==============================] - 0s 14ms/step - loss: 9.3096 - mae: 9.3096\n",
            "Epoch 3/100\n",
            "1/1 [==============================] - 0s 13ms/step - loss: 9.1771 - mae: 9.1771\n",
            "Epoch 4/100\n",
            "1/1 [==============================] - 0s 17ms/step - loss: 9.0446 - mae: 9.0446\n",
            "Epoch 5/100\n",
            "1/1 [==============================] - 0s 16ms/step - loss: 8.9121 - mae: 8.9121\n",
            "Epoch 6/100\n",
            "1/1 [==============================] - 0s 17ms/step - loss: 8.7796 - mae: 8.7796\n",
            "Epoch 7/100\n",
            "1/1 [==============================] - 0s 16ms/step - loss: 8.6471 - mae: 8.6471\n",
            "Epoch 8/100\n",
            "1/1 [==============================] - 0s 15ms/step - loss: 8.5146 - mae: 8.5146\n",
            "Epoch 9/100\n",
            "1/1 [==============================] - 0s 14ms/step - loss: 8.3821 - mae: 8.3821\n",
            "Epoch 10/100\n",
            "1/1 [==============================] - 0s 14ms/step - loss: 8.2496 - mae: 8.2496\n",
            "Epoch 11/100\n",
            "1/1 [==============================] - 0s 24ms/step - loss: 8.1171 - mae: 8.1171\n",
            "Epoch 12/100\n",
            "1/1 [==============================] - 0s 16ms/step - loss: 7.9846 - mae: 7.9846\n",
            "Epoch 13/100\n",
            "1/1 [==============================] - 0s 17ms/step - loss: 7.8521 - mae: 7.8521\n",
            "Epoch 14/100\n",
            "1/1 [==============================] - 0s 15ms/step - loss: 7.7196 - mae: 7.7196\n",
            "Epoch 15/100\n",
            "1/1 [==============================] - 0s 15ms/step - loss: 7.5871 - mae: 7.5871\n",
            "Epoch 16/100\n",
            "1/1 [==============================] - 0s 15ms/step - loss: 7.4546 - mae: 7.4546\n",
            "Epoch 17/100\n",
            "1/1 [==============================] - 0s 15ms/step - loss: 7.3800 - mae: 7.3800\n",
            "Epoch 18/100\n",
            "1/1 [==============================] - 0s 29ms/step - loss: 7.3744 - mae: 7.3744\n",
            "Epoch 19/100\n",
            "1/1 [==============================] - 0s 36ms/step - loss: 7.3687 - mae: 7.3687\n",
            "Epoch 20/100\n",
            "1/1 [==============================] - 0s 19ms/step - loss: 7.3631 - mae: 7.3631\n",
            "Epoch 21/100\n",
            "1/1 [==============================] - 0s 12ms/step - loss: 7.3575 - mae: 7.3575\n",
            "Epoch 22/100\n",
            "1/1 [==============================] - 0s 16ms/step - loss: 7.3519 - mae: 7.3519\n",
            "Epoch 23/100\n",
            "1/1 [==============================] - 0s 12ms/step - loss: 7.3463 - mae: 7.3463\n",
            "Epoch 24/100\n",
            "1/1 [==============================] - 0s 14ms/step - loss: 7.3406 - mae: 7.3406\n",
            "Epoch 25/100\n",
            "1/1 [==============================] - 0s 12ms/step - loss: 7.3350 - mae: 7.3350\n",
            "Epoch 26/100\n",
            "1/1 [==============================] - 0s 18ms/step - loss: 7.3294 - mae: 7.3294\n",
            "Epoch 27/100\n",
            "1/1 [==============================] - 0s 15ms/step - loss: 7.3238 - mae: 7.3238\n",
            "Epoch 28/100\n",
            "1/1 [==============================] - 0s 13ms/step - loss: 7.3181 - mae: 7.3181\n",
            "Epoch 29/100\n",
            "1/1 [==============================] - 0s 13ms/step - loss: 7.3125 - mae: 7.3125\n",
            "Epoch 30/100\n",
            "1/1 [==============================] - 0s 15ms/step - loss: 7.3069 - mae: 7.3069\n",
            "Epoch 31/100\n",
            "1/1 [==============================] - 0s 15ms/step - loss: 7.3012 - mae: 7.3012\n",
            "Epoch 32/100\n",
            "1/1 [==============================] - 0s 17ms/step - loss: 7.2956 - mae: 7.2956\n",
            "Epoch 33/100\n",
            "1/1 [==============================] - 0s 16ms/step - loss: 7.2900 - mae: 7.2900\n",
            "Epoch 34/100\n",
            "1/1 [==============================] - 0s 20ms/step - loss: 7.2844 - mae: 7.2844\n",
            "Epoch 35/100\n",
            "1/1 [==============================] - 0s 15ms/step - loss: 7.2787 - mae: 7.2787\n",
            "Epoch 36/100\n",
            "1/1 [==============================] - 0s 19ms/step - loss: 7.2731 - mae: 7.2731\n",
            "Epoch 37/100\n",
            "1/1 [==============================] - 0s 14ms/step - loss: 7.2675 - mae: 7.2675\n",
            "Epoch 38/100\n",
            "1/1 [==============================] - 0s 25ms/step - loss: 7.2619 - mae: 7.2619\n",
            "Epoch 39/100\n",
            "1/1 [==============================] - 0s 19ms/step - loss: 7.2562 - mae: 7.2562\n",
            "Epoch 40/100\n",
            "1/1 [==============================] - 0s 15ms/step - loss: 7.2506 - mae: 7.2506\n",
            "Epoch 41/100\n",
            "1/1 [==============================] - 0s 17ms/step - loss: 7.2450 - mae: 7.2450\n",
            "Epoch 42/100\n",
            "1/1 [==============================] - 0s 13ms/step - loss: 7.2394 - mae: 7.2394\n",
            "Epoch 43/100\n",
            "1/1 [==============================] - 0s 13ms/step - loss: 7.2338 - mae: 7.2338\n",
            "Epoch 44/100\n",
            "1/1 [==============================] - 0s 13ms/step - loss: 7.2281 - mae: 7.2281\n",
            "Epoch 45/100\n",
            "1/1 [==============================] - 0s 14ms/step - loss: 7.2225 - mae: 7.2225\n",
            "Epoch 46/100\n",
            "1/1 [==============================] - 0s 13ms/step - loss: 7.2169 - mae: 7.2169\n",
            "Epoch 47/100\n",
            "1/1 [==============================] - 0s 20ms/step - loss: 7.2112 - mae: 7.2112\n",
            "Epoch 48/100\n",
            "1/1 [==============================] - 0s 13ms/step - loss: 7.2056 - mae: 7.2056\n",
            "Epoch 49/100\n",
            "1/1 [==============================] - 0s 13ms/step - loss: 7.2000 - mae: 7.2000\n",
            "Epoch 50/100\n",
            "1/1 [==============================] - 0s 14ms/step - loss: 7.1944 - mae: 7.1944\n",
            "Epoch 51/100\n",
            "1/1 [==============================] - 0s 14ms/step - loss: 7.1888 - mae: 7.1888\n",
            "Epoch 52/100\n",
            "1/1 [==============================] - 0s 16ms/step - loss: 7.1831 - mae: 7.1831\n",
            "Epoch 53/100\n",
            "1/1 [==============================] - 0s 17ms/step - loss: 7.1775 - mae: 7.1775\n",
            "Epoch 54/100\n",
            "1/1 [==============================] - 0s 14ms/step - loss: 7.1719 - mae: 7.1719\n",
            "Epoch 55/100\n",
            "1/1 [==============================] - 0s 14ms/step - loss: 7.1663 - mae: 7.1663\n",
            "Epoch 56/100\n",
            "1/1 [==============================] - 0s 14ms/step - loss: 7.1606 - mae: 7.1606\n",
            "Epoch 57/100\n",
            "1/1 [==============================] - 0s 24ms/step - loss: 7.1550 - mae: 7.1550\n",
            "Epoch 58/100\n",
            "1/1 [==============================] - 0s 15ms/step - loss: 7.1494 - mae: 7.1494\n",
            "Epoch 59/100\n",
            "1/1 [==============================] - 0s 15ms/step - loss: 7.1438 - mae: 7.1438\n",
            "Epoch 60/100\n",
            "1/1 [==============================] - 0s 20ms/step - loss: 7.1381 - mae: 7.1381\n",
            "Epoch 61/100\n",
            "1/1 [==============================] - 0s 16ms/step - loss: 7.1325 - mae: 7.1325\n",
            "Epoch 62/100\n",
            "1/1 [==============================] - 0s 16ms/step - loss: 7.1269 - mae: 7.1269\n",
            "Epoch 63/100\n",
            "1/1 [==============================] - 0s 15ms/step - loss: 7.1213 - mae: 7.1213\n",
            "Epoch 64/100\n",
            "1/1 [==============================] - 0s 14ms/step - loss: 7.1156 - mae: 7.1156\n",
            "Epoch 65/100\n",
            "1/1 [==============================] - 0s 13ms/step - loss: 7.1100 - mae: 7.1100\n",
            "Epoch 66/100\n",
            "1/1 [==============================] - 0s 13ms/step - loss: 7.1044 - mae: 7.1044\n",
            "Epoch 67/100\n",
            "1/1 [==============================] - 0s 14ms/step - loss: 7.0988 - mae: 7.0988\n",
            "Epoch 68/100\n",
            "1/1 [==============================] - 0s 13ms/step - loss: 7.0931 - mae: 7.0931\n",
            "Epoch 69/100\n",
            "1/1 [==============================] - 0s 14ms/step - loss: 7.0875 - mae: 7.0875\n",
            "Epoch 70/100\n",
            "1/1 [==============================] - 0s 14ms/step - loss: 7.0819 - mae: 7.0819\n",
            "Epoch 71/100\n",
            "1/1 [==============================] - 0s 12ms/step - loss: 7.0763 - mae: 7.0763\n",
            "Epoch 72/100\n",
            "1/1 [==============================] - 0s 14ms/step - loss: 7.0706 - mae: 7.0706\n",
            "Epoch 73/100\n",
            "1/1 [==============================] - 0s 24ms/step - loss: 7.0650 - mae: 7.0650\n",
            "Epoch 74/100\n",
            "1/1 [==============================] - 0s 13ms/step - loss: 7.0594 - mae: 7.0594\n",
            "Epoch 75/100\n",
            "1/1 [==============================] - 0s 12ms/step - loss: 7.0538 - mae: 7.0538\n",
            "Epoch 76/100\n",
            "1/1 [==============================] - 0s 16ms/step - loss: 7.0481 - mae: 7.0481\n",
            "Epoch 77/100\n",
            "1/1 [==============================] - 0s 14ms/step - loss: 7.0425 - mae: 7.0425\n",
            "Epoch 78/100\n",
            "1/1 [==============================] - 0s 13ms/step - loss: 7.0369 - mae: 7.0369\n",
            "Epoch 79/100\n",
            "1/1 [==============================] - 0s 27ms/step - loss: 7.0312 - mae: 7.0312\n",
            "Epoch 80/100\n",
            "1/1 [==============================] - 0s 21ms/step - loss: 7.0256 - mae: 7.0256\n",
            "Epoch 81/100\n",
            "1/1 [==============================] - 0s 30ms/step - loss: 7.0200 - mae: 7.0200\n",
            "Epoch 82/100\n",
            "1/1 [==============================] - 0s 14ms/step - loss: 7.0144 - mae: 7.0144\n",
            "Epoch 83/100\n",
            "1/1 [==============================] - 0s 15ms/step - loss: 7.0087 - mae: 7.0087\n",
            "Epoch 84/100\n",
            "1/1 [==============================] - 0s 17ms/step - loss: 7.0031 - mae: 7.0031\n",
            "Epoch 85/100\n",
            "1/1 [==============================] - 0s 15ms/step - loss: 6.9975 - mae: 6.9975\n",
            "Epoch 86/100\n",
            "1/1 [==============================] - 0s 15ms/step - loss: 6.9919 - mae: 6.9919\n",
            "Epoch 87/100\n",
            "1/1 [==============================] - 0s 14ms/step - loss: 6.9863 - mae: 6.9863\n",
            "Epoch 88/100\n",
            "1/1 [==============================] - 0s 33ms/step - loss: 6.9806 - mae: 6.9806\n",
            "Epoch 89/100\n",
            "1/1 [==============================] - 0s 26ms/step - loss: 6.9750 - mae: 6.9750\n",
            "Epoch 90/100\n",
            "1/1 [==============================] - 0s 22ms/step - loss: 6.9694 - mae: 6.9694\n",
            "Epoch 91/100\n",
            "1/1 [==============================] - 0s 19ms/step - loss: 6.9638 - mae: 6.9638\n",
            "Epoch 92/100\n",
            "1/1 [==============================] - 0s 14ms/step - loss: 6.9581 - mae: 6.9581\n",
            "Epoch 93/100\n",
            "1/1 [==============================] - 0s 21ms/step - loss: 6.9525 - mae: 6.9525\n",
            "Epoch 94/100\n",
            "1/1 [==============================] - 0s 27ms/step - loss: 6.9469 - mae: 6.9469\n",
            "Epoch 95/100\n",
            "1/1 [==============================] - 0s 9ms/step - loss: 6.9413 - mae: 6.9413\n",
            "Epoch 96/100\n",
            "1/1 [==============================] - 0s 23ms/step - loss: 6.9356 - mae: 6.9356\n",
            "Epoch 97/100\n",
            "1/1 [==============================] - 0s 13ms/step - loss: 6.9300 - mae: 6.9300\n",
            "Epoch 98/100\n",
            "1/1 [==============================] - 0s 21ms/step - loss: 6.9244 - mae: 6.9244\n",
            "Epoch 99/100\n",
            "1/1 [==============================] - 0s 19ms/step - loss: 6.9188 - mae: 6.9188\n",
            "Epoch 100/100\n",
            "1/1 [==============================] - 0s 13ms/step - loss: 6.9131 - mae: 6.9131\n"
          ]
        },
        {
          "output_type": "execute_result",
          "data": {
            "text/plain": [
              "<keras.callbacks.History at 0x7f599ff8c4c0>"
            ]
          },
          "metadata": {},
          "execution_count": 11
        }
      ]
    },
    {
      "cell_type": "code",
      "source": [
        "X,y"
      ],
      "metadata": {
        "colab": {
          "base_uri": "https://localhost:8080/"
        },
        "id": "dOeU5PeyUPlp",
        "outputId": "f368d100-7ffc-4075-d10a-2541a47665b6"
      },
      "execution_count": null,
      "outputs": [
        {
          "output_type": "execute_result",
          "data": {
            "text/plain": [
              "(<tf.Tensor: shape=(8,), dtype=float32, numpy=array([-7., -4., -1.,  2.,  5.,  8., 11., 14.], dtype=float32)>,\n",
              " <tf.Tensor: shape=(8,), dtype=float32, numpy=array([ 3.,  6.,  9., 12., 15., 18., 21., 24.], dtype=float32)>)"
            ]
          },
          "metadata": {},
          "execution_count": 12
        }
      ]
    },
    {
      "cell_type": "code",
      "source": [
        "# Model Prediction\n",
        "y_pred = model.predict([17.0])"
      ],
      "metadata": {
        "colab": {
          "base_uri": "https://localhost:8080/"
        },
        "id": "hajOSyMJU4dc",
        "outputId": "359e1248-c7f6-4e42-c827-6b379098c453"
      },
      "execution_count": null,
      "outputs": [
        {
          "output_type": "stream",
          "name": "stdout",
          "text": [
            "1/1 [==============================] - 0s 79ms/step\n"
          ]
        }
      ]
    },
    {
      "cell_type": "code",
      "source": [
        "y_pred"
      ],
      "metadata": {
        "colab": {
          "base_uri": "https://localhost:8080/"
        },
        "id": "2jOs6FAeU-qg",
        "outputId": "42648ffc-aa1f-423f-9822-bbac97cb5a8f"
      },
      "execution_count": null,
      "outputs": [
        {
          "output_type": "execute_result",
          "data": {
            "text/plain": [
              "array([[30.019642]], dtype=float32)"
            ]
          },
          "metadata": {},
          "execution_count": 14
        }
      ]
    },
    {
      "cell_type": "code",
      "source": [
        "# Trying ourselves\n",
        "\n",
        "# 1. Creating the model\n",
        "model = tf.keras.Sequential([\n",
        "    tf.keras.layers.Dense(50, activation=None),\n",
        "    tf.keras.layers.Dense(1)\n",
        "])\n",
        "\n",
        "# Compiling the model\n",
        "model.compile(loss = tf.keras.losses.mae,\n",
        "              optimizer=tf.keras.optimizers.SGD(),\n",
        "              metrics=[\"mae\"])\n",
        "\n",
        "# Fit the Model\n",
        "model.fit(tf.expand_dims(X,axis=-1),y,epochs=100)"
      ],
      "metadata": {
        "colab": {
          "base_uri": "https://localhost:8080/"
        },
        "id": "E0r3cXjZU_mg",
        "outputId": "b095de94-acde-41b7-c3ad-d81417d3dae5"
      },
      "execution_count": null,
      "outputs": [
        {
          "output_type": "stream",
          "name": "stdout",
          "text": [
            "Epoch 1/100\n",
            "1/1 [==============================] - 1s 953ms/step - loss: 13.7611 - mae: 13.7611\n",
            "Epoch 2/100\n",
            "1/1 [==============================] - 0s 15ms/step - loss: 13.2703 - mae: 13.2703\n",
            "Epoch 3/100\n",
            "1/1 [==============================] - 0s 31ms/step - loss: 12.7797 - mae: 12.7797\n",
            "Epoch 4/100\n",
            "1/1 [==============================] - 0s 16ms/step - loss: 12.2866 - mae: 12.2866\n",
            "Epoch 5/100\n",
            "1/1 [==============================] - 0s 24ms/step - loss: 11.7885 - mae: 11.7885\n",
            "Epoch 6/100\n",
            "1/1 [==============================] - 0s 24ms/step - loss: 11.2829 - mae: 11.2829\n",
            "Epoch 7/100\n",
            "1/1 [==============================] - 0s 20ms/step - loss: 10.7671 - mae: 10.7671\n",
            "Epoch 8/100\n",
            "1/1 [==============================] - 0s 29ms/step - loss: 10.2385 - mae: 10.2385\n",
            "Epoch 9/100\n",
            "1/1 [==============================] - 0s 20ms/step - loss: 9.6943 - mae: 9.6943\n",
            "Epoch 10/100\n",
            "1/1 [==============================] - 0s 17ms/step - loss: 9.1319 - mae: 9.1319\n",
            "Epoch 11/100\n",
            "1/1 [==============================] - 0s 24ms/step - loss: 8.5482 - mae: 8.5482\n",
            "Epoch 12/100\n",
            "1/1 [==============================] - 0s 19ms/step - loss: 7.9403 - mae: 7.9403\n",
            "Epoch 13/100\n",
            "1/1 [==============================] - 0s 15ms/step - loss: 7.3052 - mae: 7.3052\n",
            "Epoch 14/100\n",
            "1/1 [==============================] - 0s 25ms/step - loss: 7.1802 - mae: 7.1802\n",
            "Epoch 15/100\n",
            "1/1 [==============================] - 0s 30ms/step - loss: 7.1595 - mae: 7.1595\n",
            "Epoch 16/100\n",
            "1/1 [==============================] - 0s 10ms/step - loss: 7.1388 - mae: 7.1388\n",
            "Epoch 17/100\n",
            "1/1 [==============================] - 0s 10ms/step - loss: 7.1180 - mae: 7.1180\n",
            "Epoch 18/100\n",
            "1/1 [==============================] - 0s 13ms/step - loss: 7.0972 - mae: 7.0972\n",
            "Epoch 19/100\n",
            "1/1 [==============================] - 0s 11ms/step - loss: 7.0763 - mae: 7.0763\n",
            "Epoch 20/100\n",
            "1/1 [==============================] - 0s 12ms/step - loss: 7.0553 - mae: 7.0553\n",
            "Epoch 21/100\n",
            "1/1 [==============================] - 0s 11ms/step - loss: 7.0343 - mae: 7.0343\n",
            "Epoch 22/100\n",
            "1/1 [==============================] - 0s 10ms/step - loss: 7.0158 - mae: 7.0158\n",
            "Epoch 23/100\n",
            "1/1 [==============================] - 0s 12ms/step - loss: 7.0049 - mae: 7.0049\n",
            "Epoch 24/100\n",
            "1/1 [==============================] - 0s 10ms/step - loss: 6.9842 - mae: 6.9842\n",
            "Epoch 25/100\n",
            "1/1 [==============================] - 0s 12ms/step - loss: 6.9634 - mae: 6.9634\n",
            "Epoch 26/100\n",
            "1/1 [==============================] - 0s 10ms/step - loss: 6.9426 - mae: 6.9426\n",
            "Epoch 27/100\n",
            "1/1 [==============================] - 0s 10ms/step - loss: 6.9217 - mae: 6.9217\n",
            "Epoch 28/100\n",
            "1/1 [==============================] - 0s 11ms/step - loss: 6.9006 - mae: 6.9006\n",
            "Epoch 29/100\n",
            "1/1 [==============================] - 0s 12ms/step - loss: 6.8795 - mae: 6.8795\n",
            "Epoch 30/100\n",
            "1/1 [==============================] - 0s 11ms/step - loss: 6.8583 - mae: 6.8583\n",
            "Epoch 31/100\n",
            "1/1 [==============================] - 0s 19ms/step - loss: 6.8370 - mae: 6.8370\n",
            "Epoch 32/100\n",
            "1/1 [==============================] - 0s 23ms/step - loss: 6.8156 - mae: 6.8156\n",
            "Epoch 33/100\n",
            "1/1 [==============================] - 0s 15ms/step - loss: 6.7941 - mae: 6.7941\n",
            "Epoch 34/100\n",
            "1/1 [==============================] - 0s 15ms/step - loss: 6.7724 - mae: 6.7724\n",
            "Epoch 35/100\n",
            "1/1 [==============================] - 0s 16ms/step - loss: 6.7507 - mae: 6.7507\n",
            "Epoch 36/100\n",
            "1/1 [==============================] - 0s 17ms/step - loss: 6.7288 - mae: 6.7288\n",
            "Epoch 37/100\n",
            "1/1 [==============================] - 0s 18ms/step - loss: 6.7068 - mae: 6.7068\n",
            "Epoch 38/100\n",
            "1/1 [==============================] - 0s 16ms/step - loss: 6.6847 - mae: 6.6847\n",
            "Epoch 39/100\n",
            "1/1 [==============================] - 0s 18ms/step - loss: 6.6625 - mae: 6.6625\n",
            "Epoch 40/100\n",
            "1/1 [==============================] - 0s 21ms/step - loss: 6.6401 - mae: 6.6401\n",
            "Epoch 41/100\n",
            "1/1 [==============================] - 0s 23ms/step - loss: 6.6176 - mae: 6.6176\n",
            "Epoch 42/100\n",
            "1/1 [==============================] - 0s 20ms/step - loss: 6.5949 - mae: 6.5949\n",
            "Epoch 43/100\n",
            "1/1 [==============================] - 0s 22ms/step - loss: 6.5721 - mae: 6.5721\n",
            "Epoch 44/100\n",
            "1/1 [==============================] - 0s 23ms/step - loss: 6.5492 - mae: 6.5492\n",
            "Epoch 45/100\n",
            "1/1 [==============================] - 0s 27ms/step - loss: 6.5261 - mae: 6.5261\n",
            "Epoch 46/100\n",
            "1/1 [==============================] - 0s 24ms/step - loss: 6.5028 - mae: 6.5028\n",
            "Epoch 47/100\n",
            "1/1 [==============================] - 0s 17ms/step - loss: 6.4794 - mae: 6.4794\n",
            "Epoch 48/100\n",
            "1/1 [==============================] - 0s 23ms/step - loss: 6.4713 - mae: 6.4713\n",
            "Epoch 49/100\n",
            "1/1 [==============================] - 0s 23ms/step - loss: 6.4525 - mae: 6.4525\n",
            "Epoch 50/100\n",
            "1/1 [==============================] - 0s 22ms/step - loss: 6.4291 - mae: 6.4291\n",
            "Epoch 51/100\n",
            "1/1 [==============================] - 0s 21ms/step - loss: 6.4056 - mae: 6.4056\n",
            "Epoch 52/100\n",
            "1/1 [==============================] - 0s 23ms/step - loss: 6.3820 - mae: 6.3820\n",
            "Epoch 53/100\n",
            "1/1 [==============================] - 0s 28ms/step - loss: 6.3581 - mae: 6.3581\n",
            "Epoch 54/100\n",
            "1/1 [==============================] - 0s 32ms/step - loss: 6.3341 - mae: 6.3341\n",
            "Epoch 55/100\n",
            "1/1 [==============================] - 0s 24ms/step - loss: 6.3099 - mae: 6.3099\n",
            "Epoch 56/100\n",
            "1/1 [==============================] - 0s 21ms/step - loss: 6.2854 - mae: 6.2854\n",
            "Epoch 57/100\n",
            "1/1 [==============================] - 0s 21ms/step - loss: 6.2608 - mae: 6.2608\n",
            "Epoch 58/100\n",
            "1/1 [==============================] - 0s 19ms/step - loss: 6.2360 - mae: 6.2360\n",
            "Epoch 59/100\n",
            "1/1 [==============================] - 0s 33ms/step - loss: 6.2110 - mae: 6.2110\n",
            "Epoch 60/100\n",
            "1/1 [==============================] - 0s 28ms/step - loss: 6.1858 - mae: 6.1858\n",
            "Epoch 61/100\n",
            "1/1 [==============================] - 0s 21ms/step - loss: 6.1603 - mae: 6.1603\n",
            "Epoch 62/100\n",
            "1/1 [==============================] - 0s 23ms/step - loss: 6.1346 - mae: 6.1346\n",
            "Epoch 63/100\n",
            "1/1 [==============================] - 0s 26ms/step - loss: 6.1088 - mae: 6.1088\n",
            "Epoch 64/100\n",
            "1/1 [==============================] - 0s 34ms/step - loss: 6.0826 - mae: 6.0826\n",
            "Epoch 65/100\n",
            "1/1 [==============================] - 0s 24ms/step - loss: 6.0563 - mae: 6.0563\n",
            "Epoch 66/100\n",
            "1/1 [==============================] - 0s 25ms/step - loss: 6.0308 - mae: 6.0308\n",
            "Epoch 67/100\n",
            "1/1 [==============================] - 0s 27ms/step - loss: 6.0284 - mae: 6.0284\n",
            "Epoch 68/100\n",
            "1/1 [==============================] - 0s 32ms/step - loss: 6.0019 - mae: 6.0019\n",
            "Epoch 69/100\n",
            "1/1 [==============================] - 0s 29ms/step - loss: 5.9752 - mae: 5.9752\n",
            "Epoch 70/100\n",
            "1/1 [==============================] - 0s 42ms/step - loss: 5.9482 - mae: 5.9482\n",
            "Epoch 71/100\n",
            "1/1 [==============================] - 0s 31ms/step - loss: 5.9210 - mae: 5.9210\n",
            "Epoch 72/100\n",
            "1/1 [==============================] - 0s 30ms/step - loss: 5.8935 - mae: 5.8935\n",
            "Epoch 73/100\n",
            "1/1 [==============================] - 0s 29ms/step - loss: 5.8658 - mae: 5.8658\n",
            "Epoch 74/100\n",
            "1/1 [==============================] - 0s 20ms/step - loss: 5.8378 - mae: 5.8378\n",
            "Epoch 75/100\n",
            "1/1 [==============================] - 0s 17ms/step - loss: 5.8095 - mae: 5.8095\n",
            "Epoch 76/100\n",
            "1/1 [==============================] - 0s 32ms/step - loss: 5.7810 - mae: 5.7810\n",
            "Epoch 77/100\n",
            "1/1 [==============================] - 0s 14ms/step - loss: 5.7521 - mae: 5.7521\n",
            "Epoch 78/100\n",
            "1/1 [==============================] - 0s 28ms/step - loss: 5.7230 - mae: 5.7230\n",
            "Epoch 79/100\n",
            "1/1 [==============================] - 0s 27ms/step - loss: 5.6935 - mae: 5.6935\n",
            "Epoch 80/100\n",
            "1/1 [==============================] - 0s 16ms/step - loss: 5.6638 - mae: 5.6638\n",
            "Epoch 81/100\n",
            "1/1 [==============================] - 0s 31ms/step - loss: 5.6338 - mae: 5.6338\n",
            "Epoch 82/100\n",
            "1/1 [==============================] - 0s 26ms/step - loss: 5.6069 - mae: 5.6069\n",
            "Epoch 83/100\n",
            "1/1 [==============================] - 0s 23ms/step - loss: 5.6160 - mae: 5.6160\n",
            "Epoch 84/100\n",
            "1/1 [==============================] - 0s 28ms/step - loss: 5.7126 - mae: 5.7126\n",
            "Epoch 85/100\n",
            "1/1 [==============================] - 0s 14ms/step - loss: 5.5376 - mae: 5.5376\n",
            "Epoch 86/100\n",
            "1/1 [==============================] - 0s 16ms/step - loss: 5.5065 - mae: 5.5065\n",
            "Epoch 87/100\n",
            "1/1 [==============================] - 0s 17ms/step - loss: 5.4750 - mae: 5.4750\n",
            "Epoch 88/100\n",
            "1/1 [==============================] - 0s 16ms/step - loss: 5.4432 - mae: 5.4432\n",
            "Epoch 89/100\n",
            "1/1 [==============================] - 0s 13ms/step - loss: 5.4111 - mae: 5.4111\n",
            "Epoch 90/100\n",
            "1/1 [==============================] - 0s 14ms/step - loss: 5.3786 - mae: 5.3786\n",
            "Epoch 91/100\n",
            "1/1 [==============================] - 0s 11ms/step - loss: 5.3457 - mae: 5.3457\n",
            "Epoch 92/100\n",
            "1/1 [==============================] - 0s 27ms/step - loss: 5.3125 - mae: 5.3125\n",
            "Epoch 93/100\n",
            "1/1 [==============================] - 0s 28ms/step - loss: 5.2801 - mae: 5.2801\n",
            "Epoch 94/100\n",
            "1/1 [==============================] - 0s 18ms/step - loss: 5.3398 - mae: 5.3398\n",
            "Epoch 95/100\n",
            "1/1 [==============================] - 0s 14ms/step - loss: 5.3890 - mae: 5.3890\n",
            "Epoch 96/100\n",
            "1/1 [==============================] - 0s 19ms/step - loss: 5.2058 - mae: 5.2058\n",
            "Epoch 97/100\n",
            "1/1 [==============================] - 0s 19ms/step - loss: 5.1713 - mae: 5.1713\n",
            "Epoch 98/100\n",
            "1/1 [==============================] - 0s 25ms/step - loss: 5.1363 - mae: 5.1363\n",
            "Epoch 99/100\n",
            "1/1 [==============================] - 0s 30ms/step - loss: 5.1009 - mae: 5.1009\n",
            "Epoch 100/100\n",
            "1/1 [==============================] - 0s 19ms/step - loss: 5.0651 - mae: 5.0651\n"
          ]
        },
        {
          "output_type": "execute_result",
          "data": {
            "text/plain": [
              "<keras.callbacks.History at 0x7f599ff3c190>"
            ]
          },
          "metadata": {},
          "execution_count": 15
        }
      ]
    },
    {
      "cell_type": "code",
      "source": [
        "model.predict([17.0])"
      ],
      "metadata": {
        "colab": {
          "base_uri": "https://localhost:8080/"
        },
        "id": "jX_uKks5ZpRE",
        "outputId": "2cc62b20-1cda-433b-d7cf-edcfa2dee008"
      },
      "execution_count": null,
      "outputs": [
        {
          "output_type": "stream",
          "name": "stdout",
          "text": [
            "1/1 [==============================] - 0s 150ms/step\n"
          ]
        },
        {
          "output_type": "execute_result",
          "data": {
            "text/plain": [
              "array([[30.127378]], dtype=float32)"
            ]
          },
          "metadata": {},
          "execution_count": 16
        }
      ]
    },
    {
      "cell_type": "markdown",
      "source": [
        "# When it comes to evaluation...there are 3 words you should memorize\n",
        "\n",
        "> \"Visualise, visualise, visualise\"\n",
        "\n",
        "It's a good idea to visualise:\n",
        "* The data- what data are we working with? WHat does it look like?\n",
        "* The model itself- what does our model look like?\n",
        "* The training of a model- how does a model perform while it learns?\n",
        "* The predictions of the model- how do the predictions of the model line up against the ground truth(the original labels)"
      ],
      "metadata": {
        "id": "-Mf8WJz3jf_L"
      }
    },
    {
      "cell_type": "code",
      "source": [
        " # Make bigger dataset\n",
        " X = tf.range(-100,100,4)\n",
        " X"
      ],
      "metadata": {
        "colab": {
          "base_uri": "https://localhost:8080/"
        },
        "id": "Eg95Hb82bCdV",
        "outputId": "f66046c8-fc31-472b-e0fb-6be2c414908f"
      },
      "execution_count": null,
      "outputs": [
        {
          "output_type": "execute_result",
          "data": {
            "text/plain": [
              "<tf.Tensor: shape=(50,), dtype=int32, numpy=\n",
              "array([-100,  -96,  -92,  -88,  -84,  -80,  -76,  -72,  -68,  -64,  -60,\n",
              "        -56,  -52,  -48,  -44,  -40,  -36,  -32,  -28,  -24,  -20,  -16,\n",
              "        -12,   -8,   -4,    0,    4,    8,   12,   16,   20,   24,   28,\n",
              "         32,   36,   40,   44,   48,   52,   56,   60,   64,   68,   72,\n",
              "         76,   80,   84,   88,   92,   96], dtype=int32)>"
            ]
          },
          "metadata": {},
          "execution_count": 17
        }
      ]
    },
    {
      "cell_type": "code",
      "source": [
        "# Make labesl for the dataset\n",
        "y = X+10\n",
        "y"
      ],
      "metadata": {
        "colab": {
          "base_uri": "https://localhost:8080/"
        },
        "id": "wMyJj-qekCee",
        "outputId": "00942673-b249-47c4-fee9-31b910b5e4cc"
      },
      "execution_count": null,
      "outputs": [
        {
          "output_type": "execute_result",
          "data": {
            "text/plain": [
              "<tf.Tensor: shape=(50,), dtype=int32, numpy=\n",
              "array([-90, -86, -82, -78, -74, -70, -66, -62, -58, -54, -50, -46, -42,\n",
              "       -38, -34, -30, -26, -22, -18, -14, -10,  -6,  -2,   2,   6,  10,\n",
              "        14,  18,  22,  26,  30,  34,  38,  42,  46,  50,  54,  58,  62,\n",
              "        66,  70,  74,  78,  82,  86,  90,  94,  98, 102, 106], dtype=int32)>"
            ]
          },
          "metadata": {},
          "execution_count": 19
        }
      ]
    },
    {
      "cell_type": "code",
      "source": [
        "# Visualize the data\n",
        "import matplotlib.pyplot as plt\n",
        "plt.scatter(X,y)"
      ],
      "metadata": {
        "colab": {
          "base_uri": "https://localhost:8080/",
          "height": 282
        },
        "id": "6uoxt2Y3kFhx",
        "outputId": "bc65e625-b61a-4db1-aa12-10a2e2b93526"
      },
      "execution_count": null,
      "outputs": [
        {
          "output_type": "execute_result",
          "data": {
            "text/plain": [
              "<matplotlib.collections.PathCollection at 0x7f5999880be0>"
            ]
          },
          "metadata": {},
          "execution_count": 20
        },
        {
          "output_type": "display_data",
          "data": {
            "text/plain": [
              "<Figure size 432x288 with 1 Axes>"
            ],
            "image/png": "[encoded data removed]"
          },
          "metadata": {
            "needs_background": "light"
          }
        }
      ]
    },
    {
      "cell_type": "markdown",
      "source": [
        "### The 3 sets...\n",
        "\n",
        "* **Training Set** - the model learns from this data, which is typically 70-80% of the total data you have available.\n",
        "* **Validation Set** - the model gets tuned on this data, which is typically 10-15% of the data available\n",
        "* **Test set** - the model gets evaluated on this data to test what it has learned, this set is typically 10-15% of the total data available"
      ],
      "metadata": {
        "id": "a8wEgVt3lisA"
      }
    },
    {
      "cell_type": "code",
      "source": [
        "# Check the length of how many samples we have\n",
        "len(X)"
      ],
      "metadata": {
        "colab": {
          "base_uri": "https://localhost:8080/"
        },
        "id": "XYyu22s3kNfR",
        "outputId": "31716dd8-7765-491d-a52e-d852cb86a977"
      },
      "execution_count": null,
      "outputs": [
        {
          "output_type": "execute_result",
          "data": {
            "text/plain": [
              "50"
            ]
          },
          "metadata": {},
          "execution_count": 21
        }
      ]
    },
    {
      "cell_type": "code",
      "source": [
        "# Split the data into train and test sets\n",
        "X_train = X[:40] # first 40 training samples(80% of the data)\n",
        "y_train = y[:40]\n",
        "\n",
        "X_test = X[40:] # last 20 testing samples(20% of the data)\n",
        "y_test = y[40:]\n",
        "\n",
        "len(X_train) , len(y_train), len(X_test), len(y_test)"
      ],
      "metadata": {
        "colab": {
          "base_uri": "https://localhost:8080/"
        },
        "id": "-OxTGtTUnS5f",
        "outputId": "71aa3233-3d3b-4471-8d76-601de43a3d64"
      },
      "execution_count": null,
      "outputs": [
        {
          "output_type": "execute_result",
          "data": {
            "text/plain": [
              "(40, 40, 10, 10)"
            ]
          },
          "metadata": {},
          "execution_count": 22
        }
      ]
    },
    {
      "cell_type": "code",
      "source": [
        "### Visualising the data\n",
        "\n",
        "plt.figure(figsize=(10,7))\n",
        "\n",
        "#Plot training data in blue\n",
        "plt.scatter(X_train, y_train, c=\"b\", label=\"Training data\")\n",
        "\n",
        "#Plot the test data in green\n",
        "plt.scatter(X_test,y_test, c=\"g\", label=\"Testing data\")\n",
        "plt.legend()"
      ],
      "metadata": {
        "colab": {
          "base_uri": "https://localhost:8080/",
          "height": 445
        },
        "id": "ufGSuHxrn_M9",
        "outputId": "5625cf96-01e2-457d-e811-d210393dda6c"
      },
      "execution_count": null,
      "outputs": [
        {
          "output_type": "execute_result",
          "data": {
            "text/plain": [
              "<matplotlib.legend.Legend at 0x7f5998330d60>"
            ]
          },
          "metadata": {},
          "execution_count": 23
        },
        {
          "output_type": "display_data",
          "data": {
            "text/plain": [
              "<Figure size 720x504 with 1 Axes>"
            ],
            "image/png": "[encoded data removed]"
          },
          "metadata": {
            "needs_background": "light"
          }
        }
      ]
    },
    {
      "cell_type": "code",
      "source": [
        "# 1. Create a model\n",
        "model = tf.keras.Sequential([\n",
        "    tf.keras.layers.Dense(1)\n",
        "])\n",
        "\n",
        "# 2. Compile the model\n",
        "model.compile(loss=tf.keras.losses.mae,\n",
        "              optimizer= tf.keras.optimizers.SGD(),\n",
        "              metrics=[\"mae\"])\n",
        "\n",
        "# 3. Fit the model\n",
        "model.fit(tf.expand_dims(X_train, axis=-1),y_train,epochs = 100)"
      ],
      "metadata": {
        "colab": {
          "base_uri": "https://localhost:8080/"
        },
        "id": "_X50OCLpqw72",
        "outputId": "3c213d72-2abf-401f-c2f4-45fb1ba91015"
      },
      "execution_count": null,
      "outputs": [
        {
          "output_type": "stream",
          "name": "stdout",
          "text": [
            "Epoch 1/100\n",
            "2/2 [==============================] - 1s 17ms/step - loss: 89.4362 - mae: 89.4362\n",
            "Epoch 2/100\n",
            "2/2 [==============================] - 0s 16ms/step - loss: 53.9808 - mae: 53.9808\n",
            "Epoch 3/100\n",
            "2/2 [==============================] - 0s 12ms/step - loss: 17.9483 - mae: 17.9483\n",
            "Epoch 4/100\n",
            "2/2 [==============================] - 0s 11ms/step - loss: 10.0540 - mae: 10.0540\n",
            "Epoch 5/100\n",
            "2/2 [==============================] - 0s 10ms/step - loss: 11.3165 - mae: 11.3165\n",
            "Epoch 6/100\n",
            "2/2 [==============================] - 0s 17ms/step - loss: 10.4450 - mae: 10.4450\n",
            "Epoch 7/100\n",
            "2/2 [==============================] - 0s 16ms/step - loss: 9.4221 - mae: 9.4221\n",
            "Epoch 8/100\n",
            "2/2 [==============================] - 0s 13ms/step - loss: 9.2919 - mae: 9.2919\n",
            "Epoch 9/100\n",
            "2/2 [==============================] - 0s 10ms/step - loss: 11.9990 - mae: 11.9990\n",
            "Epoch 10/100\n",
            "2/2 [==============================] - 0s 12ms/step - loss: 13.9670 - mae: 13.9670\n",
            "Epoch 11/100\n",
            "2/2 [==============================] - 0s 12ms/step - loss: 12.1135 - mae: 12.1135\n",
            "Epoch 12/100\n",
            "2/2 [==============================] - 0s 11ms/step - loss: 16.0541 - mae: 16.0541\n",
            "Epoch 13/100\n",
            "2/2 [==============================] - 0s 11ms/step - loss: 11.7036 - mae: 11.7036\n",
            "Epoch 14/100\n",
            "2/2 [==============================] - 0s 10ms/step - loss: 13.5440 - mae: 13.5440\n",
            "Epoch 15/100\n",
            "2/2 [==============================] - 0s 11ms/step - loss: 10.8571 - mae: 10.8571\n",
            "Epoch 16/100\n",
            "2/2 [==============================] - 0s 10ms/step - loss: 8.5438 - mae: 8.5438\n",
            "Epoch 17/100\n",
            "2/2 [==============================] - 0s 13ms/step - loss: 13.6171 - mae: 13.6171\n",
            "Epoch 18/100\n",
            "2/2 [==============================] - 0s 12ms/step - loss: 11.4342 - mae: 11.4342\n",
            "Epoch 19/100\n",
            "2/2 [==============================] - 0s 13ms/step - loss: 17.9998 - mae: 17.9998\n",
            "Epoch 20/100\n",
            "2/2 [==============================] - 0s 14ms/step - loss: 15.1338 - mae: 15.1338\n",
            "Epoch 21/100\n",
            "2/2 [==============================] - 0s 11ms/step - loss: 11.0984 - mae: 11.0984\n",
            "Epoch 22/100\n",
            "2/2 [==============================] - 0s 16ms/step - loss: 8.2304 - mae: 8.2304\n",
            "Epoch 23/100\n",
            "2/2 [==============================] - 0s 12ms/step - loss: 9.5031 - mae: 9.5031\n",
            "Epoch 24/100\n",
            "2/2 [==============================] - 0s 9ms/step - loss: 7.7007 - mae: 7.7007\n",
            "Epoch 25/100\n",
            "2/2 [==============================] - 0s 12ms/step - loss: 13.1131 - mae: 13.1131\n",
            "Epoch 26/100\n",
            "2/2 [==============================] - 0s 10ms/step - loss: 16.5043 - mae: 16.5043\n",
            "Epoch 27/100\n",
            "2/2 [==============================] - 0s 10ms/step - loss: 13.2399 - mae: 13.2399\n",
            "Epoch 28/100\n",
            "2/2 [==============================] - 0s 10ms/step - loss: 14.3456 - mae: 14.3456\n",
            "Epoch 29/100\n",
            "2/2 [==============================] - 0s 15ms/step - loss: 10.1112 - mae: 10.1112\n",
            "Epoch 30/100\n",
            "2/2 [==============================] - 0s 14ms/step - loss: 16.4592 - mae: 16.4592\n",
            "Epoch 31/100\n",
            "2/2 [==============================] - 0s 13ms/step - loss: 23.5568 - mae: 23.5568\n",
            "Epoch 32/100\n",
            "2/2 [==============================] - 0s 16ms/step - loss: 7.6336 - mae: 7.6336\n",
            "Epoch 33/100\n",
            "2/2 [==============================] - 0s 10ms/step - loss: 9.3283 - mae: 9.3283\n",
            "Epoch 34/100\n",
            "2/2 [==============================] - 0s 14ms/step - loss: 13.6837 - mae: 13.6837\n",
            "Epoch 35/100\n",
            "2/2 [==============================] - 0s 9ms/step - loss: 11.1935 - mae: 11.1935\n",
            "Epoch 36/100\n",
            "2/2 [==============================] - 0s 8ms/step - loss: 13.4212 - mae: 13.4212\n",
            "Epoch 37/100\n",
            "2/2 [==============================] - 0s 8ms/step - loss: 9.4714 - mae: 9.4714\n",
            "Epoch 38/100\n",
            "2/2 [==============================] - 0s 8ms/step - loss: 10.1230 - mae: 10.1230\n",
            "Epoch 39/100\n",
            "2/2 [==============================] - 0s 8ms/step - loss: 8.9988 - mae: 8.9988\n",
            "Epoch 40/100\n",
            "2/2 [==============================] - 0s 8ms/step - loss: 9.6279 - mae: 9.6279\n",
            "Epoch 41/100\n",
            "2/2 [==============================] - 0s 8ms/step - loss: 10.5877 - mae: 10.5877\n",
            "Epoch 42/100\n",
            "2/2 [==============================] - 0s 8ms/step - loss: 10.6416 - mae: 10.6416\n",
            "Epoch 43/100\n",
            "2/2 [==============================] - 0s 9ms/step - loss: 7.2369 - mae: 7.2369\n",
            "Epoch 44/100\n",
            "2/2 [==============================] - 0s 9ms/step - loss: 8.0395 - mae: 8.0395\n",
            "Epoch 45/100\n",
            "2/2 [==============================] - 0s 8ms/step - loss: 9.8426 - mae: 9.8426\n",
            "Epoch 46/100\n",
            "2/2 [==============================] - 0s 8ms/step - loss: 8.9215 - mae: 8.9215\n",
            "Epoch 47/100\n",
            "2/2 [==============================] - 0s 10ms/step - loss: 7.5924 - mae: 7.5924\n",
            "Epoch 48/100\n",
            "2/2 [==============================] - 0s 8ms/step - loss: 8.5581 - mae: 8.5581\n",
            "Epoch 49/100\n",
            "2/2 [==============================] - 0s 9ms/step - loss: 10.0540 - mae: 10.0540\n",
            "Epoch 50/100\n",
            "2/2 [==============================] - 0s 12ms/step - loss: 9.0042 - mae: 9.0042\n",
            "Epoch 51/100\n",
            "2/2 [==============================] - 0s 12ms/step - loss: 10.7305 - mae: 10.7305\n",
            "Epoch 52/100\n",
            "2/2 [==============================] - 0s 10ms/step - loss: 15.2824 - mae: 15.2824\n",
            "Epoch 53/100\n",
            "2/2 [==============================] - 0s 12ms/step - loss: 14.3102 - mae: 14.3102\n",
            "Epoch 54/100\n",
            "2/2 [==============================] - 0s 8ms/step - loss: 21.5585 - mae: 21.5585\n",
            "Epoch 55/100\n",
            "2/2 [==============================] - 0s 7ms/step - loss: 16.0591 - mae: 16.0591\n",
            "Epoch 56/100\n",
            "2/2 [==============================] - 0s 7ms/step - loss: 10.2652 - mae: 10.2652\n",
            "Epoch 57/100\n",
            "2/2 [==============================] - 0s 6ms/step - loss: 9.8186 - mae: 9.8186\n",
            "Epoch 58/100\n",
            "2/2 [==============================] - 0s 7ms/step - loss: 9.1018 - mae: 9.1018\n",
            "Epoch 59/100\n",
            "2/2 [==============================] - 0s 7ms/step - loss: 8.3028 - mae: 8.3028\n",
            "Epoch 60/100\n",
            "2/2 [==============================] - 0s 9ms/step - loss: 9.3981 - mae: 9.3981\n",
            "Epoch 61/100\n",
            "2/2 [==============================] - 0s 7ms/step - loss: 11.2267 - mae: 11.2267\n",
            "Epoch 62/100\n",
            "2/2 [==============================] - 0s 8ms/step - loss: 12.0525 - mae: 12.0525\n",
            "Epoch 63/100\n",
            "2/2 [==============================] - 0s 8ms/step - loss: 7.2957 - mae: 7.2957\n",
            "Epoch 64/100\n",
            "2/2 [==============================] - 0s 6ms/step - loss: 12.4816 - mae: 12.4816\n",
            "Epoch 65/100\n",
            "2/2 [==============================] - 0s 6ms/step - loss: 10.5625 - mae: 10.5625\n",
            "Epoch 66/100\n",
            "2/2 [==============================] - 0s 6ms/step - loss: 15.5832 - mae: 15.5832\n",
            "Epoch 67/100\n",
            "2/2 [==============================] - 0s 8ms/step - loss: 10.0009 - mae: 10.0009\n",
            "Epoch 68/100\n",
            "2/2 [==============================] - 0s 8ms/step - loss: 8.7320 - mae: 8.7320\n",
            "Epoch 69/100\n",
            "2/2 [==============================] - 0s 10ms/step - loss: 13.4611 - mae: 13.4611\n",
            "Epoch 70/100\n",
            "2/2 [==============================] - 0s 8ms/step - loss: 7.4946 - mae: 7.4946\n",
            "Epoch 71/100\n",
            "2/2 [==============================] - 0s 7ms/step - loss: 12.2894 - mae: 12.2894\n",
            "Epoch 72/100\n",
            "2/2 [==============================] - 0s 10ms/step - loss: 8.5309 - mae: 8.5309\n",
            "Epoch 73/100\n",
            "2/2 [==============================] - 0s 8ms/step - loss: 7.0607 - mae: 7.0607\n",
            "Epoch 74/100\n",
            "2/2 [==============================] - 0s 9ms/step - loss: 9.9067 - mae: 9.9067\n",
            "Epoch 75/100\n",
            "2/2 [==============================] - 0s 8ms/step - loss: 9.9873 - mae: 9.9873\n",
            "Epoch 76/100\n",
            "2/2 [==============================] - 0s 11ms/step - loss: 10.1471 - mae: 10.1471\n",
            "Epoch 77/100\n",
            "2/2 [==============================] - 0s 9ms/step - loss: 13.0172 - mae: 13.0172\n",
            "Epoch 78/100\n",
            "2/2 [==============================] - 0s 12ms/step - loss: 10.9129 - mae: 10.9129\n",
            "Epoch 79/100\n",
            "2/2 [==============================] - 0s 10ms/step - loss: 15.3827 - mae: 15.3827\n",
            "Epoch 80/100\n",
            "2/2 [==============================] - 0s 8ms/step - loss: 11.7610 - mae: 11.7610\n",
            "Epoch 81/100\n",
            "2/2 [==============================] - 0s 13ms/step - loss: 9.2603 - mae: 9.2603\n",
            "Epoch 82/100\n",
            "2/2 [==============================] - 0s 7ms/step - loss: 12.7569 - mae: 12.7569\n",
            "Epoch 83/100\n",
            "2/2 [==============================] - 0s 9ms/step - loss: 8.3114 - mae: 8.3114\n",
            "Epoch 84/100\n",
            "2/2 [==============================] - 0s 8ms/step - loss: 7.3277 - mae: 7.3277\n",
            "Epoch 85/100\n",
            "2/2 [==============================] - 0s 7ms/step - loss: 10.4810 - mae: 10.4810\n",
            "Epoch 86/100\n",
            "2/2 [==============================] - 0s 8ms/step - loss: 9.1573 - mae: 9.1573\n",
            "Epoch 87/100\n",
            "2/2 [==============================] - 0s 8ms/step - loss: 11.8626 - mae: 11.8626\n",
            "Epoch 88/100\n",
            "2/2 [==============================] - 0s 9ms/step - loss: 10.4727 - mae: 10.4727\n",
            "Epoch 89/100\n",
            "2/2 [==============================] - 0s 11ms/step - loss: 6.9941 - mae: 6.9941\n",
            "Epoch 90/100\n",
            "2/2 [==============================] - 0s 10ms/step - loss: 13.7949 - mae: 13.7949\n",
            "Epoch 91/100\n",
            "2/2 [==============================] - 0s 8ms/step - loss: 7.8834 - mae: 7.8834\n",
            "Epoch 92/100\n",
            "2/2 [==============================] - 0s 7ms/step - loss: 7.9401 - mae: 7.9401\n",
            "Epoch 93/100\n",
            "2/2 [==============================] - 0s 8ms/step - loss: 9.4363 - mae: 9.4363\n",
            "Epoch 94/100\n",
            "2/2 [==============================] - 0s 7ms/step - loss: 8.7567 - mae: 8.7567\n",
            "Epoch 95/100\n",
            "2/2 [==============================] - 0s 7ms/step - loss: 9.8749 - mae: 9.8749\n",
            "Epoch 96/100\n",
            "2/2 [==============================] - 0s 8ms/step - loss: 7.3619 - mae: 7.3619\n",
            "Epoch 97/100\n",
            "2/2 [==============================] - 0s 12ms/step - loss: 6.8778 - mae: 6.8778\n",
            "Epoch 98/100\n",
            "2/2 [==============================] - 0s 9ms/step - loss: 7.2701 - mae: 7.2701\n",
            "Epoch 99/100\n",
            "2/2 [==============================] - 0s 6ms/step - loss: 7.4232 - mae: 7.4232\n",
            "Epoch 100/100\n",
            "2/2 [==============================] - 0s 7ms/step - loss: 11.1214 - mae: 11.1214\n"
          ]
        },
        {
          "output_type": "execute_result",
          "data": {
            "text/plain": [
              "<keras.callbacks.History at 0x7f599773d130>"
            ]
          },
          "metadata": {},
          "execution_count": 26
        }
      ]
    },
    {
      "cell_type": "code",
      "source": [
        "# lets create a model that builda automatically by defining the input_shape argument\n",
        "tf.random.set_seed(42)\n",
        "\n",
        "# 1. Create a model(Same as above)\n",
        "model =tf.keras.Sequential([\n",
        "    tf.keras.layers.Dense(10, input_shape=[1], name=\"input_layer\"),\n",
        "    tf.keras.layers.Dense(1, name=\"output_layer\")\n",
        "], name=\"model_1\")\n",
        "\n",
        "# 2. Compile the model\n",
        "model.compile(loss =tf.keras.losses.mae,\n",
        "              optimizer = tf.keras.optimizers.SGD(),\n",
        "              metrics=[\"mae\"])"
      ],
      "metadata": {
        "id": "VKxuKfPDraby"
      },
      "execution_count": null,
      "outputs": []
    },
    {
      "cell_type": "code",
      "source": [
        "model.summary()"
      ],
      "metadata": {
        "colab": {
          "base_uri": "https://localhost:8080/"
        },
        "id": "I_fnLg8ns_7n",
        "outputId": "a81867b7-4346-4104-ea5d-6c453bdecf92"
      },
      "execution_count": null,
      "outputs": [
        {
          "output_type": "stream",
          "name": "stdout",
          "text": [
            "Model: \"model_1\"\n",
            "_________________________________________________________________\n",
            " Layer (type)                Output Shape              Param #   \n",
            "=================================================================\n",
            " input_layer (Dense)         (None, 10)                20        \n",
            "                                                                 \n",
            " output_layer (Dense)        (None, 1)                 11        \n",
            "                                                                 \n",
            "=================================================================\n",
            "Total params: 31\n",
            "Trainable params: 31\n",
            "Non-trainable params: 0\n",
            "_________________________________________________________________\n"
          ]
        }
      ]
    },
    {
      "cell_type": "markdown",
      "source": [
        "* Total Params - total number of parameters in the model.\n",
        "* Trainable Parameters - these are the parameters(patterns) the model can update as it trains\n",
        "* Non-trainable params - these parameters aren't updated during training (this is typical when you bring in already learn patterns or parameters from other models during **transfer learning**)\n",
        "\n",
        "📖 **Resource**: For more in-depth overview of trainable parameters within a layer, check out MIT's introduction to deep learning video"
      ],
      "metadata": {
        "id": "uCFDOL-Ztzx6"
      }
    },
    {
      "cell_type": "code",
      "source": [
        "model.fit(tf.expand_dims(X_train, axis=-1), y_train, epochs=100, verbose=0)"
      ],
      "metadata": {
        "colab": {
          "base_uri": "https://localhost:8080/"
        },
        "id": "QVDCZoiVtBta",
        "outputId": "972e88d7-6d31-4e7c-945b-7aef48c9e7d8"
      },
      "execution_count": null,
      "outputs": [
        {
          "output_type": "execute_result",
          "data": {
            "text/plain": [
              "<keras.callbacks.History at 0x7f59b6008490>"
            ]
          },
          "metadata": {},
          "execution_count": 47
        }
      ]
    },
    {
      "cell_type": "code",
      "source": [
        "from tensorflow.keras.utils import plot_model\n",
        "plot_model(model, show_shapes=True)"
      ],
      "metadata": {
        "colab": {
          "base_uri": "https://localhost:8080/",
          "height": 312
        },
        "id": "_LBlX5LezXRu",
        "outputId": "f0350a4a-f1be-422c-b725-803ac763426a"
      },
      "execution_count": null,
      "outputs": [
        {
          "output_type": "execute_result",
          "data": {
            "image/png": "[encoded data removed]",
            "text/plain": [
              "<IPython.core.display.Image object>"
            ]
          },
          "metadata": {},
          "execution_count": 48
        }
      ]
    },
    {
      "cell_type": "markdown",
      "source": [
        "# Visualize our model's predictions\n",
        "\n",
        "To visualise predictions , it's a good idea to plot them against the ground truth table\n",
        "\n",
        "Often you'll see this in the form of `y_test` or `y_train` versus `y_pred`(ground truth versus your model's predictions)"
      ],
      "metadata": {
        "id": "ostGgNX-3UQ4"
      }
    },
    {
      "cell_type": "code",
      "source": [
        "# Make some prediction\n",
        "y_pred = model.predict(X_test)\n",
        "y_pred"
      ],
      "metadata": {
        "colab": {
          "base_uri": "https://localhost:8080/"
        },
        "id": "3DoFKP7U0BHv",
        "outputId": "cfb29b72-0a58-4330-911c-619ba338daec"
      },
      "execution_count": null,
      "outputs": [
        {
          "output_type": "stream",
          "name": "stdout",
          "text": [
            "1/1 [==============================] - 0s 72ms/step\n"
          ]
        },
        {
          "output_type": "execute_result",
          "data": {
            "text/plain": [
              "array([[ 75.70216 ],\n",
              "       [ 80.63547 ],\n",
              "       [ 85.56876 ],\n",
              "       [ 90.502075],\n",
              "       [ 95.43537 ],\n",
              "       [100.36867 ],\n",
              "       [105.30198 ],\n",
              "       [110.23528 ],\n",
              "       [115.16859 ],\n",
              "       [120.1019  ]], dtype=float32)"
            ]
          },
          "metadata": {},
          "execution_count": 49
        }
      ]
    },
    {
      "cell_type": "code",
      "source": [
        "y_test"
      ],
      "metadata": {
        "colab": {
          "base_uri": "https://localhost:8080/"
        },
        "id": "vFYjallN3vHH",
        "outputId": "2d9125b5-4283-4a21-d821-1b67d91d13f6"
      },
      "execution_count": null,
      "outputs": [
        {
          "output_type": "execute_result",
          "data": {
            "text/plain": [
              "<tf.Tensor: shape=(10,), dtype=int32, numpy=array([ 70,  74,  78,  82,  86,  90,  94,  98, 102, 106], dtype=int32)>"
            ]
          },
          "metadata": {},
          "execution_count": 50
        }
      ]
    },
    {
      "cell_type": "markdown",
      "source": [
        "🔑 **Note** : If you feel like you are going to reuse some kind of functionality in future, it is a good idea to turn it into a function"
      ],
      "metadata": {
        "id": "e_UsBals36Xn"
      }
    },
    {
      "cell_type": "code",
      "source": [
        "# Creating a plotting function\n",
        "def plot_predictions(train_data=X_train, train_labels=y_train,\n",
        "                     test_data = X_test,\n",
        "                     test_labels= y_test,\n",
        "                     predictions=y_pred):\n",
        "  \"\"\"\n",
        "  Plots training data, test data and compars predictions to ground truth labels.\n",
        "  \"\"\"\n",
        "  plt.figure(figsize=(10,7))\n",
        "  #Plot training data in blue\n",
        "  plt.scatter(train_data, train_labels, c=\"b\", label=\"Training data\")\n",
        "\n",
        "  # Plot testing in green\n",
        "  plt.scatter(test_data,test_labels, c=\"g\",label = \"Testing Data\")\n",
        "\n",
        "  #Plot model's prediction in red\n",
        "  plt.scatter(test_data, predictions, c='r',label=\"Predictions\")\n",
        "\n",
        "  #Show the legend\n",
        "  plt.legend()"
      ],
      "metadata": {
        "id": "0eHWj5P_3xVd"
      },
      "execution_count": null,
      "outputs": []
    },
    {
      "cell_type": "code",
      "source": [
        "plot_predictions(train_data = X_train,\n",
        "                 train_labels=y_train,\n",
        "                 test_data =X_test,\n",
        "                 test_labels=y_test,\n",
        "                 predictions=y_pred\n",
        "                 )"
      ],
      "metadata": {
        "colab": {
          "base_uri": "https://localhost:8080/",
          "height": 428
        },
        "id": "f7eXmvml40rV",
        "outputId": "c063a285-b9a7-418c-ecc4-50e9c4aca1f4"
      },
      "execution_count": null,
      "outputs": [
        {
          "output_type": "display_data",
          "data": {
            "text/plain": [
              "<Figure size 720x504 with 1 Axes>"
            ],
            "image/png": "[encoded data removed]"
          },
          "metadata": {
            "needs_background": "light"
          }
        }
      ]
    },
    {
      "cell_type": "markdown",
      "source": [
        "### Evaluating model's prediction with regression evaluation metrics\n",
        "\n",
        "Two of the main metrics are:\n",
        "* MAE - mean absolute error, \"on average\", how wrong is each of model's predictions\n",
        "* MSE- mean square error, \"square the average error\""
      ],
      "metadata": {
        "id": "yoZj2ATh5XkA"
      }
    },
    {
      "cell_type": "code",
      "source": [
        "# Evaluate the model on the test\n",
        "model.evaluate(X_test,y_test)"
      ],
      "metadata": {
        "colab": {
          "base_uri": "https://localhost:8080/"
        },
        "id": "GkEaavKs42vy",
        "outputId": "211d385c-ac2a-45a7-c463-4d7e5c6c597b"
      },
      "execution_count": null,
      "outputs": [
        {
          "output_type": "stream",
          "name": "stdout",
          "text": [
            "1/1 [==============================] - 0s 182ms/step - loss: 9.9020 - mae: 9.9020\n"
          ]
        },
        {
          "output_type": "execute_result",
          "data": {
            "text/plain": [
              "[9.90202522277832, 9.90202522277832]"
            ]
          },
          "metadata": {},
          "execution_count": 54
        }
      ]
    },
    {
      "cell_type": "code",
      "source": [
        "# Calculate the mean absolute error\n",
        "mae = tf.metrics.mean_absolute_error(y_true = y_test,\n",
        "                               y_pred = tf.constant(y_pred))\n",
        "mae"
      ],
      "metadata": {
        "colab": {
          "base_uri": "https://localhost:8080/"
        },
        "id": "MyrU_FvQ64Mj",
        "outputId": "9094046d-83fa-4b52-f57b-09af8de5ad3c"
      },
      "execution_count": null,
      "outputs": [
        {
          "output_type": "execute_result",
          "data": {
            "text/plain": [
              "<tf.Tensor: shape=(10,), dtype=float32, numpy=\n",
              "array([13.778702, 11.345813, 10.086247, 10.100415, 11.374148, 13.8212  ,\n",
              "       17.441584, 22.235283, 27.168585, 32.1019  ], dtype=float32)>"
            ]
          },
          "metadata": {},
          "execution_count": 57
        }
      ]
    },
    {
      "cell_type": "code",
      "source": [
        "y_test"
      ],
      "metadata": {
        "colab": {
          "base_uri": "https://localhost:8080/"
        },
        "id": "2jzjiD4r8u8K",
        "outputId": "9b97fa18-9536-4f91-d4c5-799b64740d02"
      },
      "execution_count": null,
      "outputs": [
        {
          "output_type": "execute_result",
          "data": {
            "text/plain": [
              "<tf.Tensor: shape=(10,), dtype=int32, numpy=array([ 70,  74,  78,  82,  86,  90,  94,  98, 102, 106], dtype=int32)>"
            ]
          },
          "metadata": {},
          "execution_count": 62
        }
      ]
    },
    {
      "cell_type": "code",
      "source": [
        "tf.constant(y_pred)"
      ],
      "metadata": {
        "colab": {
          "base_uri": "https://localhost:8080/"
        },
        "id": "4nqN8Pfa62IY",
        "outputId": "1b7ba273-23ff-462c-8b25-76ca64028198"
      },
      "execution_count": null,
      "outputs": [
        {
          "output_type": "execute_result",
          "data": {
            "text/plain": [
              "<tf.Tensor: shape=(10, 1), dtype=float32, numpy=\n",
              "array([[ 75.70216 ],\n",
              "       [ 80.63547 ],\n",
              "       [ 85.56876 ],\n",
              "       [ 90.502075],\n",
              "       [ 95.43537 ],\n",
              "       [100.36867 ],\n",
              "       [105.30198 ],\n",
              "       [110.23528 ],\n",
              "       [115.16859 ],\n",
              "       [120.1019  ]], dtype=float32)>"
            ]
          },
          "metadata": {},
          "execution_count": 63
        }
      ]
    },
    {
      "cell_type": "code",
      "source": [
        "y_pred = tf.squeeze(y_pred)"
      ],
      "metadata": {
        "id": "TY1_otLK63SW"
      },
      "execution_count": null,
      "outputs": []
    },
    {
      "cell_type": "code",
      "source": [
        "y_pred"
      ],
      "metadata": {
        "colab": {
          "base_uri": "https://localhost:8080/"
        },
        "id": "4KCCg5F58ikj",
        "outputId": "56d056b5-b857-4126-f421-c20894ee7100"
      },
      "execution_count": null,
      "outputs": [
        {
          "output_type": "execute_result",
          "data": {
            "text/plain": [
              "<tf.Tensor: shape=(10,), dtype=float32, numpy=\n",
              "array([ 75.70216 ,  80.63547 ,  85.56876 ,  90.502075,  95.43537 ,\n",
              "       100.36867 , 105.30198 , 110.23528 , 115.16859 , 120.1019  ],\n",
              "      dtype=float32)>"
            ]
          },
          "metadata": {},
          "execution_count": 67
        }
      ]
    },
    {
      "cell_type": "code",
      "source": [
        "mae = tf.metrics.mean_absolute_error(y_true = y_test,\n",
        "                               y_pred = tf.constant(y_pred))\n",
        "mae"
      ],
      "metadata": {
        "colab": {
          "base_uri": "https://localhost:8080/"
        },
        "id": "1Kt1r8B88qEi",
        "outputId": "d68cf8be-87f9-47c4-d86c-61518b85bcc6"
      },
      "execution_count": null,
      "outputs": [
        {
          "output_type": "execute_result",
          "data": {
            "text/plain": [
              "<tf.Tensor: shape=(), dtype=float32, numpy=9.902025>"
            ]
          },
          "metadata": {},
          "execution_count": 68
        }
      ]
    },
    {
      "cell_type": "code",
      "source": [
        "# Calculate Mean Squared Error\n",
        "mse = tf.metrics.mean_squared_error(y_true=y_test,\n",
        "                                     y_pred =y_pred)\n",
        "mse"
      ],
      "metadata": {
        "colab": {
          "base_uri": "https://localhost:8080/"
        },
        "id": "pqQEb6sO88tM",
        "outputId": "16d5d936-a52f-4d6f-a801-cf4f509b505b"
      },
      "execution_count": null,
      "outputs": [
        {
          "output_type": "execute_result",
          "data": {
            "text/plain": [
              "<tf.Tensor: shape=(), dtype=float32, numpy=105.23631>"
            ]
          },
          "metadata": {},
          "execution_count": 69
        }
      ]
    },
    {
      "cell_type": "code",
      "source": [
        "# Make some functions to reuse MAE and MSE\n",
        "def mae(y_true, y_pred):\n",
        "  return tf.metrics.mean_absolute_error(y_true=y_test,\n",
        "                                        y_pred = tf.squeeze(y_pred))\n",
        "\n",
        "def mse(y_true,y_pred):\n",
        "  return tf.metrics.mean_squared_error(y_true=y_test,\n",
        "                                       y_pred = tf.squeeze(y_pred))"
      ],
      "metadata": {
        "id": "0v_TOTO6-OE4"
      },
      "execution_count": null,
      "outputs": []
    },
    {
      "cell_type": "markdown",
      "source": [
        "### Running Experiments to improve our model"
      ],
      "metadata": {
        "id": "9iChzEE3AzEc"
      }
    },
    {
      "cell_type": "markdown",
      "source": [
        "1. `model_1` - same as the original model, 1 layer, trained for 100 epochs\n",
        "2. `model_2` - 2 layers, trained for 100 epochs\n",
        "3. `model_3` - 2 layers, trained for 500 epochs"
      ],
      "metadata": {
        "id": "XiryNXl2BVmD"
      }
    },
    {
      "cell_type": "code",
      "source": [
        "# Set random seed\n",
        "tf.random.set_seed(42)\n",
        "\n",
        "# 1. Create a model\n",
        "model_1 = tf.keras.Sequential([\n",
        "    tf.keras.layers.Dense(1)\n",
        "])\n",
        "\n",
        "# 2. Compile the model\n",
        "model_1.compile(loss=tf.keras.losses.mae,\n",
        "            optimizer=tf.keras.optimizers.SGD(),\n",
        "            metrics=[\"mae\"])\n",
        "\n",
        "# 3. Fit the model\n",
        "model_1.fit(tf.expand_dims(X_train, axis=-1), y_train, epochs=100)"
      ],
      "metadata": {
        "colab": {
          "base_uri": "https://localhost:8080/"
        },
        "id": "TsO4h3Xl-0kR",
        "outputId": "d254e386-9fc7-40f1-e575-01db7dbd6e7e"
      },
      "execution_count": null,
      "outputs": [
        {
          "output_type": "stream",
          "name": "stdout",
          "text": [
            "Epoch 1/100\n",
            "2/2 [==============================] - 1s 22ms/step - loss: 10.4275 - mae: 10.4275\n",
            "Epoch 2/100\n",
            "2/2 [==============================] - 0s 12ms/step - loss: 9.2909 - mae: 9.2909\n",
            "Epoch 3/100\n",
            "2/2 [==============================] - 0s 12ms/step - loss: 7.7861 - mae: 7.7861\n",
            "Epoch 4/100\n",
            "2/2 [==============================] - 0s 12ms/step - loss: 8.7173 - mae: 8.7173\n",
            "Epoch 5/100\n",
            "2/2 [==============================] - 0s 13ms/step - loss: 10.7874 - mae: 10.7874\n",
            "Epoch 6/100\n",
            "2/2 [==============================] - 0s 14ms/step - loss: 9.9743 - mae: 9.9743\n",
            "Epoch 7/100\n",
            "2/2 [==============================] - 0s 15ms/step - loss: 9.0240 - mae: 9.0240\n",
            "Epoch 8/100\n",
            "2/2 [==============================] - 0s 14ms/step - loss: 9.0745 - mae: 9.0745\n",
            "Epoch 9/100\n",
            "2/2 [==============================] - 0s 13ms/step - loss: 19.9028 - mae: 19.9028\n",
            "Epoch 10/100\n",
            "2/2 [==============================] - 0s 9ms/step - loss: 10.7487 - mae: 10.7487\n",
            "Epoch 11/100\n",
            "2/2 [==============================] - 0s 17ms/step - loss: 8.6505 - mae: 8.6505\n",
            "Epoch 12/100\n",
            "2/2 [==============================] - 0s 14ms/step - loss: 9.6360 - mae: 9.6360\n",
            "Epoch 13/100\n",
            "2/2 [==============================] - 0s 11ms/step - loss: 12.9854 - mae: 12.9854\n",
            "Epoch 14/100\n",
            "2/2 [==============================] - 0s 9ms/step - loss: 14.1838 - mae: 14.1838\n",
            "Epoch 15/100\n",
            "2/2 [==============================] - 0s 9ms/step - loss: 11.5862 - mae: 11.5862\n",
            "Epoch 16/100\n",
            "2/2 [==============================] - 0s 8ms/step - loss: 8.4777 - mae: 8.4777\n",
            "Epoch 17/100\n",
            "2/2 [==============================] - 0s 9ms/step - loss: 13.4999 - mae: 13.4999\n",
            "Epoch 18/100\n",
            "2/2 [==============================] - 0s 10ms/step - loss: 11.2962 - mae: 11.2962\n",
            "Epoch 19/100\n",
            "2/2 [==============================] - 0s 8ms/step - loss: 18.1022 - mae: 18.1022\n",
            "Epoch 20/100\n",
            "2/2 [==============================] - 0s 9ms/step - loss: 15.2355 - mae: 15.2355\n",
            "Epoch 21/100\n",
            "2/2 [==============================] - 0s 9ms/step - loss: 11.1748 - mae: 11.1748\n",
            "Epoch 22/100\n",
            "2/2 [==============================] - 0s 8ms/step - loss: 8.3172 - mae: 8.3172\n",
            "Epoch 23/100\n",
            "2/2 [==============================] - 0s 7ms/step - loss: 9.9419 - mae: 9.9419\n",
            "Epoch 24/100\n",
            "2/2 [==============================] - 0s 11ms/step - loss: 15.7588 - mae: 15.7588\n",
            "Epoch 25/100\n",
            "2/2 [==============================] - 0s 11ms/step - loss: 12.1858 - mae: 12.1858\n",
            "Epoch 26/100\n",
            "2/2 [==============================] - 0s 14ms/step - loss: 13.3265 - mae: 13.3265\n",
            "Epoch 27/100\n",
            "2/2 [==============================] - 0s 11ms/step - loss: 10.7523 - mae: 10.7523\n",
            "Epoch 28/100\n",
            "2/2 [==============================] - 0s 9ms/step - loss: 13.0253 - mae: 13.0253\n",
            "Epoch 29/100\n",
            "2/2 [==============================] - 0s 10ms/step - loss: 9.5318 - mae: 9.5318\n",
            "Epoch 30/100\n",
            "2/2 [==============================] - 0s 12ms/step - loss: 16.6336 - mae: 16.6336\n",
            "Epoch 31/100\n",
            "2/2 [==============================] - 0s 10ms/step - loss: 23.3719 - mae: 23.3719\n",
            "Epoch 32/100\n",
            "2/2 [==============================] - 0s 11ms/step - loss: 7.3540 - mae: 7.3540\n",
            "Epoch 33/100\n",
            "2/2 [==============================] - 0s 11ms/step - loss: 9.7645 - mae: 9.7645\n",
            "Epoch 34/100\n",
            "2/2 [==============================] - 0s 10ms/step - loss: 12.1819 - mae: 12.1819\n",
            "Epoch 35/100\n",
            "2/2 [==============================] - 0s 8ms/step - loss: 11.1956 - mae: 11.1956\n",
            "Epoch 36/100\n",
            "2/2 [==============================] - 0s 11ms/step - loss: 13.4678 - mae: 13.4678\n",
            "Epoch 37/100\n",
            "2/2 [==============================] - 0s 8ms/step - loss: 9.4075 - mae: 9.4075\n",
            "Epoch 38/100\n",
            "2/2 [==============================] - 0s 14ms/step - loss: 10.0548 - mae: 10.0548\n",
            "Epoch 39/100\n",
            "2/2 [==============================] - 0s 10ms/step - loss: 8.9363 - mae: 8.9363\n",
            "Epoch 40/100\n",
            "2/2 [==============================] - 0s 8ms/step - loss: 9.5601 - mae: 9.5601\n",
            "Epoch 41/100\n",
            "2/2 [==============================] - 0s 12ms/step - loss: 10.5162 - mae: 10.5162\n",
            "Epoch 42/100\n",
            "2/2 [==============================] - 0s 9ms/step - loss: 10.5631 - mae: 10.5631\n",
            "Epoch 43/100\n",
            "2/2 [==============================] - 0s 9ms/step - loss: 7.5413 - mae: 7.5413\n",
            "Epoch 44/100\n",
            "2/2 [==============================] - 0s 12ms/step - loss: 18.6331 - mae: 18.6331\n",
            "Epoch 45/100\n",
            "2/2 [==============================] - 0s 12ms/step - loss: 14.4673 - mae: 14.4673\n",
            "Epoch 46/100\n",
            "2/2 [==============================] - 0s 11ms/step - loss: 9.1678 - mae: 9.1678\n",
            "Epoch 47/100\n",
            "2/2 [==============================] - 0s 9ms/step - loss: 9.6509 - mae: 9.6509\n",
            "Epoch 48/100\n",
            "2/2 [==============================] - 0s 14ms/step - loss: 11.4010 - mae: 11.4010\n",
            "Epoch 49/100\n",
            "2/2 [==============================] - 0s 9ms/step - loss: 8.2004 - mae: 8.2004\n",
            "Epoch 50/100\n",
            "2/2 [==============================] - 0s 19ms/step - loss: 10.2550 - mae: 10.2550\n",
            "Epoch 51/100\n",
            "2/2 [==============================] - 0s 12ms/step - loss: 9.3337 - mae: 9.3337\n",
            "Epoch 52/100\n",
            "2/2 [==============================] - 0s 11ms/step - loss: 14.0102 - mae: 14.0102\n",
            "Epoch 53/100\n",
            "2/2 [==============================] - 0s 13ms/step - loss: 15.0521 - mae: 15.0521\n",
            "Epoch 54/100\n",
            "2/2 [==============================] - 0s 10ms/step - loss: 14.6414 - mae: 14.6414\n",
            "Epoch 55/100\n",
            "2/2 [==============================] - 0s 15ms/step - loss: 19.4789 - mae: 19.4789\n",
            "Epoch 56/100\n",
            "2/2 [==============================] - 0s 11ms/step - loss: 10.9131 - mae: 10.9131\n",
            "Epoch 57/100\n",
            "2/2 [==============================] - 0s 13ms/step - loss: 12.6450 - mae: 12.6450\n",
            "Epoch 58/100\n",
            "2/2 [==============================] - 0s 10ms/step - loss: 8.0644 - mae: 8.0644\n",
            "Epoch 59/100\n",
            "2/2 [==============================] - 0s 14ms/step - loss: 12.0133 - mae: 12.0133\n",
            "Epoch 60/100\n",
            "2/2 [==============================] - 0s 10ms/step - loss: 8.9032 - mae: 8.9032\n",
            "Epoch 61/100\n",
            "2/2 [==============================] - 0s 13ms/step - loss: 10.3137 - mae: 10.3137\n",
            "Epoch 62/100\n",
            "2/2 [==============================] - 0s 9ms/step - loss: 9.4481 - mae: 9.4481\n",
            "Epoch 63/100\n",
            "2/2 [==============================] - 0s 9ms/step - loss: 8.1859 - mae: 8.1859\n",
            "Epoch 64/100\n",
            "2/2 [==============================] - 0s 9ms/step - loss: 12.6121 - mae: 12.6121\n",
            "Epoch 65/100\n",
            "2/2 [==============================] - 0s 9ms/step - loss: 10.6934 - mae: 10.6934\n",
            "Epoch 66/100\n",
            "2/2 [==============================] - 0s 9ms/step - loss: 15.3387 - mae: 15.3387\n",
            "Epoch 67/100\n",
            "2/2 [==============================] - 0s 9ms/step - loss: 9.8074 - mae: 9.8074\n",
            "Epoch 68/100\n",
            "2/2 [==============================] - 0s 9ms/step - loss: 8.6228 - mae: 8.6228\n",
            "Epoch 69/100\n",
            "2/2 [==============================] - 0s 9ms/step - loss: 13.2090 - mae: 13.2090\n",
            "Epoch 70/100\n",
            "2/2 [==============================] - 0s 10ms/step - loss: 7.8491 - mae: 7.8491\n",
            "Epoch 71/100\n",
            "2/2 [==============================] - 0s 9ms/step - loss: 11.3975 - mae: 11.3975\n",
            "Epoch 72/100\n",
            "2/2 [==============================] - 0s 8ms/step - loss: 9.5701 - mae: 9.5701\n",
            "Epoch 73/100\n",
            "2/2 [==============================] - 0s 8ms/step - loss: 11.7081 - mae: 11.7081\n",
            "Epoch 74/100\n",
            "2/2 [==============================] - 0s 9ms/step - loss: 10.6437 - mae: 10.6437\n",
            "Epoch 75/100\n",
            "2/2 [==============================] - 0s 12ms/step - loss: 9.5745 - mae: 9.5745\n",
            "Epoch 76/100\n",
            "2/2 [==============================] - 0s 12ms/step - loss: 11.0265 - mae: 11.0265\n",
            "Epoch 77/100\n",
            "2/2 [==============================] - 0s 9ms/step - loss: 11.1177 - mae: 11.1177\n",
            "Epoch 78/100\n",
            "2/2 [==============================] - 0s 9ms/step - loss: 11.5225 - mae: 11.5225\n",
            "Epoch 79/100\n",
            "2/2 [==============================] - 0s 9ms/step - loss: 15.5217 - mae: 15.5217\n",
            "Epoch 80/100\n",
            "2/2 [==============================] - 0s 9ms/step - loss: 11.6156 - mae: 11.6156\n",
            "Epoch 81/100\n",
            "2/2 [==============================] - 0s 9ms/step - loss: 9.3812 - mae: 9.3812\n",
            "Epoch 82/100\n",
            "2/2 [==============================] - 0s 8ms/step - loss: 12.6136 - mae: 12.6136\n",
            "Epoch 83/100\n",
            "2/2 [==============================] - 0s 8ms/step - loss: 8.1931 - mae: 8.1931\n",
            "Epoch 84/100\n",
            "2/2 [==============================] - 0s 9ms/step - loss: 7.5052 - mae: 7.5052\n",
            "Epoch 85/100\n",
            "2/2 [==============================] - 0s 9ms/step - loss: 9.6659 - mae: 9.6659\n",
            "Epoch 86/100\n",
            "2/2 [==============================] - 0s 9ms/step - loss: 8.7477 - mae: 8.7477\n",
            "Epoch 87/100\n",
            "2/2 [==============================] - 0s 9ms/step - loss: 12.2868 - mae: 12.2868\n",
            "Epoch 88/100\n",
            "2/2 [==============================] - 0s 9ms/step - loss: 10.9173 - mae: 10.9173\n",
            "Epoch 89/100\n",
            "2/2 [==============================] - 0s 9ms/step - loss: 7.7935 - mae: 7.7935\n",
            "Epoch 90/100\n",
            "2/2 [==============================] - 0s 8ms/step - loss: 10.9318 - mae: 10.9318\n",
            "Epoch 91/100\n",
            "2/2 [==============================] - 0s 9ms/step - loss: 6.7318 - mae: 6.7318\n",
            "Epoch 92/100\n",
            "2/2 [==============================] - 0s 8ms/step - loss: 10.1245 - mae: 10.1245\n",
            "Epoch 93/100\n",
            "2/2 [==============================] - 0s 9ms/step - loss: 7.5842 - mae: 7.5842\n",
            "Epoch 94/100\n",
            "2/2 [==============================] - 0s 8ms/step - loss: 9.2148 - mae: 9.2148\n",
            "Epoch 95/100\n",
            "2/2 [==============================] - 0s 8ms/step - loss: 10.7959 - mae: 10.7959\n",
            "Epoch 96/100\n",
            "2/2 [==============================] - 0s 8ms/step - loss: 10.2999 - mae: 10.2999\n",
            "Epoch 97/100\n",
            "2/2 [==============================] - 0s 9ms/step - loss: 7.6530 - mae: 7.6530\n",
            "Epoch 98/100\n",
            "2/2 [==============================] - 0s 11ms/step - loss: 8.5893 - mae: 8.5893\n",
            "Epoch 99/100\n",
            "2/2 [==============================] - 0s 12ms/step - loss: 9.3656 - mae: 9.3656\n",
            "Epoch 100/100\n",
            "2/2 [==============================] - 0s 14ms/step - loss: 8.8163 - mae: 8.8163\n"
          ]
        },
        {
          "output_type": "execute_result",
          "data": {
            "text/plain": [
              "<keras.callbacks.History at 0x7f599f6ee580>"
            ]
          },
          "metadata": {},
          "execution_count": 87
        }
      ]
    },
    {
      "cell_type": "code",
      "source": [
        "# Make and plot predictions for model_1\n",
        "y_preds_1 = model_1.predict(X_test)\n",
        "plot_predictions(predictions=y_preds_1)"
      ],
      "metadata": {
        "colab": {
          "base_uri": "https://localhost:8080/",
          "height": 483
        },
        "id": "bXCiR1KGBN0t",
        "outputId": "f837a839-a921-4ce5-f75f-be7663b3e70f"
      },
      "execution_count": null,
      "outputs": [
        {
          "output_type": "stream",
          "name": "stderr",
          "text": [
            "WARNING:tensorflow:6 out of the last 6 calls to <function Model.make_predict_function.<locals>.predict_function at 0x7f59b5cdfc10> triggered tf.function retracing. Tracing is expensive and the excessive number of tracings could be due to (1) creating @tf.function repeatedly in a loop, (2) passing tensors with different shapes, (3) passing Python objects instead of tensors. For (1), please define your @tf.function outside of the loop. For (2), @tf.function has reduce_retracing=True option that can avoid unnecessary retracing. For (3), please refer to https://www.tensorflow.org/guide/function#controlling_retracing and https://www.tensorflow.org/api_docs/python/tf/function for  more details.\n"
          ]
        },
        {
          "output_type": "stream",
          "name": "stdout",
          "text": [
            "1/1 [==============================] - 0s 63ms/step\n"
          ]
        },
        {
          "output_type": "display_data",
          "data": {
            "text/plain": [
              "<Figure size 720x504 with 1 Axes>"
            ],
            "image/png": "[encoded data removed]"
          },
          "metadata": {
            "needs_background": "light"
          }
        }
      ]
    },
    {
      "cell_type": "code",
      "source": [
        "# Calculate model_1 evaluation metrics\n",
        "mae_1 = mae(y_test, y_preds_1)\n",
        "mse_1 = mse(y_test, y_preds_1)"
      ],
      "metadata": {
        "id": "ZZNmPCF3CuFr"
      },
      "execution_count": null,
      "outputs": []
    },
    {
      "cell_type": "code",
      "source": [
        "mae_1, mse_1"
      ],
      "metadata": {
        "colab": {
          "base_uri": "https://localhost:8080/"
        },
        "id": "c5YOecx9C6DG",
        "outputId": "5537bb22-3ca7-4200-a8ef-ffa97c897642"
      },
      "execution_count": null,
      "outputs": [
        {
          "output_type": "execute_result",
          "data": {
            "text/plain": [
              "(<tf.Tensor: shape=(), dtype=float32, numpy=8.61659>,\n",
              " <tf.Tensor: shape=(), dtype=float32, numpy=80.73277>)"
            ]
          },
          "metadata": {},
          "execution_count": 90
        }
      ]
    },
    {
      "cell_type": "markdown",
      "source": [
        "**Build `model_2`**\n",
        "\n",
        "* 2 dense layers, trained for 100 epochs"
      ],
      "metadata": {
        "id": "eiV9p-6iDgoE"
      }
    },
    {
      "cell_type": "code",
      "source": [
        "tf.random.set_seed(42)\n",
        "\n",
        "# 1. Create the model\n",
        "\n",
        "model_2 = tf.keras.Sequential([\n",
        "    tf.keras.layers.Dense(100),\n",
        "    tf.keras.layers.Dense(1)\n",
        "])\n",
        "\n",
        "# 2. Compile the model\n",
        "model_2.compile(loss=tf.keras.losses.mae,\n",
        "                optimizer=tf.keras.optimizers.SGD(),\n",
        "                metrics=[\"mse\"])\n",
        "\n",
        "# 3. Fit the model\n",
        "model_2.fit(tf.expand_dims(X_train, axis=-1),y_train, epochs=100)"
      ],
      "metadata": {
        "colab": {
          "base_uri": "https://localhost:8080/"
        },
        "id": "1FN28VNvC-9d",
        "outputId": "d579a997-8094-4bb1-99db-263eff278fb4"
      },
      "execution_count": null,
      "outputs": [
        {
          "output_type": "stream",
          "name": "stdout",
          "text": [
            "Epoch 1/100\n",
            "2/2 [==============================] - 1s 23ms/step - loss: 43.9004 - mse: 2705.4243\n",
            "Epoch 2/100\n",
            "2/2 [==============================] - 0s 14ms/step - loss: 33.1317 - mse: 1497.5491\n",
            "Epoch 3/100\n",
            "2/2 [==============================] - 0s 11ms/step - loss: 37.3816 - mse: 2101.0674\n",
            "Epoch 4/100\n",
            "2/2 [==============================] - 0s 11ms/step - loss: 27.1534 - mse: 1073.6838\n",
            "Epoch 5/100\n",
            "2/2 [==============================] - 0s 10ms/step - loss: 14.8414 - mse: 275.0380\n",
            "Epoch 6/100\n",
            "2/2 [==============================] - 0s 9ms/step - loss: 11.8263 - mse: 165.1511\n",
            "Epoch 7/100\n",
            "2/2 [==============================] - 0s 8ms/step - loss: 12.9207 - mse: 230.6906\n",
            "Epoch 8/100\n",
            "2/2 [==============================] - 0s 9ms/step - loss: 11.1336 - mse: 160.6943\n",
            "Epoch 9/100\n",
            "2/2 [==============================] - 0s 9ms/step - loss: 40.7613 - mse: 2625.3130\n",
            "Epoch 10/100\n",
            "2/2 [==============================] - 0s 8ms/step - loss: 28.1177 - mse: 1114.5959\n",
            "Epoch 11/100\n",
            "2/2 [==============================] - 0s 9ms/step - loss: 10.2544 - mse: 149.1009\n",
            "Epoch 12/100\n",
            "2/2 [==============================] - 0s 9ms/step - loss: 25.2474 - mse: 888.7596\n",
            "Epoch 13/100\n",
            "2/2 [==============================] - 0s 11ms/step - loss: 17.1153 - mse: 407.3848\n",
            "Epoch 14/100\n",
            "2/2 [==============================] - 0s 12ms/step - loss: 26.1500 - mse: 1070.3478\n",
            "Epoch 15/100\n",
            "2/2 [==============================] - 0s 9ms/step - loss: 18.1812 - mse: 459.5831\n",
            "Epoch 16/100\n",
            "2/2 [==============================] - 0s 9ms/step - loss: 7.8632 - mse: 89.3425\n",
            "Epoch 17/100\n",
            "2/2 [==============================] - 0s 10ms/step - loss: 22.2961 - mse: 689.2638\n",
            "Epoch 18/100\n",
            "2/2 [==============================] - 0s 10ms/step - loss: 10.8531 - mse: 173.7709\n",
            "Epoch 19/100\n",
            "2/2 [==============================] - 0s 11ms/step - loss: 10.7424 - mse: 140.5881\n",
            "Epoch 20/100\n",
            "2/2 [==============================] - 0s 10ms/step - loss: 12.0640 - mse: 166.1256\n",
            "Epoch 21/100\n",
            "2/2 [==============================] - 0s 9ms/step - loss: 20.2112 - mse: 593.4728\n",
            "Epoch 22/100\n",
            "2/2 [==============================] - 0s 11ms/step - loss: 13.8244 - mse: 244.9568\n",
            "Epoch 23/100\n",
            "2/2 [==============================] - 0s 13ms/step - loss: 9.5583 - mse: 95.3270\n",
            "Epoch 24/100\n",
            "2/2 [==============================] - 0s 14ms/step - loss: 11.9168 - mse: 164.4182\n",
            "Epoch 25/100\n",
            "2/2 [==============================] - 0s 9ms/step - loss: 16.2554 - mse: 387.1781\n",
            "Epoch 26/100\n",
            "2/2 [==============================] - 0s 12ms/step - loss: 16.4459 - mse: 376.7809\n",
            "Epoch 27/100\n",
            "2/2 [==============================] - 0s 11ms/step - loss: 11.6024 - mse: 182.7613\n",
            "Epoch 28/100\n",
            "2/2 [==============================] - 0s 11ms/step - loss: 30.0688 - mse: 1474.6927\n",
            "Epoch 29/100\n",
            "2/2 [==============================] - 0s 8ms/step - loss: 9.2545 - mse: 92.4939\n",
            "Epoch 30/100\n",
            "2/2 [==============================] - 0s 11ms/step - loss: 30.5971 - mse: 1718.9965\n",
            "Epoch 31/100\n",
            "2/2 [==============================] - 0s 8ms/step - loss: 55.6306 - mse: 5552.6528\n",
            "Epoch 32/100\n",
            "2/2 [==============================] - 0s 7ms/step - loss: 9.7467 - mse: 103.6698\n",
            "Epoch 33/100\n",
            "2/2 [==============================] - 0s 9ms/step - loss: 12.3677 - mse: 196.0683\n",
            "Epoch 34/100\n",
            "2/2 [==============================] - 0s 10ms/step - loss: 24.7766 - mse: 933.9832\n",
            "Epoch 35/100\n",
            "2/2 [==============================] - 0s 8ms/step - loss: 11.9123 - mse: 211.9152\n",
            "Epoch 36/100\n",
            "2/2 [==============================] - 0s 8ms/step - loss: 22.0736 - mse: 694.1792\n",
            "Epoch 37/100\n",
            "2/2 [==============================] - 0s 7ms/step - loss: 17.6114 - mse: 443.6784\n",
            "Epoch 38/100\n",
            "2/2 [==============================] - 0s 10ms/step - loss: 10.7506 - mse: 134.4603\n",
            "Epoch 39/100\n",
            "2/2 [==============================] - 0s 9ms/step - loss: 11.2674 - mse: 168.3102\n",
            "Epoch 40/100\n",
            "2/2 [==============================] - 0s 12ms/step - loss: 18.2871 - mse: 482.7642\n",
            "Epoch 41/100\n",
            "2/2 [==============================] - 0s 10ms/step - loss: 10.5247 - mse: 181.6632\n",
            "Epoch 42/100\n",
            "2/2 [==============================] - 0s 8ms/step - loss: 8.4231 - mse: 98.4710\n",
            "Epoch 43/100\n",
            "2/2 [==============================] - 0s 12ms/step - loss: 10.2334 - mse: 121.9853\n",
            "Epoch 44/100\n",
            "2/2 [==============================] - 0s 8ms/step - loss: 28.6254 - mse: 1318.7506\n",
            "Epoch 45/100\n",
            "2/2 [==============================] - 0s 8ms/step - loss: 11.4453 - mse: 152.5279\n",
            "Epoch 46/100\n",
            "2/2 [==============================] - 0s 7ms/step - loss: 14.4723 - mse: 308.9068\n",
            "Epoch 47/100\n",
            "2/2 [==============================] - 0s 7ms/step - loss: 13.3531 - mse: 253.1106\n",
            "Epoch 48/100\n",
            "2/2 [==============================] - 0s 8ms/step - loss: 17.1168 - mse: 397.1604\n",
            "Epoch 49/100\n",
            "2/2 [==============================] - 0s 7ms/step - loss: 9.6509 - mse: 101.6739\n",
            "Epoch 50/100\n",
            "2/2 [==============================] - 0s 7ms/step - loss: 13.9574 - mse: 268.4942\n",
            "Epoch 51/100\n",
            "2/2 [==============================] - 0s 7ms/step - loss: 11.6490 - mse: 157.2152\n",
            "Epoch 52/100\n",
            "2/2 [==============================] - 0s 10ms/step - loss: 30.9055 - mse: 1654.2146\n",
            "Epoch 53/100\n",
            "2/2 [==============================] - 0s 12ms/step - loss: 14.5079 - mse: 310.0945\n",
            "Epoch 54/100\n",
            "2/2 [==============================] - 0s 10ms/step - loss: 24.2424 - mse: 881.1013\n",
            "Epoch 55/100\n",
            "2/2 [==============================] - 0s 7ms/step - loss: 23.4895 - mse: 827.5529\n",
            "Epoch 56/100\n",
            "2/2 [==============================] - 0s 9ms/step - loss: 10.9787 - mse: 170.7678\n",
            "Epoch 57/100\n",
            "2/2 [==============================] - 0s 8ms/step - loss: 12.8740 - mse: 203.8857\n",
            "Epoch 58/100\n",
            "2/2 [==============================] - 0s 7ms/step - loss: 9.6726 - mse: 103.6655\n",
            "Epoch 59/100\n",
            "2/2 [==============================] - 0s 10ms/step - loss: 13.0431 - mse: 235.1800\n",
            "Epoch 60/100\n",
            "2/2 [==============================] - 0s 10ms/step - loss: 10.7129 - mse: 134.0901\n",
            "Epoch 61/100\n",
            "2/2 [==============================] - 0s 9ms/step - loss: 13.2530 - mse: 229.9386\n",
            "Epoch 62/100\n",
            "2/2 [==============================] - 0s 8ms/step - loss: 17.0987 - mse: 445.2401\n",
            "Epoch 63/100\n",
            "2/2 [==============================] - 0s 11ms/step - loss: 9.0612 - mse: 87.4195\n",
            "Epoch 64/100\n",
            "2/2 [==============================] - 0s 10ms/step - loss: 17.7426 - mse: 456.2442\n",
            "Epoch 65/100\n",
            "2/2 [==============================] - 0s 7ms/step - loss: 10.5353 - mse: 134.2743\n",
            "Epoch 66/100\n",
            "2/2 [==============================] - 0s 12ms/step - loss: 21.2328 - mse: 665.2394\n",
            "Epoch 67/100\n",
            "2/2 [==============================] - 0s 11ms/step - loss: 10.5338 - mse: 129.4274\n",
            "Epoch 68/100\n",
            "2/2 [==============================] - 0s 8ms/step - loss: 14.3905 - mse: 312.3095\n",
            "Epoch 69/100\n",
            "2/2 [==============================] - 0s 8ms/step - loss: 10.6264 - mse: 129.6205\n",
            "Epoch 70/100\n",
            "2/2 [==============================] - 0s 7ms/step - loss: 12.7128 - mse: 205.5317\n",
            "Epoch 71/100\n",
            "2/2 [==============================] - 0s 10ms/step - loss: 13.1417 - mse: 233.1233\n",
            "Epoch 72/100\n",
            "2/2 [==============================] - 0s 9ms/step - loss: 19.6590 - mse: 548.8585\n",
            "Epoch 73/100\n",
            "2/2 [==============================] - 0s 9ms/step - loss: 11.2043 - mse: 191.1174\n",
            "Epoch 74/100\n",
            "2/2 [==============================] - 0s 7ms/step - loss: 21.9478 - mse: 749.8741\n",
            "Epoch 75/100\n",
            "2/2 [==============================] - 0s 7ms/step - loss: 7.1916 - mse: 71.4722\n",
            "Epoch 76/100\n",
            "2/2 [==============================] - 0s 7ms/step - loss: 9.4148 - mse: 149.9112\n",
            "Epoch 77/100\n",
            "2/2 [==============================] - 0s 8ms/step - loss: 22.0333 - mse: 725.8889\n",
            "Epoch 78/100\n",
            "2/2 [==============================] - 0s 7ms/step - loss: 17.7293 - mse: 477.4224\n",
            "Epoch 79/100\n",
            "2/2 [==============================] - 0s 8ms/step - loss: 14.8826 - mse: 324.3370\n",
            "Epoch 80/100\n",
            "2/2 [==============================] - 0s 10ms/step - loss: 25.2227 - mse: 971.2391\n",
            "Epoch 81/100\n",
            "2/2 [==============================] - 0s 11ms/step - loss: 10.9506 - mse: 142.1855\n",
            "Epoch 82/100\n",
            "2/2 [==============================] - 0s 7ms/step - loss: 12.7305 - mse: 231.8434\n",
            "Epoch 83/100\n",
            "2/2 [==============================] - 0s 9ms/step - loss: 17.4962 - mse: 399.0481\n",
            "Epoch 84/100\n",
            "2/2 [==============================] - 0s 8ms/step - loss: 7.2850 - mse: 73.2149\n",
            "Epoch 85/100\n",
            "2/2 [==============================] - 0s 12ms/step - loss: 15.0232 - mse: 315.0794\n",
            "Epoch 86/100\n",
            "2/2 [==============================] - 0s 10ms/step - loss: 15.3335 - mse: 316.6193\n",
            "Epoch 87/100\n",
            "2/2 [==============================] - 0s 8ms/step - loss: 19.2000 - mse: 525.4114\n",
            "Epoch 88/100\n",
            "2/2 [==============================] - 0s 8ms/step - loss: 29.5854 - mse: 1265.3312\n",
            "Epoch 89/100\n",
            "2/2 [==============================] - 0s 8ms/step - loss: 10.1482 - mse: 124.2203\n",
            "Epoch 90/100\n",
            "2/2 [==============================] - 0s 8ms/step - loss: 21.3274 - mse: 651.5172\n",
            "Epoch 91/100\n",
            "2/2 [==============================] - 0s 7ms/step - loss: 10.5323 - mse: 162.7339\n",
            "Epoch 92/100\n",
            "2/2 [==============================] - 0s 9ms/step - loss: 18.2204 - mse: 454.7137\n",
            "Epoch 93/100\n",
            "2/2 [==============================] - 0s 6ms/step - loss: 6.8167 - mse: 67.3488\n",
            "Epoch 94/100\n",
            "2/2 [==============================] - 0s 7ms/step - loss: 13.0177 - mse: 230.3934\n",
            "Epoch 95/100\n",
            "2/2 [==============================] - 0s 8ms/step - loss: 18.4077 - mse: 499.7991\n",
            "Epoch 96/100\n",
            "2/2 [==============================] - 0s 6ms/step - loss: 10.3563 - mse: 178.5366\n",
            "Epoch 97/100\n",
            "2/2 [==============================] - 0s 10ms/step - loss: 14.4240 - mse: 314.4220\n",
            "Epoch 98/100\n",
            "2/2 [==============================] - 0s 10ms/step - loss: 6.5798 - mse: 60.5991\n",
            "Epoch 99/100\n",
            "2/2 [==============================] - 0s 7ms/step - loss: 12.5989 - mse: 229.4431\n",
            "Epoch 100/100\n",
            "2/2 [==============================] - 0s 9ms/step - loss: 19.4141 - mse: 553.5159\n"
          ]
        },
        {
          "output_type": "execute_result",
          "data": {
            "text/plain": [
              "<keras.callbacks.History at 0x7f59b598d520>"
            ]
          },
          "metadata": {},
          "execution_count": 94
        }
      ]
    },
    {
      "cell_type": "code",
      "source": [
        "# Make and plot predictions of model_2\n",
        "\n",
        "y_preds_2 = model_2.predict(X_test)\n",
        "plot_predictions(predictions=y_preds_2)"
      ],
      "metadata": {
        "colab": {
          "base_uri": "https://localhost:8080/",
          "height": 445
        },
        "id": "7FRB8HgiEw09",
        "outputId": "3c0c3887-922a-43e5-a0a3-279f5f5e40b2"
      },
      "execution_count": null,
      "outputs": [
        {
          "output_type": "stream",
          "name": "stdout",
          "text": [
            "1/1 [==============================] - 0s 108ms/step\n"
          ]
        },
        {
          "output_type": "display_data",
          "data": {
            "text/plain": [
              "<Figure size 720x504 with 1 Axes>"
            ],
            "image/png": "[encoded data removed]"
          },
          "metadata": {
            "needs_background": "light"
          }
        }
      ]
    },
    {
      "cell_type": "code",
      "source": [
        "# Calculate model_2 evaluation metrics\n",
        "mae_2 = mae(y_test, y_preds_2)\n",
        "mse_2 = mse(y_test,y_preds_2)"
      ],
      "metadata": {
        "id": "-Gsos7cOFRMO"
      },
      "execution_count": null,
      "outputs": []
    },
    {
      "cell_type": "code",
      "source": [
        "mae_2,mse_2"
      ],
      "metadata": {
        "colab": {
          "base_uri": "https://localhost:8080/"
        },
        "id": "4VbcffQ3FbuZ",
        "outputId": "636c62c5-aef4-4153-f883-3b4d608d9018"
      },
      "execution_count": null,
      "outputs": [
        {
          "output_type": "execute_result",
          "data": {
            "text/plain": [
              "(<tf.Tensor: shape=(), dtype=float32, numpy=13.252612>,\n",
              " <tf.Tensor: shape=(), dtype=float32, numpy=185.637>)"
            ]
          },
          "metadata": {},
          "execution_count": 97
        }
      ]
    },
    {
      "cell_type": "markdown",
      "source": [
        "**Build `model_3`**\n",
        "\n",
        "* 2 layers, trained for 500 epochs"
      ],
      "metadata": {
        "id": "g67AiHd6Fj2x"
      }
    },
    {
      "cell_type": "code",
      "source": [
        "tf.random.set_seed(42)\n",
        "\n",
        "# 1. Create the model\n",
        "\n",
        "model_3 = tf.keras.Sequential([\n",
        "    tf.keras.layers.Dense(10),\n",
        "    tf.keras.layers.Dense(1)\n",
        "])\n",
        "\n",
        "# 2. Compile the model\n",
        "model_3.compile(loss=tf.keras.losses.mae,\n",
        "                optimizer=tf.keras.optimizers.SGD(),\n",
        "                metrics=[\"mse\"])\n",
        "\n",
        "# 3. Fit the model\n",
        "model_3.fit(tf.expand_dims(X_train, axis=-1),y_train, epochs=500)"
      ],
      "metadata": {
        "colab": {
          "base_uri": "https://localhost:8080/"
        },
        "id": "DrAUz5jGFdQo",
        "outputId": "d6d9a532-c547-46ad-fb84-eb75ab5eafb2"
      },
      "execution_count": null,
      "outputs": [
        {
          "output_type": "stream",
          "name": "stdout",
          "text": [
            "Epoch 1/500\n",
            "2/2 [==============================] - 1s 19ms/step - loss: 25.0573 - mse: 1340.8342\n",
            "Epoch 2/500\n",
            "2/2 [==============================] - 0s 11ms/step - loss: 23.6236 - mse: 856.4326\n",
            "Epoch 3/500\n",
            "2/2 [==============================] - 0s 10ms/step - loss: 28.4884 - mse: 1204.4381\n",
            "Epoch 4/500\n",
            "2/2 [==============================] - 0s 8ms/step - loss: 15.8723 - mse: 373.9302\n",
            "Epoch 5/500\n",
            "2/2 [==============================] - 0s 8ms/step - loss: 21.9575 - mse: 703.1728\n",
            "Epoch 6/500\n",
            "2/2 [==============================] - 0s 19ms/step - loss: 11.1708 - mse: 138.7032\n",
            "Epoch 7/500\n",
            "2/2 [==============================] - 0s 12ms/step - loss: 12.2206 - mse: 190.7012\n",
            "Epoch 8/500\n",
            "2/2 [==============================] - 0s 9ms/step - loss: 10.9736 - mse: 137.8673\n",
            "Epoch 9/500\n",
            "2/2 [==============================] - 0s 10ms/step - loss: 38.5217 - mse: 2299.6619\n",
            "Epoch 10/500\n",
            "2/2 [==============================] - 0s 12ms/step - loss: 26.0284 - mse: 952.6100\n",
            "Epoch 11/500\n",
            "2/2 [==============================] - 0s 12ms/step - loss: 10.2602 - mse: 150.4870\n",
            "Epoch 12/500\n",
            "2/2 [==============================] - 0s 12ms/step - loss: 25.1943 - mse: 885.7584\n",
            "Epoch 13/500\n",
            "2/2 [==============================] - 0s 8ms/step - loss: 17.6883 - mse: 434.2384\n",
            "Epoch 14/500\n",
            "2/2 [==============================] - 0s 8ms/step - loss: 23.8913 - mse: 876.7938\n",
            "Epoch 15/500\n",
            "2/2 [==============================] - 0s 8ms/step - loss: 15.9013 - mse: 344.7647\n",
            "Epoch 16/500\n",
            "2/2 [==============================] - 0s 8ms/step - loss: 10.4886 - mse: 125.4063\n",
            "Epoch 17/500\n",
            "2/2 [==============================] - 0s 8ms/step - loss: 20.1560 - mse: 553.5831\n",
            "Epoch 18/500\n",
            "2/2 [==============================] - 0s 9ms/step - loss: 10.8775 - mse: 175.7454\n",
            "Epoch 19/500\n",
            "2/2 [==============================] - 0s 8ms/step - loss: 10.7680 - mse: 141.8966\n",
            "Epoch 20/500\n",
            "2/2 [==============================] - 0s 9ms/step - loss: 12.0890 - mse: 167.0531\n",
            "Epoch 21/500\n",
            "2/2 [==============================] - 0s 9ms/step - loss: 20.2807 - mse: 598.0320\n",
            "Epoch 22/500\n",
            "2/2 [==============================] - 0s 15ms/step - loss: 13.8647 - mse: 246.9749\n",
            "Epoch 23/500\n",
            "2/2 [==============================] - 0s 12ms/step - loss: 9.5810 - mse: 95.7594\n",
            "Epoch 24/500\n",
            "2/2 [==============================] - 0s 10ms/step - loss: 11.9413 - mse: 165.0520\n",
            "Epoch 25/500\n",
            "2/2 [==============================] - 0s 11ms/step - loss: 16.3105 - mse: 389.9408\n",
            "Epoch 26/500\n",
            "2/2 [==============================] - 0s 18ms/step - loss: 16.4988 - mse: 379.5456\n",
            "Epoch 27/500\n",
            "2/2 [==============================] - 0s 13ms/step - loss: 11.6197 - mse: 184.3175\n",
            "Epoch 28/500\n",
            "2/2 [==============================] - 0s 15ms/step - loss: 30.1683 - mse: 1485.0297\n",
            "Epoch 29/500\n",
            "2/2 [==============================] - 0s 14ms/step - loss: 9.2565 - mse: 92.3975\n",
            "Epoch 30/500\n",
            "2/2 [==============================] - 0s 14ms/step - loss: 30.6777 - mse: 1730.0648\n",
            "Epoch 31/500\n",
            "2/2 [==============================] - 0s 24ms/step - loss: 41.9742 - mse: 3079.7681\n",
            "Epoch 32/500\n",
            "2/2 [==============================] - 0s 11ms/step - loss: 11.8958 - mse: 205.7273\n",
            "Epoch 33/500\n",
            "2/2 [==============================] - 0s 9ms/step - loss: 15.4878 - mse: 330.5763\n",
            "Epoch 34/500\n",
            "2/2 [==============================] - 0s 13ms/step - loss: 12.5817 - mse: 208.8781\n",
            "Epoch 35/500\n",
            "2/2 [==============================] - 0s 15ms/step - loss: 9.1823 - mse: 91.3333\n",
            "Epoch 36/500\n",
            "2/2 [==============================] - 0s 20ms/step - loss: 16.4810 - mse: 394.9819\n",
            "Epoch 37/500\n",
            "2/2 [==============================] - 0s 9ms/step - loss: 11.0709 - mse: 191.9509\n",
            "Epoch 38/500\n",
            "2/2 [==============================] - 0s 15ms/step - loss: 18.2007 - mse: 436.4364\n",
            "Epoch 39/500\n",
            "2/2 [==============================] - 0s 11ms/step - loss: 19.1324 - mse: 532.9755\n",
            "Epoch 40/500\n",
            "2/2 [==============================] - 0s 12ms/step - loss: 20.4931 - mse: 613.6387\n",
            "Epoch 41/500\n",
            "2/2 [==============================] - 0s 21ms/step - loss: 14.8106 - mse: 274.9660\n",
            "Epoch 42/500\n",
            "2/2 [==============================] - 0s 12ms/step - loss: 12.2046 - mse: 182.9091\n",
            "Epoch 43/500\n",
            "2/2 [==============================] - 0s 13ms/step - loss: 10.6860 - mse: 163.9080\n",
            "Epoch 44/500\n",
            "2/2 [==============================] - 0s 14ms/step - loss: 32.3607 - mse: 1723.0026\n",
            "Epoch 45/500\n",
            "2/2 [==============================] - 0s 14ms/step - loss: 12.4758 - mse: 202.8629\n",
            "Epoch 46/500\n",
            "2/2 [==============================] - 0s 13ms/step - loss: 17.5889 - mse: 463.6705\n",
            "Epoch 47/500\n",
            "2/2 [==============================] - 0s 16ms/step - loss: 15.7186 - mse: 337.9447\n",
            "Epoch 48/500\n",
            "2/2 [==============================] - 0s 13ms/step - loss: 8.3451 - mse: 112.3302\n",
            "Epoch 49/500\n",
            "2/2 [==============================] - 0s 12ms/step - loss: 13.9456 - mse: 268.0854\n",
            "Epoch 50/500\n",
            "2/2 [==============================] - 0s 12ms/step - loss: 12.7954 - mse: 214.3326\n",
            "Epoch 51/500\n",
            "2/2 [==============================] - 0s 10ms/step - loss: 14.8091 - mse: 308.0189\n",
            "Epoch 52/500\n",
            "2/2 [==============================] - 0s 11ms/step - loss: 18.6973 - mse: 527.3546\n",
            "Epoch 53/500\n",
            "2/2 [==============================] - 0s 22ms/step - loss: 24.1270 - mse: 825.9567\n",
            "Epoch 54/500\n",
            "2/2 [==============================] - 0s 11ms/step - loss: 23.2729 - mse: 812.1010\n",
            "Epoch 55/500\n",
            "2/2 [==============================] - 0s 12ms/step - loss: 24.1394 - mse: 877.3734\n",
            "Epoch 56/500\n",
            "2/2 [==============================] - 0s 16ms/step - loss: 11.1789 - mse: 170.7541\n",
            "Epoch 57/500\n",
            "2/2 [==============================] - 0s 20ms/step - loss: 13.1493 - mse: 215.9340\n",
            "Epoch 58/500\n",
            "2/2 [==============================] - 0s 21ms/step - loss: 9.8242 - mse: 106.5885\n",
            "Epoch 59/500\n",
            "2/2 [==============================] - 0s 20ms/step - loss: 13.3521 - mse: 252.4949\n",
            "Epoch 60/500\n",
            "2/2 [==============================] - 0s 15ms/step - loss: 10.8898 - mse: 140.3391\n",
            "Epoch 61/500\n",
            "2/2 [==============================] - 0s 19ms/step - loss: 13.5133 - mse: 244.4708\n",
            "Epoch 62/500\n",
            "2/2 [==============================] - 0s 13ms/step - loss: 17.8323 - mse: 484.0865\n",
            "Epoch 63/500\n",
            "2/2 [==============================] - 0s 11ms/step - loss: 8.7061 - mse: 91.8044\n",
            "Epoch 64/500\n",
            "2/2 [==============================] - 0s 16ms/step - loss: 16.0993 - mse: 371.6758\n",
            "Epoch 65/500\n",
            "2/2 [==============================] - 0s 15ms/step - loss: 10.7133 - mse: 145.7244\n",
            "Epoch 66/500\n",
            "2/2 [==============================] - 0s 21ms/step - loss: 22.1601 - mse: 727.4384\n",
            "Epoch 67/500\n",
            "2/2 [==============================] - 0s 19ms/step - loss: 10.2386 - mse: 120.6185\n",
            "Epoch 68/500\n",
            "2/2 [==============================] - 0s 20ms/step - loss: 13.4493 - mse: 268.5212\n",
            "Epoch 69/500\n",
            "2/2 [==============================] - 0s 20ms/step - loss: 11.4078 - mse: 162.6741\n",
            "Epoch 70/500\n",
            "2/2 [==============================] - 0s 7ms/step - loss: 13.5928 - mse: 245.4124\n",
            "Epoch 71/500\n",
            "2/2 [==============================] - 0s 7ms/step - loss: 15.6215 - mse: 346.9147\n",
            "Epoch 72/500\n",
            "2/2 [==============================] - 0s 8ms/step - loss: 11.8343 - mse: 168.2545\n",
            "Epoch 73/500\n",
            "2/2 [==============================] - 0s 7ms/step - loss: 16.6293 - mse: 372.8875\n",
            "Epoch 74/500\n",
            "2/2 [==============================] - 0s 6ms/step - loss: 24.1889 - mse: 920.9676\n",
            "Epoch 75/500\n",
            "2/2 [==============================] - 0s 7ms/step - loss: 9.6208 - mse: 148.5439\n",
            "Epoch 76/500\n",
            "2/2 [==============================] - 0s 7ms/step - loss: 12.4763 - mse: 189.9652\n",
            "Epoch 77/500\n",
            "2/2 [==============================] - 0s 7ms/step - loss: 16.7558 - mse: 435.7308\n",
            "Epoch 78/500\n",
            "2/2 [==============================] - 0s 7ms/step - loss: 9.0679 - mse: 96.6096\n",
            "Epoch 79/500\n",
            "2/2 [==============================] - 0s 6ms/step - loss: 24.1078 - mse: 875.5908\n",
            "Epoch 80/500\n",
            "2/2 [==============================] - 0s 12ms/step - loss: 26.9150 - mse: 1119.8474\n",
            "Epoch 81/500\n",
            "2/2 [==============================] - 0s 8ms/step - loss: 11.7416 - mse: 174.1158\n",
            "Epoch 82/500\n",
            "2/2 [==============================] - 0s 7ms/step - loss: 11.9731 - mse: 211.0025\n",
            "Epoch 83/500\n",
            "2/2 [==============================] - 0s 8ms/step - loss: 17.3515 - mse: 392.2760\n",
            "Epoch 84/500\n",
            "2/2 [==============================] - 0s 7ms/step - loss: 7.2447 - mse: 73.1008\n",
            "Epoch 85/500\n",
            "2/2 [==============================] - 0s 6ms/step - loss: 14.9099 - mse: 310.7509\n",
            "Epoch 86/500\n",
            "2/2 [==============================] - 0s 8ms/step - loss: 15.2415 - mse: 314.2415\n",
            "Epoch 87/500\n",
            "2/2 [==============================] - 0s 8ms/step - loss: 19.0216 - mse: 517.3116\n",
            "Epoch 88/500\n",
            "2/2 [==============================] - 0s 12ms/step - loss: 30.0472 - mse: 1308.0691\n",
            "Epoch 89/500\n",
            "2/2 [==============================] - 0s 9ms/step - loss: 10.2012 - mse: 124.1767\n",
            "Epoch 90/500\n",
            "2/2 [==============================] - 0s 7ms/step - loss: 21.7100 - mse: 675.7210\n",
            "Epoch 91/500\n",
            "2/2 [==============================] - 0s 7ms/step - loss: 10.6110 - mse: 160.9362\n",
            "Epoch 92/500\n",
            "2/2 [==============================] - 0s 7ms/step - loss: 18.5658 - mse: 473.2216\n",
            "Epoch 93/500\n",
            "2/2 [==============================] - 0s 8ms/step - loss: 8.1625 - mse: 104.8101\n",
            "Epoch 94/500\n",
            "2/2 [==============================] - 0s 7ms/step - loss: 11.3767 - mse: 168.1537\n",
            "Epoch 95/500\n",
            "2/2 [==============================] - 0s 8ms/step - loss: 25.5151 - mse: 983.5319\n",
            "Epoch 96/500\n",
            "2/2 [==============================] - 0s 7ms/step - loss: 10.9984 - mse: 169.4457\n",
            "Epoch 97/500\n",
            "2/2 [==============================] - 0s 7ms/step - loss: 16.3591 - mse: 407.9775\n",
            "Epoch 98/500\n",
            "2/2 [==============================] - 0s 7ms/step - loss: 6.8241 - mse: 65.6853\n",
            "Epoch 99/500\n",
            "2/2 [==============================] - 0s 7ms/step - loss: 11.6819 - mse: 213.1770\n",
            "Epoch 100/500\n",
            "2/2 [==============================] - 0s 7ms/step - loss: 23.4942 - mse: 767.4080\n",
            "Epoch 101/500\n",
            "2/2 [==============================] - 0s 8ms/step - loss: 21.2888 - mse: 685.9784\n",
            "Epoch 102/500\n",
            "2/2 [==============================] - 0s 7ms/step - loss: 10.7517 - mse: 158.7365\n",
            "Epoch 103/500\n",
            "2/2 [==============================] - 0s 7ms/step - loss: 9.1568 - mse: 95.7126\n",
            "Epoch 104/500\n",
            "2/2 [==============================] - 0s 8ms/step - loss: 23.8964 - mse: 855.6284\n",
            "Epoch 105/500\n",
            "2/2 [==============================] - 0s 8ms/step - loss: 10.8395 - mse: 162.0609\n",
            "Epoch 106/500\n",
            "2/2 [==============================] - 0s 7ms/step - loss: 11.2988 - mse: 178.7550\n",
            "Epoch 107/500\n",
            "2/2 [==============================] - 0s 7ms/step - loss: 21.4863 - mse: 688.6857\n",
            "Epoch 108/500\n",
            "2/2 [==============================] - 0s 8ms/step - loss: 6.5713 - mse: 60.1882\n",
            "Epoch 109/500\n",
            "2/2 [==============================] - 0s 10ms/step - loss: 13.3218 - mse: 248.9297\n",
            "Epoch 110/500\n",
            "2/2 [==============================] - 0s 8ms/step - loss: 7.9706 - mse: 114.6809\n",
            "Epoch 111/500\n",
            "2/2 [==============================] - 0s 9ms/step - loss: 15.7454 - mse: 348.5873\n",
            "Epoch 112/500\n",
            "2/2 [==============================] - 0s 8ms/step - loss: 8.7333 - mse: 91.8853\n",
            "Epoch 113/500\n",
            "2/2 [==============================] - 0s 8ms/step - loss: 22.7015 - mse: 747.4762\n",
            "Epoch 114/500\n",
            "2/2 [==============================] - 0s 7ms/step - loss: 19.0437 - mse: 547.6713\n",
            "Epoch 115/500\n",
            "2/2 [==============================] - 0s 9ms/step - loss: 11.0781 - mse: 153.0303\n",
            "Epoch 116/500\n",
            "2/2 [==============================] - 0s 9ms/step - loss: 23.1536 - mse: 780.7278\n",
            "Epoch 117/500\n",
            "2/2 [==============================] - 0s 9ms/step - loss: 9.5665 - mse: 126.3414\n",
            "Epoch 118/500\n",
            "2/2 [==============================] - 0s 8ms/step - loss: 10.6341 - mse: 138.8058\n",
            "Epoch 119/500\n",
            "2/2 [==============================] - 0s 8ms/step - loss: 8.0273 - mse: 77.2893\n",
            "Epoch 120/500\n",
            "2/2 [==============================] - 0s 8ms/step - loss: 29.4997 - mse: 1298.1879\n",
            "Epoch 121/500\n",
            "2/2 [==============================] - 0s 8ms/step - loss: 8.0648 - mse: 70.3932\n",
            "Epoch 122/500\n",
            "2/2 [==============================] - 0s 8ms/step - loss: 28.1564 - mse: 1217.6935\n",
            "Epoch 123/500\n",
            "2/2 [==============================] - 0s 7ms/step - loss: 32.7132 - mse: 1572.1331\n",
            "Epoch 124/500\n",
            "2/2 [==============================] - 0s 7ms/step - loss: 19.4883 - mse: 563.2677\n",
            "Epoch 125/500\n",
            "2/2 [==============================] - 0s 7ms/step - loss: 9.5529 - mse: 151.4370\n",
            "Epoch 126/500\n",
            "2/2 [==============================] - 0s 8ms/step - loss: 9.6214 - mse: 113.0067\n",
            "Epoch 127/500\n",
            "2/2 [==============================] - 0s 8ms/step - loss: 12.8112 - mse: 256.8454\n",
            "Epoch 128/500\n",
            "2/2 [==============================] - 0s 7ms/step - loss: 13.3472 - mse: 249.1889\n",
            "Epoch 129/500\n",
            "2/2 [==============================] - 0s 7ms/step - loss: 10.1914 - mse: 155.0304\n",
            "Epoch 130/500\n",
            "2/2 [==============================] - 0s 7ms/step - loss: 17.5128 - mse: 430.5256\n",
            "Epoch 131/500\n",
            "2/2 [==============================] - 0s 7ms/step - loss: 9.5025 - mse: 116.8671\n",
            "Epoch 132/500\n",
            "2/2 [==============================] - 0s 7ms/step - loss: 17.4212 - mse: 453.1926\n",
            "Epoch 133/500\n",
            "2/2 [==============================] - 0s 7ms/step - loss: 7.0910 - mse: 65.7445\n",
            "Epoch 134/500\n",
            "2/2 [==============================] - 0s 7ms/step - loss: 23.8209 - mse: 811.1859\n",
            "Epoch 135/500\n",
            "2/2 [==============================] - 0s 7ms/step - loss: 16.6744 - mse: 390.2940\n",
            "Epoch 136/500\n",
            "2/2 [==============================] - 0s 7ms/step - loss: 14.8866 - mse: 310.0134\n",
            "Epoch 137/500\n",
            "2/2 [==============================] - 0s 7ms/step - loss: 23.1912 - mse: 725.7126\n",
            "Epoch 138/500\n",
            "2/2 [==============================] - 0s 7ms/step - loss: 9.1405 - mse: 139.3271\n",
            "Epoch 139/500\n",
            "2/2 [==============================] - 0s 7ms/step - loss: 8.9192 - mse: 144.2716\n",
            "Epoch 140/500\n",
            "2/2 [==============================] - 0s 11ms/step - loss: 16.4957 - mse: 390.2783\n",
            "Epoch 141/500\n",
            "2/2 [==============================] - 0s 9ms/step - loss: 8.4153 - mse: 92.0293\n",
            "Epoch 142/500\n",
            "2/2 [==============================] - 0s 8ms/step - loss: 37.0102 - mse: 2412.7024\n",
            "Epoch 143/500\n",
            "2/2 [==============================] - 0s 8ms/step - loss: 25.6234 - mse: 930.5148\n",
            "Epoch 144/500\n",
            "2/2 [==============================] - 0s 8ms/step - loss: 9.5321 - mse: 144.5275\n",
            "Epoch 145/500\n",
            "2/2 [==============================] - 0s 8ms/step - loss: 26.5914 - mse: 956.1812\n",
            "Epoch 146/500\n",
            "2/2 [==============================] - 0s 13ms/step - loss: 8.7382 - mse: 109.3885\n",
            "Epoch 147/500\n",
            "2/2 [==============================] - 0s 8ms/step - loss: 15.6006 - mse: 310.8966\n",
            "Epoch 148/500\n",
            "2/2 [==============================] - 0s 6ms/step - loss: 18.2857 - mse: 463.7250\n",
            "Epoch 149/500\n",
            "2/2 [==============================] - 0s 11ms/step - loss: 8.2098 - mse: 106.1942\n",
            "Epoch 150/500\n",
            "2/2 [==============================] - 0s 9ms/step - loss: 7.4963 - mse: 66.2459\n",
            "Epoch 151/500\n",
            "2/2 [==============================] - 0s 11ms/step - loss: 18.3813 - mse: 488.5240\n",
            "Epoch 152/500\n",
            "2/2 [==============================] - 0s 9ms/step - loss: 10.2951 - mse: 130.8846\n",
            "Epoch 153/500\n",
            "2/2 [==============================] - 0s 8ms/step - loss: 29.7157 - mse: 1275.4733\n",
            "Epoch 154/500\n",
            "2/2 [==============================] - 0s 8ms/step - loss: 10.5378 - mse: 201.4867\n",
            "Epoch 155/500\n",
            "2/2 [==============================] - 0s 9ms/step - loss: 15.4376 - mse: 346.2148\n",
            "Epoch 156/500\n",
            "2/2 [==============================] - 0s 8ms/step - loss: 16.9840 - mse: 437.6119\n",
            "Epoch 157/500\n",
            "2/2 [==============================] - 0s 12ms/step - loss: 32.9074 - mse: 1754.5928\n",
            "Epoch 158/500\n",
            "2/2 [==============================] - 0s 10ms/step - loss: 10.7224 - mse: 151.7046\n",
            "Epoch 159/500\n",
            "2/2 [==============================] - 0s 8ms/step - loss: 8.9113 - mse: 97.7721\n",
            "Epoch 160/500\n",
            "2/2 [==============================] - 0s 8ms/step - loss: 22.1964 - mse: 713.9240\n",
            "Epoch 161/500\n",
            "2/2 [==============================] - 0s 7ms/step - loss: 11.7320 - mse: 203.8068\n",
            "Epoch 162/500\n",
            "2/2 [==============================] - 0s 8ms/step - loss: 21.6349 - mse: 674.3492\n",
            "Epoch 163/500\n",
            "2/2 [==============================] - 0s 8ms/step - loss: 19.3060 - mse: 536.6539\n",
            "Epoch 164/500\n",
            "2/2 [==============================] - 0s 8ms/step - loss: 11.0475 - mse: 179.0835\n",
            "Epoch 165/500\n",
            "2/2 [==============================] - 0s 8ms/step - loss: 9.6049 - mse: 180.4850\n",
            "Epoch 166/500\n",
            "2/2 [==============================] - 0s 8ms/step - loss: 21.5571 - mse: 680.2520\n",
            "Epoch 167/500\n",
            "2/2 [==============================] - 0s 8ms/step - loss: 26.3694 - mse: 1055.9493\n",
            "Epoch 168/500\n",
            "2/2 [==============================] - 0s 8ms/step - loss: 9.8621 - mse: 118.4077\n",
            "Epoch 169/500\n",
            "2/2 [==============================] - 0s 11ms/step - loss: 22.6511 - mse: 793.3006\n",
            "Epoch 170/500\n",
            "2/2 [==============================] - 0s 10ms/step - loss: 10.1323 - mse: 196.4070\n",
            "Epoch 171/500\n",
            "2/2 [==============================] - 0s 8ms/step - loss: 18.0070 - mse: 501.7197\n",
            "Epoch 172/500\n",
            "2/2 [==============================] - 0s 9ms/step - loss: 28.9321 - mse: 1315.1372\n",
            "Epoch 173/500\n",
            "2/2 [==============================] - 0s 8ms/step - loss: 16.6005 - mse: 435.5246\n",
            "Epoch 174/500\n",
            "2/2 [==============================] - 0s 8ms/step - loss: 11.2001 - mse: 200.4403\n",
            "Epoch 175/500\n",
            "2/2 [==============================] - 0s 11ms/step - loss: 27.5592 - mse: 1096.0922\n",
            "Epoch 176/500\n",
            "2/2 [==============================] - 0s 7ms/step - loss: 8.2888 - mse: 77.9755\n",
            "Epoch 177/500\n",
            "2/2 [==============================] - 0s 10ms/step - loss: 9.2721 - mse: 109.1716\n",
            "Epoch 178/500\n",
            "2/2 [==============================] - 0s 9ms/step - loss: 18.2249 - mse: 469.8332\n",
            "Epoch 179/500\n",
            "2/2 [==============================] - 0s 10ms/step - loss: 10.5611 - mse: 146.9390\n",
            "Epoch 180/500\n",
            "2/2 [==============================] - 0s 9ms/step - loss: 7.9075 - mse: 100.0427\n",
            "Epoch 181/500\n",
            "2/2 [==============================] - 0s 7ms/step - loss: 17.4725 - mse: 441.9753\n",
            "Epoch 182/500\n",
            "2/2 [==============================] - 0s 9ms/step - loss: 11.0353 - mse: 157.9214\n",
            "Epoch 183/500\n",
            "2/2 [==============================] - 0s 8ms/step - loss: 11.7353 - mse: 205.0477\n",
            "Epoch 184/500\n",
            "2/2 [==============================] - 0s 8ms/step - loss: 30.5245 - mse: 1398.7506\n",
            "Epoch 185/500\n",
            "2/2 [==============================] - 0s 9ms/step - loss: 7.5406 - mse: 98.9850\n",
            "Epoch 186/500\n",
            "2/2 [==============================] - 0s 8ms/step - loss: 15.9511 - mse: 367.6828\n",
            "Epoch 187/500\n",
            "2/2 [==============================] - 0s 9ms/step - loss: 8.5638 - mse: 85.3554\n",
            "Epoch 188/500\n",
            "2/2 [==============================] - 0s 9ms/step - loss: 28.8573 - mse: 1186.6019\n",
            "Epoch 189/500\n",
            "2/2 [==============================] - 0s 8ms/step - loss: 13.1416 - mse: 271.6602\n",
            "Epoch 190/500\n",
            "2/2 [==============================] - 0s 9ms/step - loss: 18.2796 - mse: 510.4184\n",
            "Epoch 191/500\n",
            "2/2 [==============================] - 0s 8ms/step - loss: 13.7017 - mse: 263.6453\n",
            "Epoch 192/500\n",
            "2/2 [==============================] - 0s 7ms/step - loss: 13.6940 - mse: 261.3016\n",
            "Epoch 193/500\n",
            "2/2 [==============================] - 0s 7ms/step - loss: 28.5551 - mse: 1133.0089\n",
            "Epoch 194/500\n",
            "2/2 [==============================] - 0s 7ms/step - loss: 7.0986 - mse: 78.3959\n",
            "Epoch 195/500\n",
            "2/2 [==============================] - 0s 8ms/step - loss: 7.0480 - mse: 75.1049\n",
            "Epoch 196/500\n",
            "2/2 [==============================] - 0s 7ms/step - loss: 21.9602 - mse: 706.9038\n",
            "Epoch 197/500\n",
            "2/2 [==============================] - 0s 7ms/step - loss: 20.9399 - mse: 649.8019\n",
            "Epoch 198/500\n",
            "2/2 [==============================] - 0s 12ms/step - loss: 12.5252 - mse: 238.3462\n",
            "Epoch 199/500\n",
            "2/2 [==============================] - 0s 11ms/step - loss: 17.9925 - mse: 464.4446\n",
            "Epoch 200/500\n",
            "2/2 [==============================] - 0s 10ms/step - loss: 13.8256 - mse: 285.5324\n",
            "Epoch 201/500\n",
            "2/2 [==============================] - 0s 8ms/step - loss: 6.0255 - mse: 51.0674\n",
            "Epoch 202/500\n",
            "2/2 [==============================] - 0s 15ms/step - loss: 22.8472 - mse: 744.3011\n",
            "Epoch 203/500\n",
            "2/2 [==============================] - 0s 8ms/step - loss: 8.9392 - mse: 153.2279\n",
            "Epoch 204/500\n",
            "2/2 [==============================] - 0s 13ms/step - loss: 18.8293 - mse: 531.6719\n",
            "Epoch 205/500\n",
            "2/2 [==============================] - 0s 7ms/step - loss: 9.3457 - mse: 126.9131\n",
            "Epoch 206/500\n",
            "2/2 [==============================] - 0s 7ms/step - loss: 10.4151 - mse: 143.2800\n",
            "Epoch 207/500\n",
            "2/2 [==============================] - 0s 7ms/step - loss: 21.1209 - mse: 678.0640\n",
            "Epoch 208/500\n",
            "2/2 [==============================] - 0s 9ms/step - loss: 16.4751 - mse: 390.7003\n",
            "Epoch 209/500\n",
            "2/2 [==============================] - 0s 8ms/step - loss: 14.3829 - mse: 318.7649\n",
            "Epoch 210/500\n",
            "2/2 [==============================] - 0s 8ms/step - loss: 19.3996 - mse: 548.3967\n",
            "Epoch 211/500\n",
            "2/2 [==============================] - 0s 8ms/step - loss: 10.2994 - mse: 146.6082\n",
            "Epoch 212/500\n",
            "2/2 [==============================] - 0s 7ms/step - loss: 20.1972 - mse: 611.9016\n",
            "Epoch 213/500\n",
            "2/2 [==============================] - 0s 7ms/step - loss: 15.0519 - mse: 308.0627\n",
            "Epoch 214/500\n",
            "2/2 [==============================] - 0s 8ms/step - loss: 14.5965 - mse: 294.0247\n",
            "Epoch 215/500\n",
            "2/2 [==============================] - 0s 8ms/step - loss: 23.3181 - mse: 800.3839\n",
            "Epoch 216/500\n",
            "2/2 [==============================] - 0s 7ms/step - loss: 13.3338 - mse: 277.1664\n",
            "Epoch 217/500\n",
            "2/2 [==============================] - 0s 7ms/step - loss: 9.8328 - mse: 135.5684\n",
            "Epoch 218/500\n",
            "2/2 [==============================] - 0s 7ms/step - loss: 12.5661 - mse: 207.1441\n",
            "Epoch 219/500\n",
            "2/2 [==============================] - 0s 7ms/step - loss: 4.9501 - mse: 37.5991\n",
            "Epoch 220/500\n",
            "2/2 [==============================] - 0s 8ms/step - loss: 7.1185 - mse: 57.8565\n",
            "Epoch 221/500\n",
            "2/2 [==============================] - 0s 8ms/step - loss: 35.3975 - mse: 2099.8005\n",
            "Epoch 222/500\n",
            "2/2 [==============================] - 0s 9ms/step - loss: 34.7907 - mse: 1958.4971\n",
            "Epoch 223/500\n",
            "2/2 [==============================] - 0s 9ms/step - loss: 7.9961 - mse: 119.5823\n",
            "Epoch 224/500\n",
            "2/2 [==============================] - 0s 7ms/step - loss: 14.7142 - mse: 319.2787\n",
            "Epoch 225/500\n",
            "2/2 [==============================] - 0s 8ms/step - loss: 16.7356 - mse: 361.3922\n",
            "Epoch 226/500\n",
            "2/2 [==============================] - 0s 12ms/step - loss: 15.9477 - mse: 370.7418\n",
            "Epoch 227/500\n",
            "2/2 [==============================] - 0s 15ms/step - loss: 16.1839 - mse: 370.4555\n",
            "Epoch 228/500\n",
            "2/2 [==============================] - 0s 9ms/step - loss: 9.3347 - mse: 168.5712\n",
            "Epoch 229/500\n",
            "2/2 [==============================] - 0s 8ms/step - loss: 18.0021 - mse: 454.2529\n",
            "Epoch 230/500\n",
            "2/2 [==============================] - 0s 7ms/step - loss: 15.5755 - mse: 313.6136\n",
            "Epoch 231/500\n",
            "2/2 [==============================] - 0s 7ms/step - loss: 21.1293 - mse: 667.0560\n",
            "Epoch 232/500\n",
            "2/2 [==============================] - 0s 7ms/step - loss: 25.4567 - mse: 927.7018\n",
            "Epoch 233/500\n",
            "2/2 [==============================] - 0s 8ms/step - loss: 16.4596 - mse: 393.8941\n",
            "Epoch 234/500\n",
            "2/2 [==============================] - 0s 14ms/step - loss: 7.3089 - mse: 66.9505\n",
            "Epoch 235/500\n",
            "2/2 [==============================] - 0s 7ms/step - loss: 17.1103 - mse: 410.0095\n",
            "Epoch 236/500\n",
            "2/2 [==============================] - 0s 8ms/step - loss: 7.1730 - mse: 69.9461\n",
            "Epoch 237/500\n",
            "2/2 [==============================] - 0s 8ms/step - loss: 9.2754 - mse: 119.8348\n",
            "Epoch 238/500\n",
            "2/2 [==============================] - 0s 8ms/step - loss: 8.1347 - mse: 86.9184\n",
            "Epoch 239/500\n",
            "2/2 [==============================] - 0s 9ms/step - loss: 17.1939 - mse: 444.6355\n",
            "Epoch 240/500\n",
            "2/2 [==============================] - 0s 8ms/step - loss: 8.9190 - mse: 108.2751\n",
            "Epoch 241/500\n",
            "2/2 [==============================] - 0s 8ms/step - loss: 13.2732 - mse: 275.8001\n",
            "Epoch 242/500\n",
            "2/2 [==============================] - 0s 8ms/step - loss: 8.8304 - mse: 105.8962\n",
            "Epoch 243/500\n",
            "2/2 [==============================] - 0s 8ms/step - loss: 19.0670 - mse: 555.4794\n",
            "Epoch 244/500\n",
            "2/2 [==============================] - 0s 8ms/step - loss: 13.9519 - mse: 272.9451\n",
            "Epoch 245/500\n",
            "2/2 [==============================] - 0s 8ms/step - loss: 14.5938 - mse: 285.8402\n",
            "Epoch 246/500\n",
            "2/2 [==============================] - 0s 8ms/step - loss: 15.7257 - mse: 365.3260\n",
            "Epoch 247/500\n",
            "2/2 [==============================] - 0s 7ms/step - loss: 17.5770 - mse: 415.5165\n",
            "Epoch 248/500\n",
            "2/2 [==============================] - 0s 7ms/step - loss: 13.1400 - mse: 250.4581\n",
            "Epoch 249/500\n",
            "2/2 [==============================] - 0s 7ms/step - loss: 14.4497 - mse: 285.8615\n",
            "Epoch 250/500\n",
            "2/2 [==============================] - 0s 8ms/step - loss: 27.8759 - mse: 1105.4137\n",
            "Epoch 251/500\n",
            "2/2 [==============================] - 0s 7ms/step - loss: 7.4942 - mse: 70.1928\n",
            "Epoch 252/500\n",
            "2/2 [==============================] - 0s 8ms/step - loss: 37.9442 - mse: 2374.8655\n",
            "Epoch 253/500\n",
            "2/2 [==============================] - 0s 9ms/step - loss: 22.7973 - mse: 730.5399\n",
            "Epoch 254/500\n",
            "2/2 [==============================] - 0s 12ms/step - loss: 7.4175 - mse: 73.6074\n",
            "Epoch 255/500\n",
            "2/2 [==============================] - 0s 10ms/step - loss: 25.6901 - mse: 964.1437\n",
            "Epoch 256/500\n",
            "2/2 [==============================] - 0s 8ms/step - loss: 13.6496 - mse: 273.1828\n",
            "Epoch 257/500\n",
            "2/2 [==============================] - 0s 8ms/step - loss: 8.3032 - mse: 111.0084\n",
            "Epoch 258/500\n",
            "2/2 [==============================] - 0s 9ms/step - loss: 13.1587 - mse: 271.8531\n",
            "Epoch 259/500\n",
            "2/2 [==============================] - 0s 9ms/step - loss: 9.5015 - mse: 124.8017\n",
            "Epoch 260/500\n",
            "2/2 [==============================] - 0s 8ms/step - loss: 38.3770 - mse: 2318.5132\n",
            "Epoch 261/500\n",
            "2/2 [==============================] - 0s 7ms/step - loss: 15.4691 - mse: 350.1654\n",
            "Epoch 262/500\n",
            "2/2 [==============================] - 0s 8ms/step - loss: 5.7773 - mse: 61.5203\n",
            "Epoch 263/500\n",
            "2/2 [==============================] - 0s 8ms/step - loss: 14.6071 - mse: 306.9197\n",
            "Epoch 264/500\n",
            "2/2 [==============================] - 0s 8ms/step - loss: 18.7708 - mse: 523.7760\n",
            "Epoch 265/500\n",
            "2/2 [==============================] - 0s 8ms/step - loss: 13.0416 - mse: 257.6586\n",
            "Epoch 266/500\n",
            "2/2 [==============================] - 0s 8ms/step - loss: 10.5513 - mse: 239.3708\n",
            "Epoch 267/500\n",
            "2/2 [==============================] - 0s 7ms/step - loss: 6.4748 - mse: 66.1773\n",
            "Epoch 268/500\n",
            "2/2 [==============================] - 0s 7ms/step - loss: 23.0858 - mse: 791.1244\n",
            "Epoch 269/500\n",
            "2/2 [==============================] - 0s 9ms/step - loss: 26.6343 - mse: 1037.5095\n",
            "Epoch 270/500\n",
            "2/2 [==============================] - 0s 8ms/step - loss: 7.5319 - mse: 94.2263\n",
            "Epoch 271/500\n",
            "2/2 [==============================] - 0s 8ms/step - loss: 12.6646 - mse: 326.8496\n",
            "Epoch 272/500\n",
            "2/2 [==============================] - 0s 7ms/step - loss: 25.9472 - mse: 931.7892\n",
            "Epoch 273/500\n",
            "2/2 [==============================] - 0s 8ms/step - loss: 12.7837 - mse: 252.5961\n",
            "Epoch 274/500\n",
            "2/2 [==============================] - 0s 17ms/step - loss: 13.9446 - mse: 279.8403\n",
            "Epoch 275/500\n",
            "2/2 [==============================] - 0s 8ms/step - loss: 29.7647 - mse: 1258.7611\n",
            "Epoch 276/500\n",
            "2/2 [==============================] - 0s 8ms/step - loss: 9.5676 - mse: 202.8863\n",
            "Epoch 277/500\n",
            "2/2 [==============================] - 0s 8ms/step - loss: 29.9503 - mse: 1265.2312\n",
            "Epoch 278/500\n",
            "2/2 [==============================] - 0s 8ms/step - loss: 10.4548 - mse: 219.6858\n",
            "Epoch 279/500\n",
            "2/2 [==============================] - 0s 7ms/step - loss: 15.9178 - mse: 374.8346\n",
            "Epoch 280/500\n",
            "2/2 [==============================] - 0s 8ms/step - loss: 20.8415 - mse: 660.3638\n",
            "Epoch 281/500\n",
            "2/2 [==============================] - 0s 8ms/step - loss: 18.6693 - mse: 529.1404\n",
            "Epoch 282/500\n",
            "2/2 [==============================] - 0s 8ms/step - loss: 7.0733 - mse: 91.7941\n",
            "Epoch 283/500\n",
            "2/2 [==============================] - 0s 8ms/step - loss: 8.1972 - mse: 89.4400\n",
            "Epoch 284/500\n",
            "2/2 [==============================] - 0s 7ms/step - loss: 25.2422 - mse: 960.7751\n",
            "Epoch 285/500\n",
            "2/2 [==============================] - 0s 7ms/step - loss: 13.9249 - mse: 308.7646\n",
            "Epoch 286/500\n",
            "2/2 [==============================] - 0s 7ms/step - loss: 6.8958 - mse: 82.9934\n",
            "Epoch 287/500\n",
            "2/2 [==============================] - 0s 9ms/step - loss: 24.4285 - mse: 855.6872\n",
            "Epoch 288/500\n",
            "2/2 [==============================] - 0s 8ms/step - loss: 20.4735 - mse: 624.0117\n",
            "Epoch 289/500\n",
            "2/2 [==============================] - 0s 7ms/step - loss: 11.8814 - mse: 246.3074\n",
            "Epoch 290/500\n",
            "2/2 [==============================] - 0s 8ms/step - loss: 16.4614 - mse: 362.1189\n",
            "Epoch 291/500\n",
            "2/2 [==============================] - 0s 7ms/step - loss: 16.6988 - mse: 409.4608\n",
            "Epoch 292/500\n",
            "2/2 [==============================] - 0s 8ms/step - loss: 8.8055 - mse: 174.1201\n",
            "Epoch 293/500\n",
            "2/2 [==============================] - 0s 8ms/step - loss: 15.6678 - mse: 343.5944\n",
            "Epoch 294/500\n",
            "2/2 [==============================] - 0s 7ms/step - loss: 23.5238 - mse: 829.2233\n",
            "Epoch 295/500\n",
            "2/2 [==============================] - 0s 7ms/step - loss: 16.1403 - mse: 374.3416\n",
            "Epoch 296/500\n",
            "2/2 [==============================] - 0s 8ms/step - loss: 4.9199 - mse: 40.1309\n",
            "Epoch 297/500\n",
            "2/2 [==============================] - 0s 8ms/step - loss: 11.0212 - mse: 247.1126\n",
            "Epoch 298/500\n",
            "2/2 [==============================] - 0s 8ms/step - loss: 23.3438 - mse: 797.5543\n",
            "Epoch 299/500\n",
            "2/2 [==============================] - 0s 8ms/step - loss: 17.3416 - mse: 450.2597\n",
            "Epoch 300/500\n",
            "2/2 [==============================] - 0s 7ms/step - loss: 6.9041 - mse: 60.9770\n",
            "Epoch 301/500\n",
            "2/2 [==============================] - 0s 7ms/step - loss: 24.7197 - mse: 862.1976\n",
            "Epoch 302/500\n",
            "2/2 [==============================] - 0s 7ms/step - loss: 8.2137 - mse: 95.2843\n",
            "Epoch 303/500\n",
            "2/2 [==============================] - 0s 8ms/step - loss: 21.1423 - mse: 658.6789\n",
            "Epoch 304/500\n",
            "2/2 [==============================] - 0s 8ms/step - loss: 13.7019 - mse: 278.7059\n",
            "Epoch 305/500\n",
            "2/2 [==============================] - 0s 8ms/step - loss: 7.0743 - mse: 92.3021\n",
            "Epoch 306/500\n",
            "2/2 [==============================] - 0s 7ms/step - loss: 19.2719 - mse: 519.4792\n",
            "Epoch 307/500\n",
            "2/2 [==============================] - 0s 8ms/step - loss: 8.9963 - mse: 164.6216\n",
            "Epoch 308/500\n",
            "2/2 [==============================] - 0s 8ms/step - loss: 20.6017 - mse: 652.3246\n",
            "Epoch 309/500\n",
            "2/2 [==============================] - 0s 10ms/step - loss: 13.5634 - mse: 288.4124\n",
            "Epoch 310/500\n",
            "2/2 [==============================] - 0s 8ms/step - loss: 6.6746 - mse: 96.7101\n",
            "Epoch 311/500\n",
            "2/2 [==============================] - 0s 9ms/step - loss: 13.6656 - mse: 264.3542\n",
            "Epoch 312/500\n",
            "2/2 [==============================] - 0s 7ms/step - loss: 30.0261 - mse: 1245.1823\n",
            "Epoch 313/500\n",
            "2/2 [==============================] - 0s 10ms/step - loss: 7.5350 - mse: 104.5948\n",
            "Epoch 314/500\n",
            "2/2 [==============================] - 0s 8ms/step - loss: 9.9616 - mse: 234.6596\n",
            "Epoch 315/500\n",
            "2/2 [==============================] - 0s 9ms/step - loss: 23.8766 - mse: 827.1774\n",
            "Epoch 316/500\n",
            "2/2 [==============================] - 0s 14ms/step - loss: 16.1785 - mse: 395.6145\n",
            "Epoch 317/500\n",
            "2/2 [==============================] - 0s 12ms/step - loss: 20.6736 - mse: 583.3927\n",
            "Epoch 318/500\n",
            "2/2 [==============================] - 0s 13ms/step - loss: 8.7278 - mse: 104.9317\n",
            "Epoch 319/500\n",
            "2/2 [==============================] - 0s 11ms/step - loss: 15.2758 - mse: 362.6801\n",
            "Epoch 320/500\n",
            "2/2 [==============================] - 0s 13ms/step - loss: 8.3543 - mse: 100.7460\n",
            "Epoch 321/500\n",
            "2/2 [==============================] - 0s 8ms/step - loss: 14.6947 - mse: 319.6669\n",
            "Epoch 322/500\n",
            "2/2 [==============================] - 0s 7ms/step - loss: 12.8086 - mse: 242.4265\n",
            "Epoch 323/500\n",
            "2/2 [==============================] - 0s 10ms/step - loss: 19.0794 - mse: 558.6058\n",
            "Epoch 324/500\n",
            "2/2 [==============================] - 0s 10ms/step - loss: 17.0478 - mse: 434.4224\n",
            "Epoch 325/500\n",
            "2/2 [==============================] - 0s 11ms/step - loss: 9.2897 - mse: 212.1559\n",
            "Epoch 326/500\n",
            "2/2 [==============================] - 0s 8ms/step - loss: 19.9139 - mse: 605.3864\n",
            "Epoch 327/500\n",
            "2/2 [==============================] - 0s 11ms/step - loss: 28.1488 - mse: 1134.3915\n",
            "Epoch 328/500\n",
            "2/2 [==============================] - 0s 12ms/step - loss: 11.6995 - mse: 230.0284\n",
            "Epoch 329/500\n",
            "2/2 [==============================] - 0s 8ms/step - loss: 16.3737 - mse: 405.4547\n",
            "Epoch 330/500\n",
            "2/2 [==============================] - 0s 8ms/step - loss: 7.3235 - mse: 79.6603\n",
            "Epoch 331/500\n",
            "2/2 [==============================] - 0s 8ms/step - loss: 22.5923 - mse: 784.5956\n",
            "Epoch 332/500\n",
            "2/2 [==============================] - 0s 9ms/step - loss: 13.3633 - mse: 273.9903\n",
            "Epoch 333/500\n",
            "2/2 [==============================] - 0s 7ms/step - loss: 10.1805 - mse: 165.7035\n",
            "Epoch 334/500\n",
            "2/2 [==============================] - 0s 8ms/step - loss: 6.6289 - mse: 93.4554\n",
            "Epoch 335/500\n",
            "2/2 [==============================] - 0s 8ms/step - loss: 6.2653 - mse: 53.4054\n",
            "Epoch 336/500\n",
            "2/2 [==============================] - 0s 7ms/step - loss: 34.5546 - mse: 1944.1602\n",
            "Epoch 337/500\n",
            "2/2 [==============================] - 0s 12ms/step - loss: 26.9816 - mse: 1065.3562\n",
            "Epoch 338/500\n",
            "2/2 [==============================] - 0s 8ms/step - loss: 14.0168 - mse: 296.8262\n",
            "Epoch 339/500\n",
            "2/2 [==============================] - 0s 8ms/step - loss: 11.5644 - mse: 212.7974\n",
            "Epoch 340/500\n",
            "2/2 [==============================] - 0s 8ms/step - loss: 8.8221 - mse: 179.2426\n",
            "Epoch 341/500\n",
            "2/2 [==============================] - 0s 10ms/step - loss: 23.4497 - mse: 798.3717\n",
            "Epoch 342/500\n",
            "2/2 [==============================] - 0s 8ms/step - loss: 13.9264 - mse: 285.0301\n",
            "Epoch 343/500\n",
            "2/2 [==============================] - 0s 8ms/step - loss: 14.8168 - mse: 293.0329\n",
            "Epoch 344/500\n",
            "2/2 [==============================] - 0s 8ms/step - loss: 13.3868 - mse: 276.0698\n",
            "Epoch 345/500\n",
            "2/2 [==============================] - 0s 9ms/step - loss: 31.0183 - mse: 1352.8375\n",
            "Epoch 346/500\n",
            "2/2 [==============================] - 0s 7ms/step - loss: 10.6994 - mse: 252.6891\n",
            "Epoch 347/500\n",
            "2/2 [==============================] - 0s 8ms/step - loss: 25.7174 - mse: 925.7874\n",
            "Epoch 348/500\n",
            "2/2 [==============================] - 0s 7ms/step - loss: 12.9137 - mse: 261.2042\n",
            "Epoch 349/500\n",
            "2/2 [==============================] - 0s 7ms/step - loss: 13.1531 - mse: 249.4269\n",
            "Epoch 350/500\n",
            "2/2 [==============================] - 0s 9ms/step - loss: 15.4368 - mse: 332.6253\n",
            "Epoch 351/500\n",
            "2/2 [==============================] - 0s 8ms/step - loss: 32.9541 - mse: 1524.0151\n",
            "Epoch 352/500\n",
            "2/2 [==============================] - 0s 9ms/step - loss: 14.1950 - mse: 282.5172\n",
            "Epoch 353/500\n",
            "2/2 [==============================] - 0s 8ms/step - loss: 15.9128 - mse: 373.4962\n",
            "Epoch 354/500\n",
            "2/2 [==============================] - 0s 8ms/step - loss: 19.0720 - mse: 534.1174\n",
            "Epoch 355/500\n",
            "2/2 [==============================] - 0s 7ms/step - loss: 34.1660 - mse: 1788.4215\n",
            "Epoch 356/500\n",
            "2/2 [==============================] - 0s 9ms/step - loss: 7.7021 - mse: 91.3683\n",
            "Epoch 357/500\n",
            "2/2 [==============================] - 0s 7ms/step - loss: 25.2537 - mse: 976.5984\n",
            "Epoch 358/500\n",
            "2/2 [==============================] - 0s 8ms/step - loss: 22.7105 - mse: 744.5008\n",
            "Epoch 359/500\n",
            "2/2 [==============================] - 0s 8ms/step - loss: 8.8869 - mse: 198.9362\n",
            "Epoch 360/500\n",
            "2/2 [==============================] - 0s 10ms/step - loss: 21.4656 - mse: 686.8992\n",
            "Epoch 361/500\n",
            "2/2 [==============================] - 0s 10ms/step - loss: 20.6222 - mse: 617.7341\n",
            "Epoch 362/500\n",
            "2/2 [==============================] - 0s 7ms/step - loss: 7.0816 - mse: 69.5707\n",
            "Epoch 363/500\n",
            "2/2 [==============================] - 0s 8ms/step - loss: 25.8165 - mse: 995.3846\n",
            "Epoch 364/500\n",
            "2/2 [==============================] - 0s 8ms/step - loss: 32.2338 - mse: 1528.5720\n",
            "Epoch 365/500\n",
            "2/2 [==============================] - 0s 9ms/step - loss: 10.0355 - mse: 162.0123\n",
            "Epoch 366/500\n",
            "2/2 [==============================] - 0s 8ms/step - loss: 9.6842 - mse: 227.6643\n",
            "Epoch 367/500\n",
            "2/2 [==============================] - 0s 9ms/step - loss: 30.4200 - mse: 1294.7185\n",
            "Epoch 368/500\n",
            "2/2 [==============================] - 0s 10ms/step - loss: 10.5102 - mse: 236.2093\n",
            "Epoch 369/500\n",
            "2/2 [==============================] - 0s 12ms/step - loss: 14.9997 - mse: 331.1896\n",
            "Epoch 370/500\n",
            "2/2 [==============================] - 0s 11ms/step - loss: 14.6644 - mse: 308.4171\n",
            "Epoch 371/500\n",
            "2/2 [==============================] - 0s 12ms/step - loss: 23.3794 - mse: 789.5538\n",
            "Epoch 372/500\n",
            "2/2 [==============================] - 0s 8ms/step - loss: 13.0882 - mse: 289.9127\n",
            "Epoch 373/500\n",
            "2/2 [==============================] - 0s 8ms/step - loss: 9.2511 - mse: 140.4762\n",
            "Epoch 374/500\n",
            "2/2 [==============================] - 0s 9ms/step - loss: 9.6824 - mse: 193.9037\n",
            "Epoch 375/500\n",
            "2/2 [==============================] - 0s 9ms/step - loss: 13.0177 - mse: 238.3542\n",
            "Epoch 376/500\n",
            "2/2 [==============================] - 0s 12ms/step - loss: 14.8992 - mse: 325.4670\n",
            "Epoch 377/500\n",
            "2/2 [==============================] - 0s 10ms/step - loss: 14.8115 - mse: 297.5304\n",
            "Epoch 378/500\n",
            "2/2 [==============================] - 0s 7ms/step - loss: 16.2898 - mse: 419.5260\n",
            "Epoch 379/500\n",
            "2/2 [==============================] - 0s 12ms/step - loss: 20.8572 - mse: 598.0775\n",
            "Epoch 380/500\n",
            "2/2 [==============================] - 0s 12ms/step - loss: 33.4561 - mse: 1676.8057\n",
            "Epoch 381/500\n",
            "2/2 [==============================] - 0s 9ms/step - loss: 8.2151 - mse: 100.4045\n",
            "Epoch 382/500\n",
            "2/2 [==============================] - 0s 9ms/step - loss: 13.0442 - mse: 280.3995\n",
            "Epoch 383/500\n",
            "2/2 [==============================] - 0s 9ms/step - loss: 8.4345 - mse: 126.3109\n",
            "Epoch 384/500\n",
            "2/2 [==============================] - 0s 10ms/step - loss: 7.1177 - mse: 72.3345\n",
            "Epoch 385/500\n",
            "2/2 [==============================] - 0s 7ms/step - loss: 10.9621 - mse: 248.4521\n",
            "Epoch 386/500\n",
            "2/2 [==============================] - 0s 7ms/step - loss: 19.8045 - mse: 603.3602\n",
            "Epoch 387/500\n",
            "2/2 [==============================] - 0s 7ms/step - loss: 24.7720 - mse: 889.7799\n",
            "Epoch 388/500\n",
            "2/2 [==============================] - 0s 10ms/step - loss: 8.7177 - mse: 127.5222\n",
            "Epoch 389/500\n",
            "2/2 [==============================] - 0s 7ms/step - loss: 5.9523 - mse: 47.5923\n",
            "Epoch 390/500\n",
            "2/2 [==============================] - 0s 7ms/step - loss: 24.3366 - mse: 873.4343\n",
            "Epoch 391/500\n",
            "2/2 [==============================] - 0s 7ms/step - loss: 5.9764 - mse: 73.9339\n",
            "Epoch 392/500\n",
            "2/2 [==============================] - 0s 9ms/step - loss: 16.1049 - mse: 367.2780\n",
            "Epoch 393/500\n",
            "2/2 [==============================] - 0s 6ms/step - loss: 6.4938 - mse: 71.7799\n",
            "Epoch 394/500\n",
            "2/2 [==============================] - 0s 7ms/step - loss: 12.5339 - mse: 256.1668\n",
            "Epoch 395/500\n",
            "2/2 [==============================] - 0s 7ms/step - loss: 12.4088 - mse: 254.9814\n",
            "Epoch 396/500\n",
            "2/2 [==============================] - 0s 7ms/step - loss: 7.3513 - mse: 102.7187\n",
            "Epoch 397/500\n",
            "2/2 [==============================] - 0s 7ms/step - loss: 7.6056 - mse: 92.0063\n",
            "Epoch 398/500\n",
            "2/2 [==============================] - 0s 6ms/step - loss: 20.3260 - mse: 572.8310\n",
            "Epoch 399/500\n",
            "2/2 [==============================] - 0s 6ms/step - loss: 5.9093 - mse: 68.2552\n",
            "Epoch 400/500\n",
            "2/2 [==============================] - 0s 8ms/step - loss: 24.6226 - mse: 902.4450\n",
            "Epoch 401/500\n",
            "2/2 [==============================] - 0s 7ms/step - loss: 13.1628 - mse: 284.9066\n",
            "Epoch 402/500\n",
            "2/2 [==============================] - 0s 6ms/step - loss: 8.3635 - mse: 113.7789\n",
            "Epoch 403/500\n",
            "2/2 [==============================] - 0s 5ms/step - loss: 9.8653 - mse: 170.6142\n",
            "Epoch 404/500\n",
            "2/2 [==============================] - 0s 8ms/step - loss: 12.6175 - mse: 289.9774\n",
            "Epoch 405/500\n",
            "2/2 [==============================] - 0s 9ms/step - loss: 8.7597 - mse: 196.7376\n",
            "Epoch 406/500\n",
            "2/2 [==============================] - 0s 7ms/step - loss: 21.6077 - mse: 713.4521\n",
            "Epoch 407/500\n",
            "2/2 [==============================] - 0s 7ms/step - loss: 20.4262 - mse: 610.7960\n",
            "Epoch 408/500\n",
            "2/2 [==============================] - 0s 6ms/step - loss: 10.4033 - mse: 189.2738\n",
            "Epoch 409/500\n",
            "2/2 [==============================] - 0s 7ms/step - loss: 9.4136 - mse: 146.4668\n",
            "Epoch 410/500\n",
            "2/2 [==============================] - 0s 7ms/step - loss: 13.3682 - mse: 263.1996\n",
            "Epoch 411/500\n",
            "2/2 [==============================] - 0s 7ms/step - loss: 15.8351 - mse: 334.7235\n",
            "Epoch 412/500\n",
            "2/2 [==============================] - 0s 7ms/step - loss: 23.5248 - mse: 827.1324\n",
            "Epoch 413/500\n",
            "2/2 [==============================] - 0s 6ms/step - loss: 16.4761 - mse: 396.0439\n",
            "Epoch 414/500\n",
            "2/2 [==============================] - 0s 7ms/step - loss: 4.9175 - mse: 48.4979\n",
            "Epoch 415/500\n",
            "2/2 [==============================] - 0s 7ms/step - loss: 13.9611 - mse: 276.9067\n",
            "Epoch 416/500\n",
            "2/2 [==============================] - 0s 8ms/step - loss: 28.9392 - mse: 1150.5018\n",
            "Epoch 417/500\n",
            "2/2 [==============================] - 0s 7ms/step - loss: 5.9837 - mse: 52.7299\n",
            "Epoch 418/500\n",
            "2/2 [==============================] - 0s 7ms/step - loss: 12.5268 - mse: 231.8445\n",
            "Epoch 419/500\n",
            "2/2 [==============================] - 0s 7ms/step - loss: 11.4603 - mse: 328.0737\n",
            "Epoch 420/500\n",
            "2/2 [==============================] - 0s 9ms/step - loss: 23.8173 - mse: 792.3097\n",
            "Epoch 421/500\n",
            "2/2 [==============================] - 0s 6ms/step - loss: 19.8411 - mse: 565.6990\n",
            "Epoch 422/500\n",
            "2/2 [==============================] - 0s 6ms/step - loss: 4.9204 - mse: 42.2145\n",
            "Epoch 423/500\n",
            "2/2 [==============================] - 0s 9ms/step - loss: 27.9984 - mse: 1110.3929\n",
            "Epoch 424/500\n",
            "2/2 [==============================] - 0s 7ms/step - loss: 8.5317 - mse: 139.6729\n",
            "Epoch 425/500\n",
            "2/2 [==============================] - 0s 8ms/step - loss: 16.1987 - mse: 377.3522\n",
            "Epoch 426/500\n",
            "2/2 [==============================] - 0s 7ms/step - loss: 7.6175 - mse: 110.8748\n",
            "Epoch 427/500\n",
            "2/2 [==============================] - 0s 7ms/step - loss: 11.3228 - mse: 219.9356\n",
            "Epoch 428/500\n",
            "2/2 [==============================] - 0s 7ms/step - loss: 8.9558 - mse: 232.7656\n",
            "Epoch 429/500\n",
            "2/2 [==============================] - 0s 8ms/step - loss: 25.8124 - mse: 971.3817\n",
            "Epoch 430/500\n",
            "2/2 [==============================] - 0s 7ms/step - loss: 17.5291 - mse: 463.1297\n",
            "Epoch 431/500\n",
            "2/2 [==============================] - 0s 6ms/step - loss: 10.7020 - mse: 219.6240\n",
            "Epoch 432/500\n",
            "2/2 [==============================] - 0s 7ms/step - loss: 11.5650 - mse: 241.2413\n",
            "Epoch 433/500\n",
            "2/2 [==============================] - 0s 7ms/step - loss: 11.3746 - mse: 300.1862\n",
            "Epoch 434/500\n",
            "2/2 [==============================] - 0s 7ms/step - loss: 30.3643 - mse: 1293.8069\n",
            "Epoch 435/500\n",
            "2/2 [==============================] - 0s 7ms/step - loss: 10.4946 - mse: 287.0818\n",
            "Epoch 436/500\n",
            "2/2 [==============================] - 0s 7ms/step - loss: 28.8435 - mse: 1213.4343\n",
            "Epoch 437/500\n",
            "2/2 [==============================] - 0s 7ms/step - loss: 8.1308 - mse: 179.1278\n",
            "Epoch 438/500\n",
            "2/2 [==============================] - 0s 7ms/step - loss: 12.8350 - mse: 246.1117\n",
            "Epoch 439/500\n",
            "2/2 [==============================] - 0s 7ms/step - loss: 33.9498 - mse: 1595.1183\n",
            "Epoch 440/500\n",
            "2/2 [==============================] - 0s 7ms/step - loss: 15.5023 - mse: 312.9906\n",
            "Epoch 441/500\n",
            "2/2 [==============================] - 0s 7ms/step - loss: 17.8852 - mse: 519.3312\n",
            "Epoch 442/500\n",
            "2/2 [==============================] - 0s 7ms/step - loss: 17.4524 - mse: 430.3509\n",
            "Epoch 443/500\n",
            "2/2 [==============================] - 0s 7ms/step - loss: 7.6790 - mse: 157.7374\n",
            "Epoch 444/500\n",
            "2/2 [==============================] - 0s 6ms/step - loss: 22.8888 - mse: 765.7366\n",
            "Epoch 445/500\n",
            "2/2 [==============================] - 0s 6ms/step - loss: 12.0446 - mse: 225.0346\n",
            "Epoch 446/500\n",
            "2/2 [==============================] - 0s 7ms/step - loss: 10.5129 - mse: 206.7236\n",
            "Epoch 447/500\n",
            "2/2 [==============================] - 0s 6ms/step - loss: 16.9811 - mse: 421.3080\n",
            "Epoch 448/500\n",
            "2/2 [==============================] - 0s 6ms/step - loss: 11.6833 - mse: 235.8751\n",
            "Epoch 449/500\n",
            "2/2 [==============================] - 0s 6ms/step - loss: 14.8674 - mse: 307.3415\n",
            "Epoch 450/500\n",
            "2/2 [==============================] - 0s 6ms/step - loss: 17.6182 - mse: 488.3536\n",
            "Epoch 451/500\n",
            "2/2 [==============================] - 0s 6ms/step - loss: 14.6467 - mse: 348.0826\n",
            "Epoch 452/500\n",
            "2/2 [==============================] - 0s 7ms/step - loss: 31.3284 - mse: 1386.3530\n",
            "Epoch 453/500\n",
            "2/2 [==============================] - 0s 6ms/step - loss: 10.5965 - mse: 275.8035\n",
            "Epoch 454/500\n",
            "2/2 [==============================] - 0s 6ms/step - loss: 26.9336 - mse: 1016.8374\n",
            "Epoch 455/500\n",
            "2/2 [==============================] - 0s 7ms/step - loss: 12.1019 - mse: 249.2661\n",
            "Epoch 456/500\n",
            "2/2 [==============================] - 0s 6ms/step - loss: 15.3941 - mse: 319.6448\n",
            "Epoch 457/500\n",
            "2/2 [==============================] - 0s 8ms/step - loss: 19.1482 - mse: 547.1942\n",
            "Epoch 458/500\n",
            "2/2 [==============================] - 0s 6ms/step - loss: 23.2899 - mse: 802.1342\n",
            "Epoch 459/500\n",
            "2/2 [==============================] - 0s 7ms/step - loss: 16.7557 - mse: 399.7568\n",
            "Epoch 460/500\n",
            "2/2 [==============================] - 0s 9ms/step - loss: 6.7961 - mse: 132.6178\n",
            "Epoch 461/500\n",
            "2/2 [==============================] - 0s 8ms/step - loss: 16.2636 - mse: 360.8523\n",
            "Epoch 462/500\n",
            "2/2 [==============================] - 0s 7ms/step - loss: 15.6811 - mse: 396.0605\n",
            "Epoch 463/500\n",
            "2/2 [==============================] - 0s 12ms/step - loss: 17.5100 - mse: 469.4907\n",
            "Epoch 464/500\n",
            "2/2 [==============================] - 0s 7ms/step - loss: 11.6501 - mse: 219.2565\n",
            "Epoch 465/500\n",
            "2/2 [==============================] - 0s 7ms/step - loss: 22.4578 - mse: 750.6553\n",
            "Epoch 466/500\n",
            "2/2 [==============================] - 0s 7ms/step - loss: 22.8738 - mse: 742.1395\n",
            "Epoch 467/500\n",
            "2/2 [==============================] - 0s 7ms/step - loss: 12.9618 - mse: 264.9367\n",
            "Epoch 468/500\n",
            "2/2 [==============================] - 0s 7ms/step - loss: 10.8665 - mse: 291.4819\n",
            "Epoch 469/500\n",
            "2/2 [==============================] - 0s 7ms/step - loss: 27.1505 - mse: 1035.8462\n",
            "Epoch 470/500\n",
            "2/2 [==============================] - 0s 6ms/step - loss: 13.1089 - mse: 291.9321\n",
            "Epoch 471/500\n",
            "2/2 [==============================] - 0s 6ms/step - loss: 10.8590 - mse: 215.4728\n",
            "Epoch 472/500\n",
            "2/2 [==============================] - 0s 6ms/step - loss: 15.2948 - mse: 327.3272\n",
            "Epoch 473/500\n",
            "2/2 [==============================] - 0s 8ms/step - loss: 19.0749 - mse: 555.7732\n",
            "Epoch 474/500\n",
            "2/2 [==============================] - 0s 7ms/step - loss: 39.6571 - mse: 2453.1628\n",
            "Epoch 475/500\n",
            "2/2 [==============================] - 0s 7ms/step - loss: 16.3226 - mse: 384.6966\n",
            "Epoch 476/500\n",
            "2/2 [==============================] - 0s 6ms/step - loss: 13.4321 - mse: 247.2884\n",
            "Epoch 477/500\n",
            "2/2 [==============================] - 0s 7ms/step - loss: 29.6984 - mse: 1231.2633\n",
            "Epoch 478/500\n",
            "2/2 [==============================] - 0s 6ms/step - loss: 3.1560 - mse: 16.1127\n",
            "Epoch 479/500\n",
            "2/2 [==============================] - 0s 10ms/step - loss: 10.5688 - mse: 273.2692\n",
            "Epoch 480/500\n",
            "2/2 [==============================] - 0s 8ms/step - loss: 17.7514 - mse: 471.4197\n",
            "Epoch 481/500\n",
            "2/2 [==============================] - 0s 6ms/step - loss: 15.7002 - mse: 358.3211\n",
            "Epoch 482/500\n",
            "2/2 [==============================] - 0s 6ms/step - loss: 21.0379 - mse: 684.2820\n",
            "Epoch 483/500\n",
            "2/2 [==============================] - 0s 6ms/step - loss: 26.0466 - mse: 1013.8773\n",
            "Epoch 484/500\n",
            "2/2 [==============================] - 0s 7ms/step - loss: 24.7149 - mse: 865.2288\n",
            "Epoch 485/500\n",
            "2/2 [==============================] - 0s 8ms/step - loss: 5.9542 - mse: 55.1009\n",
            "Epoch 486/500\n",
            "2/2 [==============================] - 0s 8ms/step - loss: 20.7072 - mse: 607.4532\n",
            "Epoch 487/500\n",
            "2/2 [==============================] - 0s 7ms/step - loss: 13.9768 - mse: 280.9340\n",
            "Epoch 488/500\n",
            "2/2 [==============================] - 0s 7ms/step - loss: 30.4731 - mse: 1323.2396\n",
            "Epoch 489/500\n",
            "2/2 [==============================] - 0s 7ms/step - loss: 11.7376 - mse: 238.6126\n",
            "Epoch 490/500\n",
            "2/2 [==============================] - 0s 7ms/step - loss: 12.4621 - mse: 244.5058\n",
            "Epoch 491/500\n",
            "2/2 [==============================] - 0s 6ms/step - loss: 23.6566 - mse: 839.1849\n",
            "Epoch 492/500\n",
            "2/2 [==============================] - 0s 6ms/step - loss: 20.3027 - mse: 579.5280\n",
            "Epoch 493/500\n",
            "2/2 [==============================] - 0s 6ms/step - loss: 4.9998 - mse: 48.9972\n",
            "Epoch 494/500\n",
            "2/2 [==============================] - 0s 6ms/step - loss: 12.6043 - mse: 241.9079\n",
            "Epoch 495/500\n",
            "2/2 [==============================] - 0s 6ms/step - loss: 13.4840 - mse: 243.4205\n",
            "Epoch 496/500\n",
            "2/2 [==============================] - 0s 7ms/step - loss: 12.7496 - mse: 241.8255\n",
            "Epoch 497/500\n",
            "2/2 [==============================] - 0s 6ms/step - loss: 17.7639 - mse: 521.6840\n",
            "Epoch 498/500\n",
            "2/2 [==============================] - 0s 7ms/step - loss: 23.2636 - mse: 794.2340\n",
            "Epoch 499/500\n",
            "2/2 [==============================] - 0s 7ms/step - loss: 9.0365 - mse: 126.8119\n",
            "Epoch 500/500\n",
            "2/2 [==============================] - 0s 7ms/step - loss: 14.4146 - mse: 274.9361\n"
          ]
        },
        {
          "output_type": "execute_result",
          "data": {
            "text/plain": [
              "<keras.callbacks.History at 0x7f599f556f40>"
            ]
          },
          "metadata": {},
          "execution_count": 99
        }
      ]
    },
    {
      "cell_type": "code",
      "source": [
        "# Make and plot predictions of model_2\n",
        "\n",
        "y_preds_3 = model_3.predict(X_test)\n",
        "plot_predictions(predictions=y_preds_3)"
      ],
      "metadata": {
        "colab": {
          "base_uri": "https://localhost:8080/",
          "height": 445
        },
        "id": "qnRQbzx4Fta9",
        "outputId": "9acf2887-08c5-4059-80b1-362b308e1f8e"
      },
      "execution_count": null,
      "outputs": [
        {
          "output_type": "stream",
          "name": "stdout",
          "text": [
            "1/1 [==============================] - 0s 75ms/step\n"
          ]
        },
        {
          "output_type": "display_data",
          "data": {
            "text/plain": [
              "<Figure size 720x504 with 1 Axes>"
            ],
            "image/png": "[encoded data removed]"
          },
          "metadata": {
            "needs_background": "light"
          }
        }
      ]
    },
    {
      "cell_type": "code",
      "source": [
        "# Calculate model_2 evaluation metrics\n",
        "mae_3 = mae(y_test, y_preds_3)\n",
        "mse_3 = mse(y_test,y_preds_3)"
      ],
      "metadata": {
        "id": "3xmYr5tcGoNy"
      },
      "execution_count": null,
      "outputs": []
    },
    {
      "cell_type": "code",
      "source": [
        "mae_3, mse_3"
      ],
      "metadata": {
        "colab": {
          "base_uri": "https://localhost:8080/"
        },
        "id": "XmbYfsehG2Wu",
        "outputId": "230fe35e-82b9-48f3-8a84-d4f7f2daa9c4"
      },
      "execution_count": null,
      "outputs": [
        {
          "output_type": "execute_result",
          "data": {
            "text/plain": [
              "(<tf.Tensor: shape=(), dtype=float32, numpy=68.03224>,\n",
              " <tf.Tensor: shape=(), dtype=float32, numpy=4712.9307>)"
            ]
          },
          "metadata": {},
          "execution_count": 102
        }
      ]
    },
    {
      "cell_type": "markdown",
      "source": [
        "🔑**Note** - Start with small experiments(small models) and make sure they work and then increase their scale when necessary"
      ],
      "metadata": {
        "id": "d9c9mTC3I464"
      }
    },
    {
      "cell_type": "markdown",
      "source": [
        "# Comparing the results of our experiments\n",
        "\n",
        "Summarise and compare the results"
      ],
      "metadata": {
        "id": "BCSSZD5IG9l-"
      }
    },
    {
      "cell_type": "code",
      "source": [
        "# Let's compare model's results using pandas DataFrame\n",
        "import pandas as pd\n",
        "\n",
        "model_results = [[\"model_1\", mae_1.numpy(), mse_1.numpy()],\n",
        "[\"model_2\", mae_2.numpy(), mse_2.numpy()],\n",
        "[\"model_3\", mae_3.numpy(), mse_3.numpy()]]"
      ],
      "metadata": {
        "id": "40MA-v7zG4OJ"
      },
      "execution_count": null,
      "outputs": []
    },
    {
      "cell_type": "code",
      "source": [
        "all_results =  pd.DataFrame(model_results, columns=[\"Model\",\"MAE\",\"MSE\"])\n",
        "all_results"
      ],
      "metadata": {
        "colab": {
          "base_uri": "https://localhost:8080/",
          "height": 143
        },
        "id": "2SJz4RwGJaCp",
        "outputId": "a87d43da-bdf6-4edf-f13c-deac9e147669"
      },
      "execution_count": null,
      "outputs": [
        {
          "output_type": "execute_result",
          "data": {
            "text/plain": [
              "     Model        MAE          MSE\n",
              "0  model_1   8.616590    80.732773\n",
              "1  model_2  13.252612   185.636993\n",
              "2  model_3  68.032242  4712.930664"
            ],
            "text/html": [
              "\n",
              "  <div id=\"df-912679bb-fd1d-48fa-87c3-418954cdc7d8\">\n",
              "    <div class=\"colab-df-container\">\n",
              "      <div>\n",
              "<style scoped>\n",
              "    .dataframe tbody tr th:only-of-type {\n",
              "        vertical-align: middle;\n",
              "    }\n",
              "\n",
              "    .dataframe tbody tr th {\n",
              "        vertical-align: top;\n",
              "    }\n",
              "\n",
              "    .dataframe thead th {\n",
              "        text-align: right;\n",
              "    }\n",
              "</style>\n",
              "<table border=\"1\" class=\"dataframe\">\n",
              "  <thead>\n",
              "    <tr style=\"text-align: right;\">\n",
              "      <th></th>\n",
              "      <th>Model</th>\n",
              "      <th>MAE</th>\n",
              "      <th>MSE</th>\n",
              "    </tr>\n",
              "  </thead>\n",
              "  <tbody>\n",
              "    <tr>\n",
              "      <th>0</th>\n",
              "      <td>model_1</td>\n",
              "      <td>8.616590</td>\n",
              "      <td>80.732773</td>\n",
              "    </tr>\n",
              "    <tr>\n",
              "      <th>1</th>\n",
              "      <td>model_2</td>\n",
              "      <td>13.252612</td>\n",
              "      <td>185.636993</td>\n",
              "    </tr>\n",
              "    <tr>\n",
              "      <th>2</th>\n",
              "      <td>model_3</td>\n",
              "      <td>68.032242</td>\n",
              "      <td>4712.930664</td>\n",
              "    </tr>\n",
              "  </tbody>\n",
              "</table>\n",
              "</div>\n",
              "      <button class=\"colab-df-convert\" onclick=\"convertToInteractive('df-912679bb-fd1d-48fa-87c3-418954cdc7d8')\"\n",
              "              title=\"Convert this dataframe to an interactive table.\"\n",
              "              style=\"display:none;\">\n",
              "        \n",
              "  <svg xmlns=\"http://www.w3.org/2000/svg\" height=\"24px\"viewBox=\"0 0 24 24\"\n",
              "       width=\"24px\">\n",
              "    <path d=\"M0 0h24v24H0V0z\" fill=\"none\"/>\n",
              "    <path d=\"M18.56 5.44l.94 2.06.94-2.06 2.06-.94-2.06-.94-.94-2.06-.94 2.06-2.06.94zm-11 1L8.5 8.5l.94-2.06 2.06-.94-2.06-.94L8.5 2.5l-.94 2.06-2.06.94zm10 10l.94 2.06.94-2.06 2.06-.94-2.06-.94-.94-2.06-.94 2.06-2.06.94z\"/><path d=\"M17.41 7.96l-1.37-1.37c-.4-.4-.92-.59-1.43-.59-.52 0-1.04.2-1.43.59L10.3 9.45l-7.72 7.72c-.78.78-.78 2.05 0 2.83L4 21.41c.39.39.9.59 1.41.59.51 0 1.02-.2 1.41-.59l7.78-7.78 2.81-2.81c.8-.78.8-2.07 0-2.86zM5.41 20L4 18.59l7.72-7.72 1.47 1.35L5.41 20z\"/>\n",
              "  </svg>\n",
              "      </button>\n",
              "      \n",
              "  <style>\n",
              "    .colab-df-container {\n",
              "      display:flex;\n",
              "      flex-wrap:wrap;\n",
              "      gap: 12px;\n",
              "    }\n",
              "\n",
              "    .colab-df-convert {\n",
              "      background-color: #E8F0FE;\n",
              "      border: none;\n",
              "      border-radius: 50%;\n",
              "      cursor: pointer;\n",
              "      display: none;\n",
              "      fill: #1967D2;\n",
              "      height: 32px;\n",
              "      padding: 0 0 0 0;\n",
              "      width: 32px;\n",
              "    }\n",
              "\n",
              "    .colab-df-convert:hover {\n",
              "      background-color: #E2EBFA;\n",
              "      box-shadow: 0px 1px 2px rgba(60, 64, 67, 0.3), 0px 1px 3px 1px rgba(60, 64, 67, 0.15);\n",
              "      fill: #174EA6;\n",
              "    }\n",
              "\n",
              "    [theme=dark] .colab-df-convert {\n",
              "      background-color: #3B4455;\n",
              "      fill: #D2E3FC;\n",
              "    }\n",
              "\n",
              "    [theme=dark] .colab-df-convert:hover {\n",
              "      background-color: #434B5C;\n",
              "      box-shadow: 0px 1px 3px 1px rgba(0, 0, 0, 0.15);\n",
              "      filter: drop-shadow(0px 1px 2px rgba(0, 0, 0, 0.3));\n",
              "      fill: #FFFFFF;\n",
              "    }\n",
              "  </style>\n",
              "\n",
              "      <script>\n",
              "        const buttonEl =\n",
              "          document.querySelector('#df-912679bb-fd1d-48fa-87c3-418954cdc7d8 button.colab-df-convert');\n",
              "        buttonEl.style.display =\n",
              "          google.colab.kernel.accessAllowed ? 'block' : 'none';\n",
              "\n",
              "        async function convertToInteractive(key) {\n",
              "          const element = document.querySelector('#df-912679bb-fd1d-48fa-87c3-418954cdc7d8');\n",
              "          const dataTable =\n",
              "            await google.colab.kernel.invokeFunction('convertToInteractive',\n",
              "                                                     [key], {});\n",
              "          if (!dataTable) return;\n",
              "\n",
              "          const docLinkHtml = 'Like what you see? Visit the ' +\n",
              "            '<a target=\"_blank\" href=https://colab.research.google.com/notebooks/data_table.ipynb>data table notebook</a>'\n",
              "            + ' to learn more about interactive tables.';\n",
              "          element.innerHTML = '';\n",
              "          dataTable['output_type'] = 'display_data';\n",
              "          await google.colab.output.renderOutput(dataTable, element);\n",
              "          const docLink = document.createElement('div');\n",
              "          docLink.innerHTML = docLinkHtml;\n",
              "          element.appendChild(docLink);\n",
              "        }\n",
              "      </script>\n",
              "    </div>\n",
              "  </div>\n",
              "  "
            ]
          },
          "metadata": {},
          "execution_count": 106
        }
      ]
    },
    {
      "cell_type": "markdown",
      "source": [
        "## Tracking your experiments\n",
        "\n",
        "📖**Resource:** As you build more models, take look at:\n",
        "* TensorBoard - a component of the TensorFlow library to help track modelling experiments\n",
        "* Weights & Biases- a tool for tracking all of kinds of machine learning experiments(plugs straight into TensorBoard)"
      ],
      "metadata": {
        "id": "r7ubOZCdKJdn"
      }
    },
    {
      "cell_type": "markdown",
      "source": [
        "# Saving our Models\n",
        "\n",
        "It allows us to use models outside Google Colab\n",
        "\n",
        "There are two main firmats we can save our model's too:\n",
        "1. The SavedModel format\n",
        "2. The HDF5 format"
      ],
      "metadata": {
        "id": "nb7f9MW7LHGz"
      }
    },
    {
      "cell_type": "code",
      "source": [
        "# Save model using SavedModel format\n",
        "model_1.save(\"best_model_SavedModel_format\")"
      ],
      "metadata": {
        "colab": {
          "base_uri": "https://localhost:8080/"
        },
        "id": "-p1r-u-oJhel",
        "outputId": "1cd545e5-fa8b-4bbf-c3f1-7abf16283eaf"
      },
      "execution_count": null,
      "outputs": [
        {
          "output_type": "stream",
          "name": "stderr",
          "text": [
            "WARNING:absl:Found untraced functions such as _update_step_xla while saving (showing 1 of 1). These functions will not be directly callable after loading.\n"
          ]
        }
      ]
    },
    {
      "cell_type": "code",
      "source": [
        "# Save model using HDF5 format\n",
        "model_1.save(\"best_model_HDF5_format.h5\")"
      ],
      "metadata": {
        "id": "lq0-G0X0MwRI"
      },
      "execution_count": null,
      "outputs": []
    },
    {
      "cell_type": "markdown",
      "source": [
        "## Loading in a saved model"
      ],
      "metadata": {
        "id": "Zs8KGcpEP62E"
      }
    },
    {
      "cell_type": "code",
      "source": [
        "# Load in the SavedModel format model\n",
        "loaded_SavedModel_format = tf.keras.models.load_model('/content/best_model_SavedModel_format')\n",
        "loaded_SavedModel_format.summary()"
      ],
      "metadata": {
        "colab": {
          "base_uri": "https://localhost:8080/"
        },
        "id": "vl-NyoMXNM0I",
        "outputId": "8bf51ecb-e0c1-4580-da46-3471d69b6eba"
      },
      "execution_count": null,
      "outputs": [
        {
          "output_type": "stream",
          "name": "stdout",
          "text": [
            "Model: \"sequential_10\"\n",
            "_________________________________________________________________\n",
            " Layer (type)                Output Shape              Param #   \n",
            "=================================================================\n",
            " dense_11 (Dense)            (None, 1)                 2         \n",
            "                                                                 \n",
            "=================================================================\n",
            "Total params: 2\n",
            "Trainable params: 2\n",
            "Non-trainable params: 0\n",
            "_________________________________________________________________\n"
          ]
        }
      ]
    },
    {
      "cell_type": "code",
      "source": [
        "model_1.summary()"
      ],
      "metadata": {
        "colab": {
          "base_uri": "https://localhost:8080/"
        },
        "id": "ZvpsteqIQNyz",
        "outputId": "ffeb573e-4cc7-4c53-b52d-7382066e04b1"
      },
      "execution_count": null,
      "outputs": [
        {
          "output_type": "stream",
          "name": "stdout",
          "text": [
            "Model: \"sequential_10\"\n",
            "_________________________________________________________________\n",
            " Layer (type)                Output Shape              Param #   \n",
            "=================================================================\n",
            " dense_11 (Dense)            (None, 1)                 2         \n",
            "                                                                 \n",
            "=================================================================\n",
            "Total params: 2\n",
            "Trainable params: 2\n",
            "Non-trainable params: 0\n",
            "_________________________________________________________________\n"
          ]
        }
      ]
    },
    {
      "cell_type": "code",
      "source": [
        "# Compare model_1 predictions with SavedModel format predictions\n",
        "model_1_preds = model_1.predict(X_test)\n",
        "loaded_SavedModel_format_preds = loaded_SavedModel_format.predict(X_test)\n",
        "model_1_preds == loaded_SavedModel_format_preds"
      ],
      "metadata": {
        "colab": {
          "base_uri": "https://localhost:8080/"
        },
        "id": "XrNbysrMQTxr",
        "outputId": "a3450b32-2848-4b46-d621-58df5e0d7b59"
      },
      "execution_count": null,
      "outputs": [
        {
          "output_type": "stream",
          "name": "stdout",
          "text": [
            "1/1 [==============================] - 0s 36ms/step\n",
            "1/1 [==============================] - 0s 25ms/step\n"
          ]
        },
        {
          "output_type": "execute_result",
          "data": {
            "text/plain": [
              "array([[ True],\n",
              "       [ True],\n",
              "       [ True],\n",
              "       [ True],\n",
              "       [ True],\n",
              "       [ True],\n",
              "       [ True],\n",
              "       [ True],\n",
              "       [ True],\n",
              "       [ True]])"
            ]
          },
          "metadata": {},
          "execution_count": 115
        }
      ]
    },
    {
      "cell_type": "code",
      "source": [
        "model_1_preds, loaded_SavedModel_format_preds"
      ],
      "metadata": {
        "colab": {
          "base_uri": "https://localhost:8080/"
        },
        "id": "YPgESi5eRK7I",
        "outputId": "2d44ec90-d8a5-4c7d-ef12-4efa417b371c"
      },
      "execution_count": null,
      "outputs": [
        {
          "output_type": "execute_result",
          "data": {
            "text/plain": [
              "(array([[ 74.62622],\n",
              "        [ 79.51297],\n",
              "        [ 84.39972],\n",
              "        [ 89.28647],\n",
              "        [ 94.17322],\n",
              "        [ 99.05997],\n",
              "        [103.94671],\n",
              "        [108.83346],\n",
              "        [113.72021],\n",
              "        [118.60696]], dtype=float32), array([[ 74.62622],\n",
              "        [ 79.51297],\n",
              "        [ 84.39972],\n",
              "        [ 89.28647],\n",
              "        [ 94.17322],\n",
              "        [ 99.05997],\n",
              "        [103.94671],\n",
              "        [108.83346],\n",
              "        [113.72021],\n",
              "        [118.60696]], dtype=float32))"
            ]
          },
          "metadata": {},
          "execution_count": 116
        }
      ]
    },
    {
      "cell_type": "code",
      "source": [
        "# Load in a model using .h5 format\n",
        "loaded_h5_model = tf.keras.models.load_model('/content/best_model_HDF5_format.h5')\n",
        "loaded_h5_model.summary()"
      ],
      "metadata": {
        "colab": {
          "base_uri": "https://localhost:8080/"
        },
        "id": "ytp7u1gDRSle",
        "outputId": "1469b68f-9c11-4252-ffa2-79cd35479aeb"
      },
      "execution_count": null,
      "outputs": [
        {
          "output_type": "stream",
          "name": "stdout",
          "text": [
            "Model: \"sequential_10\"\n",
            "_________________________________________________________________\n",
            " Layer (type)                Output Shape              Param #   \n",
            "=================================================================\n",
            " dense_11 (Dense)            (None, 1)                 2         \n",
            "                                                                 \n",
            "=================================================================\n",
            "Total params: 2\n",
            "Trainable params: 2\n",
            "Non-trainable params: 0\n",
            "_________________________________________________________________\n"
          ]
        }
      ]
    },
    {
      "cell_type": "code",
      "source": [
        "model_1.summary()"
      ],
      "metadata": {
        "colab": {
          "base_uri": "https://localhost:8080/"
        },
        "id": "UOQPU1t6Rm9g",
        "outputId": "d1d6d0f5-97ac-4c7f-d5ec-23fc5a5b231c"
      },
      "execution_count": null,
      "outputs": [
        {
          "output_type": "stream",
          "name": "stdout",
          "text": [
            "Model: \"sequential_10\"\n",
            "_________________________________________________________________\n",
            " Layer (type)                Output Shape              Param #   \n",
            "=================================================================\n",
            " dense_11 (Dense)            (None, 1)                 2         \n",
            "                                                                 \n",
            "=================================================================\n",
            "Total params: 2\n",
            "Trainable params: 2\n",
            "Non-trainable params: 0\n",
            "_________________________________________________________________\n"
          ]
        }
      ]
    },
    {
      "cell_type": "code",
      "source": [
        "# Compare model_1 predictions with .h5 format predictions\n",
        "model_1_preds = model_1.predict(X_test)\n",
        "loaded_h5_model_preds = loaded_h5_model.predict(X_test)\n",
        "model_1_preds == loaded_h5_model_preds"
      ],
      "metadata": {
        "colab": {
          "base_uri": "https://localhost:8080/"
        },
        "id": "btVt3PQ2RoCa",
        "outputId": "dddf4531-d6af-4fc2-c4a8-ff5cd9d07ed4"
      },
      "execution_count": null,
      "outputs": [
        {
          "output_type": "stream",
          "name": "stdout",
          "text": [
            "1/1 [==============================] - 0s 42ms/step\n",
            "1/1 [==============================] - 0s 63ms/step\n"
          ]
        },
        {
          "output_type": "execute_result",
          "data": {
            "text/plain": [
              "array([[ True],\n",
              "       [ True],\n",
              "       [ True],\n",
              "       [ True],\n",
              "       [ True],\n",
              "       [ True],\n",
              "       [ True],\n",
              "       [ True],\n",
              "       [ True],\n",
              "       [ True]])"
            ]
          },
          "metadata": {},
          "execution_count": 120
        }
      ]
    },
    {
      "cell_type": "markdown",
      "source": [
        "# Download a model or any other file from Google Colab\n",
        "\n",
        "if you want to download your files from Google Colab\n",
        "1. You can go to the \"files\" tab and right click on the file you're after and click 'download'\n",
        "2. Use code(seel below)\n",
        "3. Save it to google drive by connecting Google Drive and copying it here\n"
      ],
      "metadata": {
        "id": "B0vdjh1cSpdH"
      }
    },
    {
      "cell_type": "code",
      "source": [
        "# Download a file from Google Colab\n",
        "from google.colab import files\n",
        "files.download('/content/best_model_HDF5_format.h5')"
      ],
      "metadata": {
        "colab": {
          "base_uri": "https://localhost:8080/",
          "height": 17
        },
        "id": "Nw3YS5PoRwhJ",
        "outputId": "e5b0a74b-a6f2-4f9c-c84f-8040bc20a4db"
      },
      "execution_count": null,
      "outputs": [
        {
          "output_type": "display_data",
          "data": {
            "text/plain": [
              "<IPython.core.display.Javascript object>"
            ],
            "application/javascript": [
              "\n",
              "    async function download(id, filename, size) {\n",
              "      if (!google.colab.kernel.accessAllowed) {\n",
              "        return;\n",
              "      }\n",
              "      const div = document.createElement('div');\n",
              "      const label = document.createElement('label');\n",
              "      label.textContent = `Downloading \"${filename}\": `;\n",
              "      div.appendChild(label);\n",
              "      const progress = document.createElement('progress');\n",
              "      progress.max = size;\n",
              "      div.appendChild(progress);\n",
              "      document.body.appendChild(div);\n",
              "\n",
              "      const buffers = [];\n",
              "      let downloaded = 0;\n",
              "\n",
              "      const channel = await google.colab.kernel.comms.open(id);\n",
              "      // Send a message to notify the kernel that we're ready.\n",
              "      channel.send({})\n",
              "\n",
              "      for await (const message of channel.messages) {\n",
              "        // Send a message to notify the kernel that we're ready.\n",
              "        channel.send({})\n",
              "        if (message.buffers) {\n",
              "          for (const buffer of message.buffers) {\n",
              "            buffers.push(buffer);\n",
              "            downloaded += buffer.byteLength;\n",
              "            progress.value = downloaded;\n",
              "          }\n",
              "        }\n",
              "      }\n",
              "      const blob = new Blob(buffers, {type: 'application/binary'});\n",
              "      const a = document.createElement('a');\n",
              "      a.href = window.URL.createObjectURL(blob);\n",
              "      a.download = filename;\n",
              "      div.appendChild(a);\n",
              "      a.click();\n",
              "      div.remove();\n",
              "    }\n",
              "  "
            ]
          },
          "metadata": {}
        },
        {
          "output_type": "display_data",
          "data": {
            "text/plain": [
              "<IPython.core.display.Javascript object>"
            ],
            "application/javascript": [
              "download(\"download_e0a3d226-53d5-49bd-b8ef-55274e48a590\", \"best_model_HDF5_format.h5\", 17704)"
            ]
          },
          "metadata": {}
        }
      ]
    },
    {
      "cell_type": "code",
      "source": [
        "!cp /content/best_model_HDF5_format.h5 \"Destination Path\""
      ],
      "metadata": {
        "id": "qbDuFQSgS1i2"
      },
      "execution_count": null,
      "outputs": []
    }
  ]
}