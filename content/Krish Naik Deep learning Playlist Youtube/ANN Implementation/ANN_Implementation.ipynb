{
  "nbformat": 4,
  "nbformat_minor": 0,
  "metadata": {
    "colab": {
      "name": "ANN Implementation",
      "provenance": []
    },
    "kernelspec": {
      "name": "python3",
      "display_name": "Python 3"
    },
    "language_info": {
      "name": "python"
    }
  },
  "cells": [
    {
      "cell_type": "markdown",
      "source": [
        "# Part 1- Data Preprocessing"
      ],
      "metadata": {
        "id": "aNGeq3JZXkgY"
      }
    },
    {
      "cell_type": "code",
      "source": [
        "import numpy as np\n",
        "import matplotlib.pyplot as plt\n",
        "import pandas as pd"
      ],
      "metadata": {
        "id": "Hx3hmR24Yg29"
      },
      "execution_count": 43,
      "outputs": []
    },
    {
      "cell_type": "code",
      "source": [
        "dataset = pd.read_csv('/content/Churn_Modelling.csv')\n",
        "X = dataset.iloc[:,3:13]\n",
        "y = dataset.iloc[:, 13]"
      ],
      "metadata": {
        "id": "0cxaHC7uYldT"
      },
      "execution_count": 44,
      "outputs": []
    },
    {
      "cell_type": "code",
      "source": [
        "X.head()"
      ],
      "metadata": {
        "colab": {
          "base_uri": "https://localhost:8080/",
          "height": 270
        },
        "id": "6ShqHrF1YwN0",
        "outputId": "173d2f7b-d44c-42e7-99ab-14414fd98883"
      },
      "execution_count": 45,
      "outputs": [
        {
          "output_type": "execute_result",
          "data": {
            "text/plain": [
              "   CreditScore Geography  Gender  Age  Tenure    Balance  NumOfProducts  \\\n",
              "0          619    France  Female   42       2       0.00              1   \n",
              "1          608     Spain  Female   41       1   83807.86              1   \n",
              "2          502    France  Female   42       8  159660.80              3   \n",
              "3          699    France  Female   39       1       0.00              2   \n",
              "4          850     Spain  Female   43       2  125510.82              1   \n",
              "\n",
              "   HasCrCard  IsActiveMember  EstimatedSalary  \n",
              "0          1               1        101348.88  \n",
              "1          0               1        112542.58  \n",
              "2          1               0        113931.57  \n",
              "3          0               0         93826.63  \n",
              "4          1               1         79084.10  "
            ],
            "text/html": [
              "\n",
              "  <div id=\"df-ffc76fdb-8d74-4c6e-91c5-351d93490c7f\">\n",
              "    <div class=\"colab-df-container\">\n",
              "      <div>\n",
              "<style scoped>\n",
              "    .dataframe tbody tr th:only-of-type {\n",
              "        vertical-align: middle;\n",
              "    }\n",
              "\n",
              "    .dataframe tbody tr th {\n",
              "        vertical-align: top;\n",
              "    }\n",
              "\n",
              "    .dataframe thead th {\n",
              "        text-align: right;\n",
              "    }\n",
              "</style>\n",
              "<table border=\"1\" class=\"dataframe\">\n",
              "  <thead>\n",
              "    <tr style=\"text-align: right;\">\n",
              "      <th></th>\n",
              "      <th>CreditScore</th>\n",
              "      <th>Geography</th>\n",
              "      <th>Gender</th>\n",
              "      <th>Age</th>\n",
              "      <th>Tenure</th>\n",
              "      <th>Balance</th>\n",
              "      <th>NumOfProducts</th>\n",
              "      <th>HasCrCard</th>\n",
              "      <th>IsActiveMember</th>\n",
              "      <th>EstimatedSalary</th>\n",
              "    </tr>\n",
              "  </thead>\n",
              "  <tbody>\n",
              "    <tr>\n",
              "      <th>0</th>\n",
              "      <td>619</td>\n",
              "      <td>France</td>\n",
              "      <td>Female</td>\n",
              "      <td>42</td>\n",
              "      <td>2</td>\n",
              "      <td>0.00</td>\n",
              "      <td>1</td>\n",
              "      <td>1</td>\n",
              "      <td>1</td>\n",
              "      <td>101348.88</td>\n",
              "    </tr>\n",
              "    <tr>\n",
              "      <th>1</th>\n",
              "      <td>608</td>\n",
              "      <td>Spain</td>\n",
              "      <td>Female</td>\n",
              "      <td>41</td>\n",
              "      <td>1</td>\n",
              "      <td>83807.86</td>\n",
              "      <td>1</td>\n",
              "      <td>0</td>\n",
              "      <td>1</td>\n",
              "      <td>112542.58</td>\n",
              "    </tr>\n",
              "    <tr>\n",
              "      <th>2</th>\n",
              "      <td>502</td>\n",
              "      <td>France</td>\n",
              "      <td>Female</td>\n",
              "      <td>42</td>\n",
              "      <td>8</td>\n",
              "      <td>159660.80</td>\n",
              "      <td>3</td>\n",
              "      <td>1</td>\n",
              "      <td>0</td>\n",
              "      <td>113931.57</td>\n",
              "    </tr>\n",
              "    <tr>\n",
              "      <th>3</th>\n",
              "      <td>699</td>\n",
              "      <td>France</td>\n",
              "      <td>Female</td>\n",
              "      <td>39</td>\n",
              "      <td>1</td>\n",
              "      <td>0.00</td>\n",
              "      <td>2</td>\n",
              "      <td>0</td>\n",
              "      <td>0</td>\n",
              "      <td>93826.63</td>\n",
              "    </tr>\n",
              "    <tr>\n",
              "      <th>4</th>\n",
              "      <td>850</td>\n",
              "      <td>Spain</td>\n",
              "      <td>Female</td>\n",
              "      <td>43</td>\n",
              "      <td>2</td>\n",
              "      <td>125510.82</td>\n",
              "      <td>1</td>\n",
              "      <td>1</td>\n",
              "      <td>1</td>\n",
              "      <td>79084.10</td>\n",
              "    </tr>\n",
              "  </tbody>\n",
              "</table>\n",
              "</div>\n",
              "      <button class=\"colab-df-convert\" onclick=\"convertToInteractive('df-ffc76fdb-8d74-4c6e-91c5-351d93490c7f')\"\n",
              "              title=\"Convert this dataframe to an interactive table.\"\n",
              "              style=\"display:none;\">\n",
              "        \n",
              "  <svg xmlns=\"http://www.w3.org/2000/svg\" height=\"24px\"viewBox=\"0 0 24 24\"\n",
              "       width=\"24px\">\n",
              "    <path d=\"M0 0h24v24H0V0z\" fill=\"none\"/>\n",
              "    <path d=\"M18.56 5.44l.94 2.06.94-2.06 2.06-.94-2.06-.94-.94-2.06-.94 2.06-2.06.94zm-11 1L8.5 8.5l.94-2.06 2.06-.94-2.06-.94L8.5 2.5l-.94 2.06-2.06.94zm10 10l.94 2.06.94-2.06 2.06-.94-2.06-.94-.94-2.06-.94 2.06-2.06.94z\"/><path d=\"M17.41 7.96l-1.37-1.37c-.4-.4-.92-.59-1.43-.59-.52 0-1.04.2-1.43.59L10.3 9.45l-7.72 7.72c-.78.78-.78 2.05 0 2.83L4 21.41c.39.39.9.59 1.41.59.51 0 1.02-.2 1.41-.59l7.78-7.78 2.81-2.81c.8-.78.8-2.07 0-2.86zM5.41 20L4 18.59l7.72-7.72 1.47 1.35L5.41 20z\"/>\n",
              "  </svg>\n",
              "      </button>\n",
              "      \n",
              "  <style>\n",
              "    .colab-df-container {\n",
              "      display:flex;\n",
              "      flex-wrap:wrap;\n",
              "      gap: 12px;\n",
              "    }\n",
              "\n",
              "    .colab-df-convert {\n",
              "      background-color: #E8F0FE;\n",
              "      border: none;\n",
              "      border-radius: 50%;\n",
              "      cursor: pointer;\n",
              "      display: none;\n",
              "      fill: #1967D2;\n",
              "      height: 32px;\n",
              "      padding: 0 0 0 0;\n",
              "      width: 32px;\n",
              "    }\n",
              "\n",
              "    .colab-df-convert:hover {\n",
              "      background-color: #E2EBFA;\n",
              "      box-shadow: 0px 1px 2px rgba(60, 64, 67, 0.3), 0px 1px 3px 1px rgba(60, 64, 67, 0.15);\n",
              "      fill: #174EA6;\n",
              "    }\n",
              "\n",
              "    [theme=dark] .colab-df-convert {\n",
              "      background-color: #3B4455;\n",
              "      fill: #D2E3FC;\n",
              "    }\n",
              "\n",
              "    [theme=dark] .colab-df-convert:hover {\n",
              "      background-color: #434B5C;\n",
              "      box-shadow: 0px 1px 3px 1px rgba(0, 0, 0, 0.15);\n",
              "      filter: drop-shadow(0px 1px 2px rgba(0, 0, 0, 0.3));\n",
              "      fill: #FFFFFF;\n",
              "    }\n",
              "  </style>\n",
              "\n",
              "      <script>\n",
              "        const buttonEl =\n",
              "          document.querySelector('#df-ffc76fdb-8d74-4c6e-91c5-351d93490c7f button.colab-df-convert');\n",
              "        buttonEl.style.display =\n",
              "          google.colab.kernel.accessAllowed ? 'block' : 'none';\n",
              "\n",
              "        async function convertToInteractive(key) {\n",
              "          const element = document.querySelector('#df-ffc76fdb-8d74-4c6e-91c5-351d93490c7f');\n",
              "          const dataTable =\n",
              "            await google.colab.kernel.invokeFunction('convertToInteractive',\n",
              "                                                     [key], {});\n",
              "          if (!dataTable) return;\n",
              "\n",
              "          const docLinkHtml = 'Like what you see? Visit the ' +\n",
              "            '<a target=\"_blank\" href=https://colab.research.google.com/notebooks/data_table.ipynb>data table notebook</a>'\n",
              "            + ' to learn more about interactive tables.';\n",
              "          element.innerHTML = '';\n",
              "          dataTable['output_type'] = 'display_data';\n",
              "          await google.colab.output.renderOutput(dataTable, element);\n",
              "          const docLink = document.createElement('div');\n",
              "          docLink.innerHTML = docLinkHtml;\n",
              "          element.appendChild(docLink);\n",
              "        }\n",
              "      </script>\n",
              "    </div>\n",
              "  </div>\n",
              "  "
            ]
          },
          "metadata": {},
          "execution_count": 45
        }
      ]
    },
    {
      "cell_type": "code",
      "source": [
        "# Geography and Gender are Categorical Variables\n",
        "# Creating dummy variables\n",
        "geography = pd.get_dummies(X[\"Geography\"],drop_first=True)\n",
        "gender = pd.get_dummies(X[\"Gender\"],drop_first=True)"
      ],
      "metadata": {
        "id": "MC-amz5TY4kr"
      },
      "execution_count": 46,
      "outputs": []
    },
    {
      "cell_type": "code",
      "source": [
        "# Concating the dataframes\n",
        "X = pd.concat([X,geography,gender], axis=1)"
      ],
      "metadata": {
        "id": "oWMsCuBJZJz9"
      },
      "execution_count": 47,
      "outputs": []
    },
    {
      "cell_type": "code",
      "source": [
        "# Dropping Unnecessary columns that have already been dummied\n",
        "X = X.drop([\"Geography\",\"Gender\"],axis=1)"
      ],
      "metadata": {
        "id": "0p9aPVZ0ZQq4"
      },
      "execution_count": 48,
      "outputs": []
    },
    {
      "cell_type": "code",
      "source": [
        "# Splitting the dataset into Training and Testing Set\n",
        "from sklearn.model_selection import train_test_split\n",
        "X_train,X_test,y_train,y_test = train_test_split(X,y,test_size =0.2, random_state =0)\n"
      ],
      "metadata": {
        "id": "qFsQJQ8EZZFn"
      },
      "execution_count": 49,
      "outputs": []
    },
    {
      "cell_type": "code",
      "source": [
        "# Feature Scaling\n",
        "from sklearn.preprocessing import StandardScaler\n",
        "sc = StandardScaler()\n",
        "X_train = sc.fit_transform(X_train)\n",
        "X_test = sc.transform(X_test)"
      ],
      "metadata": {
        "id": "UxykHQ2wZsy8"
      },
      "execution_count": 50,
      "outputs": []
    },
    {
      "cell_type": "markdown",
      "source": [
        "# Part 2- Making the ANN"
      ],
      "metadata": {
        "id": "eiSzoT3oZ-06"
      }
    },
    {
      "cell_type": "code",
      "source": [
        "import keras\n",
        "from keras.models import Sequential\n",
        "from keras.layers import Dense\n",
        "from keras.layers import LeakyReLU,PReLU,ELU\n",
        "from keras.layers import Dropout"
      ],
      "metadata": {
        "id": "wq0yl-1BaDJa"
      },
      "execution_count": 51,
      "outputs": []
    },
    {
      "cell_type": "code",
      "source": [
        "# Initialize the ANN\n",
        "classifier = Sequential()"
      ],
      "metadata": {
        "id": "V_rZnso-aZdl"
      },
      "execution_count": 52,
      "outputs": []
    },
    {
      "cell_type": "code",
      "source": [
        "# Adding the input layer and the first hidden layer\n",
        "classifier.add(Dense(units = 6, kernel_initializer = 'he_uniform',activation='relu',input_dim = 11))\n",
        "# Adding a Dropout Layer\n",
        "classifier.add(Dropout(0.4))"
      ],
      "metadata": {
        "id": "OFl6bLm0au_5"
      },
      "execution_count": 53,
      "outputs": []
    },
    {
      "cell_type": "code",
      "source": [
        "# Adding the second input layer\n",
        "classifier.add(Dense(units =6, kernel_initializer = 'he_uniform', activation = 'relu'))\n",
        "# Adding a Dropout Layer\n",
        "classifier.add(Dropout(0.2))"
      ],
      "metadata": {
        "id": "8OvsEhhxbjKh"
      },
      "execution_count": 54,
      "outputs": []
    },
    {
      "cell_type": "code",
      "source": [
        "# Adding the Output Layer\n",
        "classifier.add(Dense(units =1, kernel_initializer='glorot_uniform', activation ='sigmoid'))"
      ],
      "metadata": {
        "id": "WvpcHidPc1AE"
      },
      "execution_count": 55,
      "outputs": []
    },
    {
      "cell_type": "code",
      "source": [
        "# Summary of the Classifier\n",
        "classifier.summary()"
      ],
      "metadata": {
        "colab": {
          "base_uri": "https://localhost:8080/"
        },
        "id": "tfYFJLjKdD-y",
        "outputId": "a3b0a1b3-9cea-41c7-c4e6-de94658281fd"
      },
      "execution_count": 56,
      "outputs": [
        {
          "output_type": "stream",
          "name": "stdout",
          "text": [
            "Model: \"sequential_1\"\n",
            "_________________________________________________________________\n",
            " Layer (type)                Output Shape              Param #   \n",
            "=================================================================\n",
            " dense_8 (Dense)             (None, 6)                 72        \n",
            "                                                                 \n",
            " dropout_2 (Dropout)         (None, 6)                 0         \n",
            "                                                                 \n",
            " dense_9 (Dense)             (None, 6)                 42        \n",
            "                                                                 \n",
            " dropout_3 (Dropout)         (None, 6)                 0         \n",
            "                                                                 \n",
            " dense_10 (Dense)            (None, 1)                 7         \n",
            "                                                                 \n",
            "=================================================================\n",
            "Total params: 121\n",
            "Trainable params: 121\n",
            "Non-trainable params: 0\n",
            "_________________________________________________________________\n"
          ]
        }
      ]
    },
    {
      "cell_type": "code",
      "source": [
        "# Compiling the ANN Model\n",
        "classifier.compile(optimizer = 'Adamax', loss = 'binary_crossentropy', metrics = ['accuracy'])"
      ],
      "metadata": {
        "id": "Ln9WmQPbdQ2f"
      },
      "execution_count": 57,
      "outputs": []
    },
    {
      "cell_type": "code",
      "source": [
        "# Fitting the ANN to the training set\n",
        "model_history=classifier.fit(X_train, y_train,validation_split=0.33, batch_size = 10, epochs = 100)"
      ],
      "metadata": {
        "colab": {
          "base_uri": "https://localhost:8080/"
        },
        "id": "ewfrQXHUdsX-",
        "outputId": "ddad1f89-a3aa-47e3-dccb-512b7fcaacf4"
      },
      "execution_count": 58,
      "outputs": [
        {
          "output_type": "stream",
          "name": "stdout",
          "text": [
            "Epoch 1/100\n",
            "536/536 [==============================] - 2s 3ms/step - loss: 0.6498 - accuracy: 0.7330 - val_loss: 0.5383 - val_accuracy: 0.7948\n",
            "Epoch 2/100\n",
            "536/536 [==============================] - 1s 2ms/step - loss: 0.6139 - accuracy: 0.7574 - val_loss: 0.5158 - val_accuracy: 0.7952\n",
            "Epoch 3/100\n",
            "536/536 [==============================] - 1s 2ms/step - loss: 0.5720 - accuracy: 0.7681 - val_loss: 0.5006 - val_accuracy: 0.7952\n",
            "Epoch 4/100\n",
            "536/536 [==============================] - 1s 2ms/step - loss: 0.5478 - accuracy: 0.7705 - val_loss: 0.4908 - val_accuracy: 0.7955\n",
            "Epoch 5/100\n",
            "536/536 [==============================] - 1s 2ms/step - loss: 0.5349 - accuracy: 0.7815 - val_loss: 0.4830 - val_accuracy: 0.7955\n",
            "Epoch 6/100\n",
            "536/536 [==============================] - 1s 2ms/step - loss: 0.5185 - accuracy: 0.7873 - val_loss: 0.4776 - val_accuracy: 0.7955\n",
            "Epoch 7/100\n",
            "536/536 [==============================] - 1s 2ms/step - loss: 0.5066 - accuracy: 0.7899 - val_loss: 0.4726 - val_accuracy: 0.7955\n",
            "Epoch 8/100\n",
            "536/536 [==============================] - 2s 3ms/step - loss: 0.5022 - accuracy: 0.7921 - val_loss: 0.4696 - val_accuracy: 0.7955\n",
            "Epoch 9/100\n",
            "536/536 [==============================] - 4s 7ms/step - loss: 0.4907 - accuracy: 0.7904 - val_loss: 0.4659 - val_accuracy: 0.7955\n",
            "Epoch 10/100\n",
            "536/536 [==============================] - 4s 8ms/step - loss: 0.4913 - accuracy: 0.7940 - val_loss: 0.4629 - val_accuracy: 0.7955\n",
            "Epoch 11/100\n",
            "536/536 [==============================] - 5s 9ms/step - loss: 0.4865 - accuracy: 0.7925 - val_loss: 0.4606 - val_accuracy: 0.7955\n",
            "Epoch 12/100\n",
            "536/536 [==============================] - 5s 9ms/step - loss: 0.4782 - accuracy: 0.7949 - val_loss: 0.4577 - val_accuracy: 0.7955\n",
            "Epoch 13/100\n",
            "536/536 [==============================] - 5s 10ms/step - loss: 0.4762 - accuracy: 0.7981 - val_loss: 0.4555 - val_accuracy: 0.7955\n",
            "Epoch 14/100\n",
            "536/536 [==============================] - 4s 7ms/step - loss: 0.4784 - accuracy: 0.7979 - val_loss: 0.4537 - val_accuracy: 0.7959\n",
            "Epoch 15/100\n",
            "536/536 [==============================] - 6s 10ms/step - loss: 0.4688 - accuracy: 0.7988 - val_loss: 0.4511 - val_accuracy: 0.7955\n",
            "Epoch 16/100\n",
            "536/536 [==============================] - 4s 7ms/step - loss: 0.4708 - accuracy: 0.8041 - val_loss: 0.4491 - val_accuracy: 0.7955\n",
            "Epoch 17/100\n",
            "536/536 [==============================] - 5s 10ms/step - loss: 0.4641 - accuracy: 0.8013 - val_loss: 0.4472 - val_accuracy: 0.7955\n",
            "Epoch 18/100\n",
            "536/536 [==============================] - 5s 9ms/step - loss: 0.4686 - accuracy: 0.8000 - val_loss: 0.4464 - val_accuracy: 0.7955\n",
            "Epoch 19/100\n",
            "536/536 [==============================] - 4s 7ms/step - loss: 0.4674 - accuracy: 0.8000 - val_loss: 0.4452 - val_accuracy: 0.7955\n",
            "Epoch 20/100\n",
            "536/536 [==============================] - 3s 5ms/step - loss: 0.4677 - accuracy: 0.8050 - val_loss: 0.4443 - val_accuracy: 0.7955\n",
            "Epoch 21/100\n",
            "536/536 [==============================] - 3s 6ms/step - loss: 0.4652 - accuracy: 0.8031 - val_loss: 0.4436 - val_accuracy: 0.7955\n",
            "Epoch 22/100\n",
            "536/536 [==============================] - 3s 5ms/step - loss: 0.4586 - accuracy: 0.8059 - val_loss: 0.4425 - val_accuracy: 0.7952\n",
            "Epoch 23/100\n",
            "536/536 [==============================] - 2s 4ms/step - loss: 0.4614 - accuracy: 0.8033 - val_loss: 0.4421 - val_accuracy: 0.7952\n",
            "Epoch 24/100\n",
            "536/536 [==============================] - 3s 5ms/step - loss: 0.4632 - accuracy: 0.8024 - val_loss: 0.4417 - val_accuracy: 0.7955\n",
            "Epoch 25/100\n",
            "536/536 [==============================] - 4s 7ms/step - loss: 0.4566 - accuracy: 0.8057 - val_loss: 0.4404 - val_accuracy: 0.7955\n",
            "Epoch 26/100\n",
            "536/536 [==============================] - 3s 5ms/step - loss: 0.4604 - accuracy: 0.8044 - val_loss: 0.4399 - val_accuracy: 0.7955\n",
            "Epoch 27/100\n",
            "536/536 [==============================] - 3s 5ms/step - loss: 0.4541 - accuracy: 0.8085 - val_loss: 0.4387 - val_accuracy: 0.7952\n",
            "Epoch 28/100\n",
            "536/536 [==============================] - 3s 5ms/step - loss: 0.4555 - accuracy: 0.8048 - val_loss: 0.4381 - val_accuracy: 0.7952\n",
            "Epoch 29/100\n",
            "536/536 [==============================] - 1s 3ms/step - loss: 0.4545 - accuracy: 0.8046 - val_loss: 0.4376 - val_accuracy: 0.7955\n",
            "Epoch 30/100\n",
            "536/536 [==============================] - 1s 2ms/step - loss: 0.4534 - accuracy: 0.8056 - val_loss: 0.4366 - val_accuracy: 0.7952\n",
            "Epoch 31/100\n",
            "536/536 [==============================] - 1s 3ms/step - loss: 0.4514 - accuracy: 0.8071 - val_loss: 0.4363 - val_accuracy: 0.7952\n",
            "Epoch 32/100\n",
            "536/536 [==============================] - 1s 2ms/step - loss: 0.4509 - accuracy: 0.8072 - val_loss: 0.4349 - val_accuracy: 0.7952\n",
            "Epoch 33/100\n",
            "536/536 [==============================] - 1s 3ms/step - loss: 0.4533 - accuracy: 0.8087 - val_loss: 0.4343 - val_accuracy: 0.7952\n",
            "Epoch 34/100\n",
            "536/536 [==============================] - 1s 2ms/step - loss: 0.4509 - accuracy: 0.8072 - val_loss: 0.4338 - val_accuracy: 0.7952\n",
            "Epoch 35/100\n",
            "536/536 [==============================] - 1s 2ms/step - loss: 0.4503 - accuracy: 0.8072 - val_loss: 0.4334 - val_accuracy: 0.7952\n",
            "Epoch 36/100\n",
            "536/536 [==============================] - 1s 2ms/step - loss: 0.4505 - accuracy: 0.8044 - val_loss: 0.4334 - val_accuracy: 0.7955\n",
            "Epoch 37/100\n",
            "536/536 [==============================] - 1s 2ms/step - loss: 0.4471 - accuracy: 0.8065 - val_loss: 0.4324 - val_accuracy: 0.7952\n",
            "Epoch 38/100\n",
            "536/536 [==============================] - 2s 3ms/step - loss: 0.4478 - accuracy: 0.8072 - val_loss: 0.4315 - val_accuracy: 0.7952\n",
            "Epoch 39/100\n",
            "536/536 [==============================] - 1s 2ms/step - loss: 0.4517 - accuracy: 0.8067 - val_loss: 0.4312 - val_accuracy: 0.7955\n",
            "Epoch 40/100\n",
            "536/536 [==============================] - 1s 2ms/step - loss: 0.4477 - accuracy: 0.8071 - val_loss: 0.4308 - val_accuracy: 0.7959\n",
            "Epoch 41/100\n",
            "536/536 [==============================] - 1s 2ms/step - loss: 0.4481 - accuracy: 0.8078 - val_loss: 0.4305 - val_accuracy: 0.7959\n",
            "Epoch 42/100\n",
            "536/536 [==============================] - 1s 2ms/step - loss: 0.4467 - accuracy: 0.8063 - val_loss: 0.4305 - val_accuracy: 0.7959\n",
            "Epoch 43/100\n",
            "536/536 [==============================] - 1s 2ms/step - loss: 0.4499 - accuracy: 0.8059 - val_loss: 0.4307 - val_accuracy: 0.7952\n",
            "Epoch 44/100\n",
            "536/536 [==============================] - 1s 2ms/step - loss: 0.4520 - accuracy: 0.8044 - val_loss: 0.4306 - val_accuracy: 0.7952\n",
            "Epoch 45/100\n",
            "536/536 [==============================] - 1s 2ms/step - loss: 0.4421 - accuracy: 0.8072 - val_loss: 0.4296 - val_accuracy: 0.7952\n",
            "Epoch 46/100\n",
            "536/536 [==============================] - 1s 2ms/step - loss: 0.4450 - accuracy: 0.8085 - val_loss: 0.4292 - val_accuracy: 0.7955\n",
            "Epoch 47/100\n",
            "536/536 [==============================] - 1s 2ms/step - loss: 0.4463 - accuracy: 0.8035 - val_loss: 0.4295 - val_accuracy: 0.7948\n",
            "Epoch 48/100\n",
            "536/536 [==============================] - 1s 2ms/step - loss: 0.4417 - accuracy: 0.8076 - val_loss: 0.4280 - val_accuracy: 0.7955\n",
            "Epoch 49/100\n",
            "536/536 [==============================] - 1s 2ms/step - loss: 0.4424 - accuracy: 0.8089 - val_loss: 0.4279 - val_accuracy: 0.7955\n",
            "Epoch 50/100\n",
            "536/536 [==============================] - 1s 2ms/step - loss: 0.4432 - accuracy: 0.8050 - val_loss: 0.4283 - val_accuracy: 0.7948\n",
            "Epoch 51/100\n",
            "536/536 [==============================] - 1s 2ms/step - loss: 0.4423 - accuracy: 0.8057 - val_loss: 0.4278 - val_accuracy: 0.7952\n",
            "Epoch 52/100\n",
            "536/536 [==============================] - 1s 2ms/step - loss: 0.4455 - accuracy: 0.8071 - val_loss: 0.4279 - val_accuracy: 0.7952\n",
            "Epoch 53/100\n",
            "536/536 [==============================] - 1s 2ms/step - loss: 0.4414 - accuracy: 0.8080 - val_loss: 0.4277 - val_accuracy: 0.7948\n",
            "Epoch 54/100\n",
            "536/536 [==============================] - 1s 2ms/step - loss: 0.4385 - accuracy: 0.8132 - val_loss: 0.4265 - val_accuracy: 0.7955\n",
            "Epoch 55/100\n",
            "536/536 [==============================] - 1s 2ms/step - loss: 0.4395 - accuracy: 0.8057 - val_loss: 0.4264 - val_accuracy: 0.7952\n",
            "Epoch 56/100\n",
            "536/536 [==============================] - 1s 2ms/step - loss: 0.4386 - accuracy: 0.8093 - val_loss: 0.4257 - val_accuracy: 0.7955\n",
            "Epoch 57/100\n",
            "536/536 [==============================] - 1s 2ms/step - loss: 0.4449 - accuracy: 0.8100 - val_loss: 0.4264 - val_accuracy: 0.7952\n",
            "Epoch 58/100\n",
            "536/536 [==============================] - 1s 2ms/step - loss: 0.4418 - accuracy: 0.8074 - val_loss: 0.4259 - val_accuracy: 0.7955\n",
            "Epoch 59/100\n",
            "536/536 [==============================] - 1s 2ms/step - loss: 0.4428 - accuracy: 0.8085 - val_loss: 0.4258 - val_accuracy: 0.7955\n",
            "Epoch 60/100\n",
            "536/536 [==============================] - 1s 2ms/step - loss: 0.4384 - accuracy: 0.8143 - val_loss: 0.4255 - val_accuracy: 0.7952\n",
            "Epoch 61/100\n",
            "536/536 [==============================] - 1s 2ms/step - loss: 0.4402 - accuracy: 0.8097 - val_loss: 0.4249 - val_accuracy: 0.7952\n",
            "Epoch 62/100\n",
            "536/536 [==============================] - 1s 2ms/step - loss: 0.4420 - accuracy: 0.8091 - val_loss: 0.4259 - val_accuracy: 0.7952\n",
            "Epoch 63/100\n",
            "536/536 [==============================] - 1s 2ms/step - loss: 0.4369 - accuracy: 0.8108 - val_loss: 0.4247 - val_accuracy: 0.7952\n",
            "Epoch 64/100\n",
            "536/536 [==============================] - 1s 2ms/step - loss: 0.4371 - accuracy: 0.8115 - val_loss: 0.4248 - val_accuracy: 0.7948\n",
            "Epoch 65/100\n",
            "536/536 [==============================] - 1s 2ms/step - loss: 0.4326 - accuracy: 0.8145 - val_loss: 0.4237 - val_accuracy: 0.7952\n",
            "Epoch 66/100\n",
            "536/536 [==============================] - 1s 2ms/step - loss: 0.4385 - accuracy: 0.8121 - val_loss: 0.4239 - val_accuracy: 0.7948\n",
            "Epoch 67/100\n",
            "536/536 [==============================] - 1s 2ms/step - loss: 0.4442 - accuracy: 0.8100 - val_loss: 0.4248 - val_accuracy: 0.7952\n",
            "Epoch 68/100\n",
            "536/536 [==============================] - 1s 2ms/step - loss: 0.4385 - accuracy: 0.8125 - val_loss: 0.4245 - val_accuracy: 0.7948\n",
            "Epoch 69/100\n",
            "536/536 [==============================] - 1s 2ms/step - loss: 0.4360 - accuracy: 0.8123 - val_loss: 0.4240 - val_accuracy: 0.7944\n",
            "Epoch 70/100\n",
            "536/536 [==============================] - 1s 3ms/step - loss: 0.4384 - accuracy: 0.8089 - val_loss: 0.4241 - val_accuracy: 0.7944\n",
            "Epoch 71/100\n",
            "536/536 [==============================] - 1s 2ms/step - loss: 0.4337 - accuracy: 0.8130 - val_loss: 0.4238 - val_accuracy: 0.7948\n",
            "Epoch 72/100\n",
            "536/536 [==============================] - 2s 4ms/step - loss: 0.4390 - accuracy: 0.8112 - val_loss: 0.4236 - val_accuracy: 0.7952\n",
            "Epoch 73/100\n",
            "536/536 [==============================] - 1s 3ms/step - loss: 0.4322 - accuracy: 0.8143 - val_loss: 0.4231 - val_accuracy: 0.7952\n",
            "Epoch 74/100\n",
            "536/536 [==============================] - 1s 2ms/step - loss: 0.4369 - accuracy: 0.8134 - val_loss: 0.4224 - val_accuracy: 0.7952\n",
            "Epoch 75/100\n",
            "536/536 [==============================] - 1s 2ms/step - loss: 0.4375 - accuracy: 0.8127 - val_loss: 0.4227 - val_accuracy: 0.7959\n",
            "Epoch 76/100\n",
            "536/536 [==============================] - 2s 4ms/step - loss: 0.4364 - accuracy: 0.8113 - val_loss: 0.4227 - val_accuracy: 0.7959\n",
            "Epoch 77/100\n",
            "536/536 [==============================] - 2s 5ms/step - loss: 0.4401 - accuracy: 0.8065 - val_loss: 0.4232 - val_accuracy: 0.7963\n",
            "Epoch 78/100\n",
            "536/536 [==============================] - 1s 3ms/step - loss: 0.4355 - accuracy: 0.8115 - val_loss: 0.4234 - val_accuracy: 0.7963\n",
            "Epoch 79/100\n",
            "536/536 [==============================] - 2s 3ms/step - loss: 0.4323 - accuracy: 0.8168 - val_loss: 0.4225 - val_accuracy: 0.7963\n",
            "Epoch 80/100\n",
            "536/536 [==============================] - 1s 3ms/step - loss: 0.4398 - accuracy: 0.8112 - val_loss: 0.4237 - val_accuracy: 0.7963\n",
            "Epoch 81/100\n",
            "536/536 [==============================] - 1s 2ms/step - loss: 0.4390 - accuracy: 0.8108 - val_loss: 0.4233 - val_accuracy: 0.7967\n",
            "Epoch 82/100\n",
            "536/536 [==============================] - 1s 3ms/step - loss: 0.4354 - accuracy: 0.8130 - val_loss: 0.4234 - val_accuracy: 0.7967\n",
            "Epoch 83/100\n",
            "536/536 [==============================] - 1s 3ms/step - loss: 0.4351 - accuracy: 0.8127 - val_loss: 0.4227 - val_accuracy: 0.7967\n",
            "Epoch 84/100\n",
            "536/536 [==============================] - 2s 3ms/step - loss: 0.4399 - accuracy: 0.8099 - val_loss: 0.4232 - val_accuracy: 0.7970\n",
            "Epoch 85/100\n",
            "536/536 [==============================] - 2s 3ms/step - loss: 0.4342 - accuracy: 0.8099 - val_loss: 0.4230 - val_accuracy: 0.7974\n",
            "Epoch 86/100\n",
            "536/536 [==============================] - 1s 3ms/step - loss: 0.4334 - accuracy: 0.8184 - val_loss: 0.4220 - val_accuracy: 0.7974\n",
            "Epoch 87/100\n",
            "536/536 [==============================] - 1s 3ms/step - loss: 0.4344 - accuracy: 0.8141 - val_loss: 0.4221 - val_accuracy: 0.7974\n",
            "Epoch 88/100\n",
            "536/536 [==============================] - 2s 4ms/step - loss: 0.4322 - accuracy: 0.8153 - val_loss: 0.4218 - val_accuracy: 0.7974\n",
            "Epoch 89/100\n",
            "536/536 [==============================] - 2s 4ms/step - loss: 0.4308 - accuracy: 0.8156 - val_loss: 0.4213 - val_accuracy: 0.7974\n",
            "Epoch 90/100\n",
            "536/536 [==============================] - 1s 2ms/step - loss: 0.4351 - accuracy: 0.8115 - val_loss: 0.4216 - val_accuracy: 0.7974\n",
            "Epoch 91/100\n",
            "536/536 [==============================] - 1s 2ms/step - loss: 0.4376 - accuracy: 0.8134 - val_loss: 0.4219 - val_accuracy: 0.7974\n",
            "Epoch 92/100\n",
            "536/536 [==============================] - 1s 2ms/step - loss: 0.4382 - accuracy: 0.8091 - val_loss: 0.4224 - val_accuracy: 0.7974\n",
            "Epoch 93/100\n",
            "536/536 [==============================] - 1s 2ms/step - loss: 0.4292 - accuracy: 0.8160 - val_loss: 0.4216 - val_accuracy: 0.7974\n",
            "Epoch 94/100\n",
            "536/536 [==============================] - 1s 2ms/step - loss: 0.4270 - accuracy: 0.8192 - val_loss: 0.4212 - val_accuracy: 0.7978\n",
            "Epoch 95/100\n",
            "536/536 [==============================] - 1s 2ms/step - loss: 0.4329 - accuracy: 0.8140 - val_loss: 0.4211 - val_accuracy: 0.7978\n",
            "Epoch 96/100\n",
            "536/536 [==============================] - 1s 3ms/step - loss: 0.4317 - accuracy: 0.8121 - val_loss: 0.4213 - val_accuracy: 0.7986\n",
            "Epoch 97/100\n",
            "536/536 [==============================] - 1s 2ms/step - loss: 0.4402 - accuracy: 0.8097 - val_loss: 0.4221 - val_accuracy: 0.7986\n",
            "Epoch 98/100\n",
            "536/536 [==============================] - 1s 2ms/step - loss: 0.4343 - accuracy: 0.8115 - val_loss: 0.4226 - val_accuracy: 0.7997\n",
            "Epoch 99/100\n",
            "536/536 [==============================] - 1s 2ms/step - loss: 0.4282 - accuracy: 0.8156 - val_loss: 0.4210 - val_accuracy: 0.7997\n",
            "Epoch 100/100\n",
            "536/536 [==============================] - 1s 2ms/step - loss: 0.4327 - accuracy: 0.8164 - val_loss: 0.4214 - val_accuracy: 0.7997\n"
          ]
        }
      ]
    },
    {
      "cell_type": "code",
      "source": [
        "# Predicting the test set results\n",
        "y_pred = classifier.predict(X_test)\n",
        "y_pred = (y_pred >0.5)"
      ],
      "metadata": {
        "id": "f4nyFcL1d88y"
      },
      "execution_count": 59,
      "outputs": []
    },
    {
      "cell_type": "code",
      "source": [
        "# Making the confusion Matrix\n",
        "from sklearn.metrics import confusion_matrix\n",
        "cm = confusion_matrix(y_test,y_pred)\n",
        "cm"
      ],
      "metadata": {
        "colab": {
          "base_uri": "https://localhost:8080/"
        },
        "id": "wgunGbRVfEuU",
        "outputId": "881c3a6c-91fe-4342-ab79-dc0bdb6956e6"
      },
      "execution_count": 60,
      "outputs": [
        {
          "output_type": "execute_result",
          "data": {
            "text/plain": [
              "array([[1592,    3],\n",
              "       [ 391,   14]])"
            ]
          },
          "metadata": {},
          "execution_count": 60
        }
      ]
    },
    {
      "cell_type": "code",
      "source": [
        "# Calculating the Accuracy\n",
        "from sklearn.metrics import accuracy_score\n",
        "score = accuracy_score(y_pred,y_test)\n",
        "score"
      ],
      "metadata": {
        "colab": {
          "base_uri": "https://localhost:8080/"
        },
        "id": "cJma915RfO6R",
        "outputId": "c52d74b2-ccb3-4a2e-efda-bc4cca957e89"
      },
      "execution_count": 61,
      "outputs": [
        {
          "output_type": "execute_result",
          "data": {
            "text/plain": [
              "0.803"
            ]
          },
          "metadata": {},
          "execution_count": 61
        }
      ]
    },
    {
      "cell_type": "code",
      "source": [
        "# List all Data in the history\n",
        "\n",
        "print(model_history.history.keys())"
      ],
      "metadata": {
        "colab": {
          "base_uri": "https://localhost:8080/"
        },
        "id": "UjBsXLwofYKV",
        "outputId": "42f19321-40ea-42b6-db00-a73252a6a3c9"
      },
      "execution_count": 62,
      "outputs": [
        {
          "output_type": "stream",
          "name": "stdout",
          "text": [
            "dict_keys(['loss', 'accuracy', 'val_loss', 'val_accuracy'])\n"
          ]
        }
      ]
    },
    {
      "cell_type": "code",
      "source": [
        "plt.plot(model_history.history['accuracy'])\n",
        "plt.plot(model_history.history['val_accuracy'])\n",
        "plt.title('model accuracy')\n",
        "plt.ylabel('accuracy')\n",
        "plt.xlabel('epoch')\n",
        "plt.legend(['train','test'], loc='upper left')\n",
        "plt.show()"
      ],
      "metadata": {
        "colab": {
          "base_uri": "https://localhost:8080/",
          "height": 298
        },
        "id": "Mu7FulF8hfmP",
        "outputId": "25c5c95c-7a52-4aed-89e9-8ada977d1998"
      },
      "execution_count": 63,
      "outputs": [
        {
          "output_type": "execute_result",
          "data": {
            "text/plain": [
              "Text(0, 0.5, 'accuracy')"
            ]
          },
          "metadata": {},
          "execution_count": 63
        },
        {
          "output_type": "display_data",
          "data": {
            "text/plain": [
              "<Figure size 432x288 with 1 Axes>"
            ],
            "image/png": "[encoded data removed]"
          },
          "metadata": {
            "needs_background": "light"
          }
        }
      ]
    },
    {
      "cell_type": "code",
      "source": [
        ""
      ],
      "metadata": {
        "id": "HsLpAjln9G9G"
      },
      "execution_count": null,
      "outputs": []
    }
  ]
}